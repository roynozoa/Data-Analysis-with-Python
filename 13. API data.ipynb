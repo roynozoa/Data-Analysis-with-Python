{
 "metadata": {
  "language_info": {
   "codemirror_mode": {
    "name": "ipython",
    "version": 3
   },
   "file_extension": ".py",
   "mimetype": "text/x-python",
   "name": "python",
   "nbconvert_exporter": "python",
   "pygments_lexer": "ipython3",
   "version": "3.8.5-final"
  },
  "orig_nbformat": 2,
  "kernelspec": {
   "name": "Python 3.8.5 32-bit",
   "display_name": "Python 3.8.5 32-bit",
   "metadata": {
    "interpreter": {
     "hash": "4b206d4e30157135457942edf5f287cc66beec6c5bd72f81d81f03c16d57a14b"
    }
   }
  }
 },
 "nbformat": 4,
 "nbformat_minor": 2,
 "cells": [
  {
   "source": [
    "# Get Data from internet and using API"
   ],
   "cell_type": "markdown",
   "metadata": {}
  },
  {
   "cell_type": "code",
   "execution_count": 1,
   "metadata": {},
   "outputs": [],
   "source": [
    "## import library\n",
    "import numpy as np\n",
    "import pandas as pd\n",
    "import requests\n",
    "from urllib.request import urlretrieve, urlopen, Request"
   ]
  },
  {
   "cell_type": "code",
   "execution_count": 2,
   "metadata": {},
   "outputs": [],
   "source": [
    "url = 'https://s3.amazonaws.com/assets.datacamp.com/production/course_1606/datasets/winequality-red.csv'"
   ]
  },
  {
   "cell_type": "code",
   "execution_count": 3,
   "metadata": {},
   "outputs": [
    {
     "output_type": "execute_result",
     "data": {
      "text/plain": [
       "('data/csv/winequality-red.csv', <http.client.HTTPMessage at 0x5901280>)"
      ]
     },
     "metadata": {},
     "execution_count": 3
    }
   ],
   "source": [
    "# save file locally\n",
    "urlretrieve(url, 'data/csv/winequality-red.csv')"
   ]
  },
  {
   "cell_type": "code",
   "execution_count": 4,
   "metadata": {},
   "outputs": [
    {
     "output_type": "execute_result",
     "data": {
      "text/plain": [
       "   fixed acidity  volatile acidity  citric acid  residual sugar  chlorides  \\\n",
       "0            7.4              0.70         0.00             1.9      0.076   \n",
       "1            7.8              0.88         0.00             2.6      0.098   \n",
       "2            7.8              0.76         0.04             2.3      0.092   \n",
       "3           11.2              0.28         0.56             1.9      0.075   \n",
       "4            7.4              0.70         0.00             1.9      0.076   \n",
       "\n",
       "   free sulfur dioxide  total sulfur dioxide  density    pH  sulphates  \\\n",
       "0                 11.0                  34.0   0.9978  3.51       0.56   \n",
       "1                 25.0                  67.0   0.9968  3.20       0.68   \n",
       "2                 15.0                  54.0   0.9970  3.26       0.65   \n",
       "3                 17.0                  60.0   0.9980  3.16       0.58   \n",
       "4                 11.0                  34.0   0.9978  3.51       0.56   \n",
       "\n",
       "   alcohol  quality  \n",
       "0      9.4        5  \n",
       "1      9.8        5  \n",
       "2      9.8        5  \n",
       "3      9.8        6  \n",
       "4      9.4        5  "
      ],
      "text/html": "<div>\n<style scoped>\n    .dataframe tbody tr th:only-of-type {\n        vertical-align: middle;\n    }\n\n    .dataframe tbody tr th {\n        vertical-align: top;\n    }\n\n    .dataframe thead th {\n        text-align: right;\n    }\n</style>\n<table border=\"1\" class=\"dataframe\">\n  <thead>\n    <tr style=\"text-align: right;\">\n      <th></th>\n      <th>fixed acidity</th>\n      <th>volatile acidity</th>\n      <th>citric acid</th>\n      <th>residual sugar</th>\n      <th>chlorides</th>\n      <th>free sulfur dioxide</th>\n      <th>total sulfur dioxide</th>\n      <th>density</th>\n      <th>pH</th>\n      <th>sulphates</th>\n      <th>alcohol</th>\n      <th>quality</th>\n    </tr>\n  </thead>\n  <tbody>\n    <tr>\n      <th>0</th>\n      <td>7.4</td>\n      <td>0.70</td>\n      <td>0.00</td>\n      <td>1.9</td>\n      <td>0.076</td>\n      <td>11.0</td>\n      <td>34.0</td>\n      <td>0.9978</td>\n      <td>3.51</td>\n      <td>0.56</td>\n      <td>9.4</td>\n      <td>5</td>\n    </tr>\n    <tr>\n      <th>1</th>\n      <td>7.8</td>\n      <td>0.88</td>\n      <td>0.00</td>\n      <td>2.6</td>\n      <td>0.098</td>\n      <td>25.0</td>\n      <td>67.0</td>\n      <td>0.9968</td>\n      <td>3.20</td>\n      <td>0.68</td>\n      <td>9.8</td>\n      <td>5</td>\n    </tr>\n    <tr>\n      <th>2</th>\n      <td>7.8</td>\n      <td>0.76</td>\n      <td>0.04</td>\n      <td>2.3</td>\n      <td>0.092</td>\n      <td>15.0</td>\n      <td>54.0</td>\n      <td>0.9970</td>\n      <td>3.26</td>\n      <td>0.65</td>\n      <td>9.8</td>\n      <td>5</td>\n    </tr>\n    <tr>\n      <th>3</th>\n      <td>11.2</td>\n      <td>0.28</td>\n      <td>0.56</td>\n      <td>1.9</td>\n      <td>0.075</td>\n      <td>17.0</td>\n      <td>60.0</td>\n      <td>0.9980</td>\n      <td>3.16</td>\n      <td>0.58</td>\n      <td>9.8</td>\n      <td>6</td>\n    </tr>\n    <tr>\n      <th>4</th>\n      <td>7.4</td>\n      <td>0.70</td>\n      <td>0.00</td>\n      <td>1.9</td>\n      <td>0.076</td>\n      <td>11.0</td>\n      <td>34.0</td>\n      <td>0.9978</td>\n      <td>3.51</td>\n      <td>0.56</td>\n      <td>9.4</td>\n      <td>5</td>\n    </tr>\n  </tbody>\n</table>\n</div>"
     },
     "metadata": {},
     "execution_count": 4
    }
   ],
   "source": [
    "pd.read_csv(url, sep=';').head()"
   ]
  },
  {
   "source": [
    "## HTTP GET request"
   ],
   "cell_type": "markdown",
   "metadata": {}
  },
  {
   "cell_type": "code",
   "execution_count": 5,
   "metadata": {},
   "outputs": [],
   "source": [
    "# basic concept of GET requests\n",
    "url = 'https://www.wikipedia.org'\n",
    "req = Request(url)\n",
    "response = urlopen(req)\n",
    "html = response.read()\n",
    "response.close()"
   ]
  },
  {
   "cell_type": "code",
   "execution_count": 6,
   "metadata": {},
   "outputs": [],
   "source": [
    "# another basic GET requests with requests\n",
    "url = 'https://www.python.org/~guido/'\n",
    "req = requests.get(url)\n",
    "text = req.text"
   ]
  },
  {
   "source": [
    "## Scrapping the web in Python\n",
    "using BeautifulSoup"
   ],
   "cell_type": "markdown",
   "metadata": {}
  },
  {
   "cell_type": "code",
   "execution_count": 7,
   "metadata": {},
   "outputs": [],
   "source": [
    "# import library\n",
    "from bs4 import BeautifulSoup"
   ]
  },
  {
   "cell_type": "code",
   "execution_count": 8,
   "metadata": {
    "tags": []
   },
   "outputs": [
    {
     "output_type": "stream",
     "name": "stdout",
     "text": [
      "<html>\n <head>\n  <title>\n   Guido's Personal Home Page\n  </title>\n </head>\n <body bgcolor=\"#FFFFFF\" text=\"#000000\">\n  <h1>\n   <a href=\"pics.html\">\n    <img border=\"0\" src=\"images/IMG_2192.jpg\"/>\n   </a>\n   Guido van Rossum - Personal Home Page\n   <a href=\"pics.html\">\n    <img border=\"0\" height=\"216\" src=\"images/guido-headshot-2019.jpg\" width=\"270\"/>\n   </a>\n  </h1>\n  <p>\n   <a href=\"http://www.washingtonpost.com/wp-srv/business/longterm/microsoft/stories/1998/raymond120398.htm\">\n    <i>\n     \"Gawky and proud of it.\"\n    </i>\n   </a>\n  </p>\n  <h3>\n   <a href=\"images/df20000406.jpg\">\n    Who I Am\n   </a>\n  </h3>\n  <p>\n   Read\nmy\n   <a href=\"http://neopythonic.blogspot.com/2016/04/kings-day-speech.html\">\n    \"King's\nDay Speech\"\n   </a>\n   for some inspiration.\n  </p>\n  <p>\n   I am the author of the\n   <a href=\"http://www.python.org\">\n    Python\n   </a>\n   programming language.  See also my\n   <a href=\"Resume.html\">\n    resume\n   </a>\n   and my\n   <a href=\"Publications.html\">\n    publications list\n   </a>\n   , a\n   <a href=\"bio.html\">\n    brief bio\n   </a>\n   , assorted\n   <a href=\"http://legacy.python.org/doc/essays/\">\n    writings\n   </a>\n   ,\n   <a href=\"http://legacy.python.org/doc/essays/ppt/\">\n    presentations\n   </a>\n   and\n   <a href=\"interviews.html\">\n    interviews\n   </a>\n   (all about Python), some\n   <a href=\"pics.html\">\n    pictures of me\n   </a>\n   ,\n   <a href=\"http://neopythonic.blogspot.com\">\n    my new blog\n   </a>\n   , and\nmy\n   <a href=\"http://www.artima.com/weblogs/index.jsp?blogger=12088\">\n    old\nblog\n   </a>\n   on Artima.com.  I am\n   <a href=\"https://twitter.com/gvanrossum\">\n    @gvanrossum\n   </a>\n   on Twitter.\n  </p>\n  <p>\n   I am retired, working on personal projects (and maybe a book).\nI have worked for Dropbox, Google, Elemental Security, Zope\nCorporation, BeOpen.com, CNRI, CWI, and SARA.  (See\nmy\n   <a href=\"Resume.html\">\n    resume\n   </a>\n   .)  I created Python while at CWI.\n  </p>\n  <h3>\n   How to Reach Me\n  </h3>\n  <p>\n   You can send email for me to guido (at) python.org.\nI read everything sent there, but I receive too much email to respond\nto everything.\n  </p>\n  <h3>\n   My Name\n  </h3>\n  <p>\n   My name often poses difficulties for Americans.\n  </p>\n  <p>\n   <b>\n    Pronunciation:\n   </b>\n   in Dutch, the \"G\" in Guido is a hard G,\npronounced roughly like the \"ch\" in Scottish \"loch\".  (Listen to the\n   <a href=\"guido.au\">\n    sound clip\n   </a>\n   .)  However, if you're\nAmerican, you may also pronounce it as the Italian \"Guido\".  I'm not\ntoo worried about the associations with mob assassins that some people\nhave. :-)\n  </p>\n  <p>\n   <b>\n    Spelling:\n   </b>\n   my last name is two words, and I'd like to keep it\nthat way, the spelling on some of my credit cards notwithstanding.\nDutch spelling rules dictate that when used in combination with my\nfirst name, \"van\" is not capitalized: \"Guido van Rossum\".  But when my\nlast name is used alone to refer to me, it is capitalized, for\nexample: \"As usual, Van Rossum was right.\"\n  </p>\n  <p>\n   <b>\n    Alphabetization:\n   </b>\n   in America, I show up in the alphabet under\n\"V\".  But in Europe, I show up under \"R\".  And some of my friends put\nme under \"G\" in their address book...\n  </p>\n  <h3>\n   More Hyperlinks\n  </h3>\n  <ul>\n   <li>\n    Here's a collection of\n    <a href=\"http://legacy.python.org/doc/essays/\">\n     essays\n    </a>\n    relating to Python\nthat I've written, including the foreword I wrote for Mark Lutz' book\n\"Programming Python\".\n    <p>\n    </p>\n   </li>\n   <li>\n    I own the official\n    <a href=\"images/license.jpg\">\n     <img align=\"center\" border=\"0\" height=\"75\" src=\"images/license_thumb.jpg\" width=\"100\"/>\n     Python license.\n    </a>\n    <p>\n    </p>\n   </li>\n  </ul>\n  <h3>\n   The Audio File Formats FAQ\n  </h3>\n  <p>\n   I was the original creator and maintainer of the Audio File Formats\nFAQ.  It is now maintained by Chris Bagwell\nat\n   <a href=\"http://www.cnpbagwell.com/audio-faq\">\n    http://www.cnpbagwell.com/audio-faq\n   </a>\n   .  And here is a link to\n   <a href=\"http://sox.sourceforge.net/\">\n    SOX\n   </a>\n   , to which I contributed\nsome early code.\n  </p>\n  <hr/>\n  <a href=\"images/internetdog.gif\">\n   \"On the Internet, nobody knows you're\na dog.\"\n  </a>\n  <hr/>\n </body>\n</html>\n"
     ]
    }
   ],
   "source": [
    "print(BeautifulSoup(text).prettify())"
   ]
  },
  {
   "cell_type": "code",
   "execution_count": 9,
   "metadata": {},
   "outputs": [
    {
     "output_type": "execute_result",
     "data": {
      "text/plain": [
       "<title>Guido's Personal Home Page</title>"
      ]
     },
     "metadata": {},
     "execution_count": 9
    }
   ],
   "source": [
    "BeautifulSoup(text).title"
   ]
  },
  {
   "cell_type": "code",
   "execution_count": 10,
   "metadata": {},
   "outputs": [
    {
     "output_type": "execute_result",
     "data": {
      "text/plain": [
       "'\\n\\nGuido\\'s Personal Home Page\\n\\n\\n\\n\\nGuido van Rossum - Personal Home Page\\n\\n\\n\"Gawky and proud of it.\"\\nWho I Am\\nRead\\nmy \"King\\'s\\nDay Speech\" for some inspiration.\\n\\nI am the author of the Python\\nprogramming language.  See also my resume\\nand my publications list, a brief bio, assorted writings, presentations and interviews (all about Python), some\\npictures of me,\\nmy new blog, and\\nmy old\\nblog on Artima.com.  I am\\n@gvanrossum on Twitter.\\n\\nI am retired, working on personal projects (and maybe a book).\\nI have worked for Dropbox, Google, Elemental Security, Zope\\nCorporation, BeOpen.com, CNRI, CWI, and SARA.  (See\\nmy resume.)  I created Python while at CWI.\\n\\nHow to Reach Me\\nYou can send email for me to guido (at) python.org.\\nI read everything sent there, but I receive too much email to respond\\nto everything.\\n\\nMy Name\\nMy name often poses difficulties for Americans.\\n\\nPronunciation: in Dutch, the \"G\" in Guido is a hard G,\\npronounced roughly like the \"ch\" in Scottish \"loch\".  (Listen to the\\nsound clip.)  However, if you\\'re\\nAmerican, you may also pronounce it as the Italian \"Guido\".  I\\'m not\\ntoo worried about the associations with mob assassins that some people\\nhave. :-)\\n\\nSpelling: my last name is two words, and I\\'d like to keep it\\nthat way, the spelling on some of my credit cards notwithstanding.\\nDutch spelling rules dictate that when used in combination with my\\nfirst name, \"van\" is not capitalized: \"Guido van Rossum\".  But when my\\nlast name is used alone to refer to me, it is capitalized, for\\nexample: \"As usual, Van Rossum was right.\"\\n\\nAlphabetization: in America, I show up in the alphabet under\\n\"V\".  But in Europe, I show up under \"R\".  And some of my friends put\\nme under \"G\" in their address book...\\n\\n\\nMore Hyperlinks\\n\\nHere\\'s a collection of essays relating to Python\\nthat I\\'ve written, including the foreword I wrote for Mark Lutz\\' book\\n\"Programming Python\".\\nI own the official \\nPython license.\\n\\nThe Audio File Formats FAQ\\nI was the original creator and maintainer of the Audio File Formats\\nFAQ.  It is now maintained by Chris Bagwell\\nat http://www.cnpbagwell.com/audio-faq.  And here is a link to\\nSOX, to which I contributed\\nsome early code.\\n\\n\\n\\n\\n\"On the Internet, nobody knows you\\'re\\na dog.\"\\n\\n\\n'"
      ]
     },
     "metadata": {},
     "execution_count": 10
    }
   ],
   "source": [
    "BeautifulSoup(text).get_text()"
   ]
  },
  {
   "cell_type": "code",
   "execution_count": 11,
   "metadata": {},
   "outputs": [
    {
     "output_type": "stream",
     "name": "stdout",
     "text": [
      "pics.html\npics.html\nhttp://www.washingtonpost.com/wp-srv/business/longterm/microsoft/stories/1998/raymond120398.htm\nimages/df20000406.jpg\nhttp://neopythonic.blogspot.com/2016/04/kings-day-speech.html\nhttp://www.python.org\nResume.html\nPublications.html\nbio.html\nhttp://legacy.python.org/doc/essays/\nhttp://legacy.python.org/doc/essays/ppt/\ninterviews.html\npics.html\nhttp://neopythonic.blogspot.com\nhttp://www.artima.com/weblogs/index.jsp?blogger=12088\nhttps://twitter.com/gvanrossum\nResume.html\nguido.au\nhttp://legacy.python.org/doc/essays/\nimages/license.jpg\nhttp://www.cnpbagwell.com/audio-faq\nhttp://sox.sourceforge.net/\nimages/internetdog.gif\n"
     ]
    }
   ],
   "source": [
    "# Search all href inside a tags\n",
    "for link in BeautifulSoup(text).find_all('a'):\n",
    "    print(link.get('href'))"
   ]
  },
  {
   "source": [
    "## APIs and JSON"
   ],
   "cell_type": "markdown",
   "metadata": {}
  },
  {
   "cell_type": "code",
   "execution_count": 12,
   "metadata": {},
   "outputs": [],
   "source": [
    "# import library\n",
    "import json"
   ]
  },
  {
   "cell_type": "code",
   "execution_count": 13,
   "metadata": {},
   "outputs": [],
   "source": [
    "api = 'http://www.omdbapi.com/?i=tt3896198&apikey=ead1eb11'\n",
    "req = requests.get(api)\n",
    "json_data = req.json()"
   ]
  },
  {
   "cell_type": "code",
   "execution_count": 14,
   "metadata": {},
   "outputs": [],
   "source": [
    "omdb_api = pd.DataFrame.from_dict(json_data)"
   ]
  },
  {
   "cell_type": "code",
   "execution_count": 15,
   "metadata": {},
   "outputs": [
    {
     "output_type": "execute_result",
     "data": {
      "text/plain": [
       "                            Title  Year  Rated     Released  Runtime  \\\n",
       "0  Guardians of the Galaxy Vol. 2  2017  PG-13  05 May 2017  136 min   \n",
       "1  Guardians of the Galaxy Vol. 2  2017  PG-13  05 May 2017  136 min   \n",
       "2  Guardians of the Galaxy Vol. 2  2017  PG-13  05 May 2017  136 min   \n",
       "\n",
       "                               Genre    Director  \\\n",
       "0  Action, Adventure, Comedy, Sci-Fi  James Gunn   \n",
       "1  Action, Adventure, Comedy, Sci-Fi  James Gunn   \n",
       "2  Action, Adventure, Comedy, Sci-Fi  James Gunn   \n",
       "\n",
       "                                              Writer  \\\n",
       "0  James Gunn, Dan Abnett (based on the Marvel co...   \n",
       "1  James Gunn, Dan Abnett (based on the Marvel co...   \n",
       "2  James Gunn, Dan Abnett (based on the Marvel co...   \n",
       "\n",
       "                                              Actors  \\\n",
       "0  Chris Pratt, Zoe Saldana, Dave Bautista, Vin D...   \n",
       "1  Chris Pratt, Zoe Saldana, Dave Bautista, Vin D...   \n",
       "2  Chris Pratt, Zoe Saldana, Dave Bautista, Vin D...   \n",
       "\n",
       "                                                Plot  ... Metascore  \\\n",
       "0  The Guardians struggle to keep together as a t...  ...        67   \n",
       "1  The Guardians struggle to keep together as a t...  ...        67   \n",
       "2  The Guardians struggle to keep together as a t...  ...        67   \n",
       "\n",
       "  imdbRating imdbVotes     imdbID   Type  DVD BoxOffice  \\\n",
       "0        7.6   556,178  tt3896198  movie  N/A       N/A   \n",
       "1        7.6   556,178  tt3896198  movie  N/A       N/A   \n",
       "2        7.6   556,178  tt3896198  movie  N/A       N/A   \n",
       "\n",
       "                             Production Website Response  \n",
       "0  Marvel Studios, Walt Disney Pictures     N/A     True  \n",
       "1  Marvel Studios, Walt Disney Pictures     N/A     True  \n",
       "2  Marvel Studios, Walt Disney Pictures     N/A     True  \n",
       "\n",
       "[3 rows x 25 columns]"
      ],
      "text/html": "<div>\n<style scoped>\n    .dataframe tbody tr th:only-of-type {\n        vertical-align: middle;\n    }\n\n    .dataframe tbody tr th {\n        vertical-align: top;\n    }\n\n    .dataframe thead th {\n        text-align: right;\n    }\n</style>\n<table border=\"1\" class=\"dataframe\">\n  <thead>\n    <tr style=\"text-align: right;\">\n      <th></th>\n      <th>Title</th>\n      <th>Year</th>\n      <th>Rated</th>\n      <th>Released</th>\n      <th>Runtime</th>\n      <th>Genre</th>\n      <th>Director</th>\n      <th>Writer</th>\n      <th>Actors</th>\n      <th>Plot</th>\n      <th>...</th>\n      <th>Metascore</th>\n      <th>imdbRating</th>\n      <th>imdbVotes</th>\n      <th>imdbID</th>\n      <th>Type</th>\n      <th>DVD</th>\n      <th>BoxOffice</th>\n      <th>Production</th>\n      <th>Website</th>\n      <th>Response</th>\n    </tr>\n  </thead>\n  <tbody>\n    <tr>\n      <th>0</th>\n      <td>Guardians of the Galaxy Vol. 2</td>\n      <td>2017</td>\n      <td>PG-13</td>\n      <td>05 May 2017</td>\n      <td>136 min</td>\n      <td>Action, Adventure, Comedy, Sci-Fi</td>\n      <td>James Gunn</td>\n      <td>James Gunn, Dan Abnett (based on the Marvel co...</td>\n      <td>Chris Pratt, Zoe Saldana, Dave Bautista, Vin D...</td>\n      <td>The Guardians struggle to keep together as a t...</td>\n      <td>...</td>\n      <td>67</td>\n      <td>7.6</td>\n      <td>556,178</td>\n      <td>tt3896198</td>\n      <td>movie</td>\n      <td>N/A</td>\n      <td>N/A</td>\n      <td>Marvel Studios, Walt Disney Pictures</td>\n      <td>N/A</td>\n      <td>True</td>\n    </tr>\n    <tr>\n      <th>1</th>\n      <td>Guardians of the Galaxy Vol. 2</td>\n      <td>2017</td>\n      <td>PG-13</td>\n      <td>05 May 2017</td>\n      <td>136 min</td>\n      <td>Action, Adventure, Comedy, Sci-Fi</td>\n      <td>James Gunn</td>\n      <td>James Gunn, Dan Abnett (based on the Marvel co...</td>\n      <td>Chris Pratt, Zoe Saldana, Dave Bautista, Vin D...</td>\n      <td>The Guardians struggle to keep together as a t...</td>\n      <td>...</td>\n      <td>67</td>\n      <td>7.6</td>\n      <td>556,178</td>\n      <td>tt3896198</td>\n      <td>movie</td>\n      <td>N/A</td>\n      <td>N/A</td>\n      <td>Marvel Studios, Walt Disney Pictures</td>\n      <td>N/A</td>\n      <td>True</td>\n    </tr>\n    <tr>\n      <th>2</th>\n      <td>Guardians of the Galaxy Vol. 2</td>\n      <td>2017</td>\n      <td>PG-13</td>\n      <td>05 May 2017</td>\n      <td>136 min</td>\n      <td>Action, Adventure, Comedy, Sci-Fi</td>\n      <td>James Gunn</td>\n      <td>James Gunn, Dan Abnett (based on the Marvel co...</td>\n      <td>Chris Pratt, Zoe Saldana, Dave Bautista, Vin D...</td>\n      <td>The Guardians struggle to keep together as a t...</td>\n      <td>...</td>\n      <td>67</td>\n      <td>7.6</td>\n      <td>556,178</td>\n      <td>tt3896198</td>\n      <td>movie</td>\n      <td>N/A</td>\n      <td>N/A</td>\n      <td>Marvel Studios, Walt Disney Pictures</td>\n      <td>N/A</td>\n      <td>True</td>\n    </tr>\n  </tbody>\n</table>\n<p>3 rows × 25 columns</p>\n</div>"
     },
     "metadata": {},
     "execution_count": 15
    }
   ],
   "source": [
    "omdb_api.head()"
   ]
  },
  {
   "source": [
    "### Twitter API"
   ],
   "cell_type": "markdown",
   "metadata": {}
  },
  {
   "cell_type": "code",
   "execution_count": 16,
   "metadata": {},
   "outputs": [],
   "source": [
    "# import library\n",
    "import tweepy"
   ]
  },
  {
   "cell_type": "code",
   "execution_count": 17,
   "metadata": {},
   "outputs": [],
   "source": [
    "access_token = 'secret'\n",
    "access_token_secret = 'secret'\n",
    "consumer_key = 'secret'\n",
    "consumer_secret = 'secret'"
   ]
  },
  {
   "cell_type": "code",
   "execution_count": 18,
   "metadata": {},
   "outputs": [],
   "source": [
    "# Authenticate to Twitter\n",
    "auth = tweepy.OAuthHandler(consumer_key, consumer_secret)\n",
    "auth.set_access_token(access_token, access_token_secret)"
   ]
  },
  {
   "cell_type": "code",
   "execution_count": 19,
   "metadata": {},
   "outputs": [],
   "source": [
    "api = tweepy.API(auth)"
   ]
  },
  {
   "cell_type": "code",
   "execution_count": 20,
   "metadata": {},
   "outputs": [
    {
     "output_type": "stream",
     "name": "stdout",
     "text": [
      "Authentication OK\n"
     ]
    }
   ],
   "source": [
    "try:\n",
    "    api.verify_credentials()\n",
    "    print(\"Authentication OK\")\n",
    "except:\n",
    "    print(\"Error during authentication\")"
   ]
  },
  {
   "cell_type": "code",
   "execution_count": 28,
   "metadata": {},
   "outputs": [
    {
     "output_type": "stream",
     "name": "stdout",
     "text": [
      "Michigan\n#GetWellSoonJisung\njungkook\n#フロイド・リーチ誕生祭2020\nNevada\n#いい推しの日\n#渡辺翔太誕生祭\n#겨울의_기분좋은시작_큐_생일축하해\nリーチ兄弟\nÖykü Serter\nVERY STRANGE\nUSPS\nDemocrats\nBernie\nJrue\n投票率100%超え\nOregon\nDems\n数学偏差値\nWI and MI\n理系学生\n가스파드\nHititbet Yüzde100Bonus\nDetroit\n推しと結婚\nBen Shapiro\nGorosito\nゲームセンター運営\nArnab\nCounting\nしょっぴーお誕生日\nWayne County\n#tite𓂺\n#ATEEZ𓂸\n#YGEntertainment𓆗\n#اربح_مع_stc5g_الاسرع\n#乃木坂46ANN\n#USElection2020\n#TREASURE_MMM_D1\n#MichelTeloFeatChan\n#مسابقه_عبدالصمد_القرشي\n#WangYibo𓃮\n#BlackDay4Press\n#halktanyana\n#メンズ校\n#CountAllTheVotes\n#SAPAMANTAN\n#XboxWatchDogsLegion\n#Aileye5000SosyalCalismaci\n#WednesdayMegaWord\n"
     ]
    }
   ],
   "source": [
    "trends_result = api.trends_place(1)\n",
    "for trend in trends_result[0][\"trends\"]:\n",
    "    print(trend[\"name\"])"
   ]
  },
  {
   "cell_type": "code",
   "execution_count": null,
   "metadata": {},
   "outputs": [],
   "source": []
  }
 ]
}