{
 "metadata": {
  "language_info": {
   "codemirror_mode": {
    "name": "ipython",
    "version": 3
   },
   "file_extension": ".py",
   "mimetype": "text/x-python",
   "name": "python",
   "nbconvert_exporter": "python",
   "pygments_lexer": "ipython3",
   "version": "3.8.5-final"
  },
  "orig_nbformat": 2,
  "kernelspec": {
   "name": "Python 3.8.5 32-bit",
   "display_name": "Python 3.8.5 32-bit",
   "metadata": {
    "interpreter": {
     "hash": "4b206d4e30157135457942edf5f287cc66beec6c5bd72f81d81f03c16d57a14b"
    }
   }
  }
 },
 "nbformat": 4,
 "nbformat_minor": 2,
 "cells": [
  {
   "source": [
    "# Cleaning Data with python"
   ],
   "cell_type": "markdown",
   "metadata": {}
  },
  {
   "cell_type": "code",
   "execution_count": 1,
   "metadata": {},
   "outputs": [],
   "source": [
    "# import library\n",
    "import numpy as np\n",
    "import pandas as pd"
   ]
  },
  {
   "source": [
    "## Why cleaning data?\n",
    "To make sure every variables have the correct data types for further analysis"
   ],
   "cell_type": "markdown",
   "metadata": {}
  },
  {
   "cell_type": "code",
   "execution_count": 2,
   "metadata": {},
   "outputs": [],
   "source": [
    "path = 'data/csv/ride_sharing_new.csv'\n",
    "ride_df = pd.read_csv(path, index_col=6, parse_dates=['user_birth_year'])"
   ]
  },
  {
   "cell_type": "code",
   "execution_count": 3,
   "metadata": {},
   "outputs": [],
   "source": [
    "ride_df.drop('Unnamed: 0', axis=1, inplace=True)"
   ]
  },
  {
   "cell_type": "code",
   "execution_count": 4,
   "metadata": {},
   "outputs": [
    {
     "output_type": "execute_result",
     "data": {
      "text/plain": [
       "           duration  station_A_id  \\\n",
       "bike_id                             \n",
       "5480     12 minutes            81   \n",
       "5193     24 minutes             3   \n",
       "3652      8 minutes            67   \n",
       "1883      4 minutes            16   \n",
       "4626     11 minutes            22   \n",
       "\n",
       "                                            station_A_name  station_B_id  \\\n",
       "bike_id                                                                    \n",
       "5480                                    Berry St at 4th St           323   \n",
       "5193          Powell St BART Station (Market St at 4th St)           118   \n",
       "3652     San Francisco Caltrain Station 2  (Townsend St...            23   \n",
       "1883                               Steuart St at Market St            28   \n",
       "4626                                 Howard St at Beale St           350   \n",
       "\n",
       "                          station_B_name  user_type user_birth_year  \\\n",
       "bike_id                                                               \n",
       "5480                  Broadway at Kearny          2      1959-01-01   \n",
       "5193     Eureka Valley Recreation Center          2      1965-01-01   \n",
       "3652       The Embarcadero at Steuart St          3      1993-01-01   \n",
       "1883        The Embarcadero at Bryant St          1      1979-01-01   \n",
       "4626                8th St at Brannan St          2      1994-01-01   \n",
       "\n",
       "        user_gender  \n",
       "bike_id              \n",
       "5480           Male  \n",
       "5193           Male  \n",
       "3652           Male  \n",
       "1883           Male  \n",
       "4626           Male  "
      ],
      "text/html": "<div>\n<style scoped>\n    .dataframe tbody tr th:only-of-type {\n        vertical-align: middle;\n    }\n\n    .dataframe tbody tr th {\n        vertical-align: top;\n    }\n\n    .dataframe thead th {\n        text-align: right;\n    }\n</style>\n<table border=\"1\" class=\"dataframe\">\n  <thead>\n    <tr style=\"text-align: right;\">\n      <th></th>\n      <th>duration</th>\n      <th>station_A_id</th>\n      <th>station_A_name</th>\n      <th>station_B_id</th>\n      <th>station_B_name</th>\n      <th>user_type</th>\n      <th>user_birth_year</th>\n      <th>user_gender</th>\n    </tr>\n    <tr>\n      <th>bike_id</th>\n      <th></th>\n      <th></th>\n      <th></th>\n      <th></th>\n      <th></th>\n      <th></th>\n      <th></th>\n      <th></th>\n    </tr>\n  </thead>\n  <tbody>\n    <tr>\n      <th>5480</th>\n      <td>12 minutes</td>\n      <td>81</td>\n      <td>Berry St at 4th St</td>\n      <td>323</td>\n      <td>Broadway at Kearny</td>\n      <td>2</td>\n      <td>1959-01-01</td>\n      <td>Male</td>\n    </tr>\n    <tr>\n      <th>5193</th>\n      <td>24 minutes</td>\n      <td>3</td>\n      <td>Powell St BART Station (Market St at 4th St)</td>\n      <td>118</td>\n      <td>Eureka Valley Recreation Center</td>\n      <td>2</td>\n      <td>1965-01-01</td>\n      <td>Male</td>\n    </tr>\n    <tr>\n      <th>3652</th>\n      <td>8 minutes</td>\n      <td>67</td>\n      <td>San Francisco Caltrain Station 2  (Townsend St...</td>\n      <td>23</td>\n      <td>The Embarcadero at Steuart St</td>\n      <td>3</td>\n      <td>1993-01-01</td>\n      <td>Male</td>\n    </tr>\n    <tr>\n      <th>1883</th>\n      <td>4 minutes</td>\n      <td>16</td>\n      <td>Steuart St at Market St</td>\n      <td>28</td>\n      <td>The Embarcadero at Bryant St</td>\n      <td>1</td>\n      <td>1979-01-01</td>\n      <td>Male</td>\n    </tr>\n    <tr>\n      <th>4626</th>\n      <td>11 minutes</td>\n      <td>22</td>\n      <td>Howard St at Beale St</td>\n      <td>350</td>\n      <td>8th St at Brannan St</td>\n      <td>2</td>\n      <td>1994-01-01</td>\n      <td>Male</td>\n    </tr>\n  </tbody>\n</table>\n</div>"
     },
     "metadata": {},
     "execution_count": 4
    }
   ],
   "source": [
    "ride_df.head()"
   ]
  },
  {
   "cell_type": "code",
   "execution_count": 5,
   "metadata": {},
   "outputs": [
    {
     "output_type": "stream",
     "name": "stdout",
     "text": [
      "<class 'pandas.core.frame.DataFrame'>\nInt64Index: 25760 entries, 5480 to 1705\nData columns (total 8 columns):\n #   Column           Non-Null Count  Dtype         \n---  ------           --------------  -----         \n 0   duration         25760 non-null  object        \n 1   station_A_id     25760 non-null  int64         \n 2   station_A_name   25760 non-null  object        \n 3   station_B_id     25760 non-null  int64         \n 4   station_B_name   25760 non-null  object        \n 5   user_type        25760 non-null  int64         \n 6   user_birth_year  25760 non-null  datetime64[ns]\n 7   user_gender      25760 non-null  object        \ndtypes: datetime64[ns](1), int64(3), object(4)\nmemory usage: 1.4+ MB\n"
     ]
    }
   ],
   "source": [
    "ride_df.info()"
   ]
  },
  {
   "cell_type": "code",
   "execution_count": 6,
   "metadata": {},
   "outputs": [
    {
     "output_type": "execute_result",
     "data": {
      "text/plain": [
       "       station_A_id  station_B_id     user_type\n",
       "count  25760.000000  25760.000000  25760.000000\n",
       "mean      31.023602     89.558579      2.008385\n",
       "std       26.409263    105.144103      0.704541\n",
       "min        3.000000      3.000000      1.000000\n",
       "25%       15.000000     21.000000      2.000000\n",
       "50%       21.000000     58.000000      2.000000\n",
       "75%       67.000000     93.000000      3.000000\n",
       "max       81.000000    383.000000      3.000000"
      ],
      "text/html": "<div>\n<style scoped>\n    .dataframe tbody tr th:only-of-type {\n        vertical-align: middle;\n    }\n\n    .dataframe tbody tr th {\n        vertical-align: top;\n    }\n\n    .dataframe thead th {\n        text-align: right;\n    }\n</style>\n<table border=\"1\" class=\"dataframe\">\n  <thead>\n    <tr style=\"text-align: right;\">\n      <th></th>\n      <th>station_A_id</th>\n      <th>station_B_id</th>\n      <th>user_type</th>\n    </tr>\n  </thead>\n  <tbody>\n    <tr>\n      <th>count</th>\n      <td>25760.000000</td>\n      <td>25760.000000</td>\n      <td>25760.000000</td>\n    </tr>\n    <tr>\n      <th>mean</th>\n      <td>31.023602</td>\n      <td>89.558579</td>\n      <td>2.008385</td>\n    </tr>\n    <tr>\n      <th>std</th>\n      <td>26.409263</td>\n      <td>105.144103</td>\n      <td>0.704541</td>\n    </tr>\n    <tr>\n      <th>min</th>\n      <td>3.000000</td>\n      <td>3.000000</td>\n      <td>1.000000</td>\n    </tr>\n    <tr>\n      <th>25%</th>\n      <td>15.000000</td>\n      <td>21.000000</td>\n      <td>2.000000</td>\n    </tr>\n    <tr>\n      <th>50%</th>\n      <td>21.000000</td>\n      <td>58.000000</td>\n      <td>2.000000</td>\n    </tr>\n    <tr>\n      <th>75%</th>\n      <td>67.000000</td>\n      <td>93.000000</td>\n      <td>3.000000</td>\n    </tr>\n    <tr>\n      <th>max</th>\n      <td>81.000000</td>\n      <td>383.000000</td>\n      <td>3.000000</td>\n    </tr>\n  </tbody>\n</table>\n</div>"
     },
     "metadata": {},
     "execution_count": 6
    }
   ],
   "source": [
    "ride_df.describe()"
   ]
  },
  {
   "cell_type": "code",
   "execution_count": 7,
   "metadata": {},
   "outputs": [],
   "source": [
    "ride_df['user_type_cat'] = ride_df['user_type'].astype('category')"
   ]
  },
  {
   "cell_type": "code",
   "execution_count": 8,
   "metadata": {},
   "outputs": [
    {
     "output_type": "execute_result",
     "data": {
      "text/plain": [
       "count     25760\n",
       "unique        3\n",
       "top           2\n",
       "freq      12972\n",
       "Name: user_type_cat, dtype: int64"
      ]
     },
     "metadata": {},
     "execution_count": 8
    }
   ],
   "source": [
    "ride_df['user_type_cat'].describe()"
   ]
  },
  {
   "cell_type": "code",
   "execution_count": 9,
   "metadata": {},
   "outputs": [],
   "source": [
    "ride_df['duration_time'] = ride_df['duration'].str.strip('minutes')"
   ]
  },
  {
   "cell_type": "code",
   "execution_count": 10,
   "metadata": {},
   "outputs": [],
   "source": [
    "ride_df['duration_time'] = ride_df['duration_time'] .astype('int')"
   ]
  },
  {
   "cell_type": "code",
   "execution_count": 11,
   "metadata": {},
   "outputs": [
    {
     "output_type": "execute_result",
     "data": {
      "text/plain": [
       "Index(['duration', 'station_A_id', 'station_A_name', 'station_B_id',\n",
       "       'station_B_name', 'user_type', 'user_birth_year', 'user_gender',\n",
       "       'user_type_cat', 'duration_time'],\n",
       "      dtype='object')"
      ]
     },
     "metadata": {},
     "execution_count": 11
    }
   ],
   "source": [
    "ride_df.columns"
   ]
  },
  {
   "cell_type": "code",
   "execution_count": 12,
   "metadata": {},
   "outputs": [],
   "source": [
    "ride_df.drop(labels=['duration', 'user_type'], axis=1, inplace=True)"
   ]
  },
  {
   "cell_type": "code",
   "execution_count": 13,
   "metadata": {},
   "outputs": [
    {
     "output_type": "stream",
     "name": "stdout",
     "text": [
      "<class 'pandas.core.frame.DataFrame'>\nInt64Index: 25760 entries, 5480 to 1705\nData columns (total 8 columns):\n #   Column           Non-Null Count  Dtype         \n---  ------           --------------  -----         \n 0   station_A_id     25760 non-null  int64         \n 1   station_A_name   25760 non-null  object        \n 2   station_B_id     25760 non-null  int64         \n 3   station_B_name   25760 non-null  object        \n 4   user_birth_year  25760 non-null  datetime64[ns]\n 5   user_gender      25760 non-null  object        \n 6   user_type_cat    25760 non-null  category      \n 7   duration_time    25760 non-null  int32         \ndtypes: category(1), datetime64[ns](1), int32(1), int64(2), object(3)\nmemory usage: 1.2+ MB\n"
     ]
    }
   ],
   "source": [
    "ride_df.info()"
   ]
  },
  {
   "source": [
    "## Out of range value\n",
    "Usually from miscounted rating or out of range date\n",
    "\n",
    "for date greater than today(dt.date.today()) and convert columns to date using df('col') = pd.to_datetime(df('col'))\n",
    "\n",
    "### How to deal it?\n",
    "- Drop value\n",
    "- Setting custom minimun and maximum\n",
    "- Set with average value\n",
    "- Set (ffill) or (bfill)\n",
    "\n",
    "\n",
    "### "
   ],
   "cell_type": "markdown",
   "metadata": {}
  },
  {
   "cell_type": "code",
   "execution_count": 15,
   "metadata": {},
   "outputs": [],
   "source": [
    "ride_df['user_year_date'] = ride_df['user_birth_year'].dt.year"
   ]
  },
  {
   "cell_type": "code",
   "execution_count": 22,
   "metadata": {},
   "outputs": [],
   "source": [
    "ride_df.drop('user_birth_year', axis=1, inplace=True)"
   ]
  },
  {
   "cell_type": "code",
   "execution_count": 23,
   "metadata": {},
   "outputs": [
    {
     "output_type": "stream",
     "name": "stdout",
     "text": [
      "<class 'pandas.core.frame.DataFrame'>\nInt64Index: 25760 entries, 5480 to 1705\nData columns (total 8 columns):\n #   Column          Non-Null Count  Dtype   \n---  ------          --------------  -----   \n 0   station_A_id    25760 non-null  int64   \n 1   station_A_name  25760 non-null  object  \n 2   station_B_id    25760 non-null  int64   \n 3   station_B_name  25760 non-null  object  \n 4   user_gender     25760 non-null  object  \n 5   user_type_cat   25760 non-null  category\n 6   duration_time   25760 non-null  int32   \n 7   user_year_date  25760 non-null  int64   \ndtypes: category(1), int32(1), int64(3), object(3)\nmemory usage: 1.7+ MB\n"
     ]
    }
   ],
   "source": [
    "ride_df.info()"
   ]
  },
  {
   "source": [
    "## Duplicate value\n",
    "Usually comes from bug\n",
    "### How to deal it?\n",
    "- get duplicates = df.duplicated(subset=list_col, keep = bool)\n",
    "- drop duplicated with .drop_duplicates(subset=list_col, keep = bool, inplace=bool)"
   ],
   "cell_type": "markdown",
   "metadata": {}
  },
  {
   "source": [
    "# Text and categorical data problems\n",
    "\n",
    "## Membership constraint\n",
    "- Drop data\n",
    "- Remapping categories\n",
    "- Inferring Categories\n",
    "\n",
    "## Categorical Common pobrem\n",
    "- Unconsistency (uppercase, lowercase, spacebar) : .str.upper(), .str.lower(), .str.strip(string)\n",
    "- Mapping category : pd.cut, .replace()\n",
    "\n",
    "## Cleaning Text data\n",
    "- Replace text with .str.replace()\n",
    "- fill with null value if text is not normal (np.nan)\n",
    "- regular expression\n"
   ],
   "cell_type": "markdown",
   "metadata": {}
  },
  {
   "source": [
    "#  Adcvnace data problem\n",
    "## Uniformity\n",
    "- plot with scatter plot to see uniformity\n",
    "- Multiple date time format and change it with pd.to_datetime(df('col'), infer_datetime_format=True, errors='coerce')\n",
    "\n",
    "## Cross field validation\n",
    "- check concistencies between 2 or more related columns\n",
    "\n",
    "## Completeness\n",
    "- drop missing data\n",
    "- ffil or bfill\n",
    "- with statistical measures\n",
    "- algorithmic approach\n",
    "- machine learning model"
   ],
   "cell_type": "markdown",
   "metadata": {}
  },
  {
   "source": [
    "# Record linkage\n",
    "\n",
    "## Comparing strings\n",
    "- Minimunm edit distance algorithm (fuzzywuzzy)\n",
    "- record linkage\n",
    "- linking data frame"
   ],
   "cell_type": "markdown",
   "metadata": {}
  },
  {
   "cell_type": "code",
   "execution_count": null,
   "metadata": {},
   "outputs": [],
   "source": []
  }
 ]
}