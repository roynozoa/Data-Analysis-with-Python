{
 "metadata": {
  "language_info": {
   "codemirror_mode": {
    "name": "ipython",
    "version": 3
   },
   "file_extension": ".py",
   "mimetype": "text/x-python",
   "name": "python",
   "nbconvert_exporter": "python",
   "pygments_lexer": "ipython3",
   "version": "3.8.5-final"
  },
  "orig_nbformat": 2,
  "kernelspec": {
   "name": "Python 3.8.5 32-bit",
   "display_name": "Python 3.8.5 32-bit",
   "metadata": {
    "interpreter": {
     "hash": "4b206d4e30157135457942edf5f287cc66beec6c5bd72f81d81f03c16d57a14b"
    }
   }
  }
 },
 "nbformat": 4,
 "nbformat_minor": 2,
 "cells": [
  {
   "source": [
    "# Pandas Introduction\n",
    "## this library can do data analysing from databases, excel, csv, etc"
   ],
   "cell_type": "markdown",
   "metadata": {}
  },
  {
   "cell_type": "code",
   "execution_count": 2,
   "metadata": {},
   "outputs": [],
   "source": [
    "# Import Library\n",
    "import pandas as pd \n",
    "import numpy as np "
   ]
  },
  {
   "source": [
    "# Pandas Series\n",
    "\n",
    "Analyzing population growth in Indonesia by year from 1990 to 2018 (in milliion). In this session i will use object with pandas.Series\n",
    "\n",
    "Data Reference = https://datacommons.org/tools/timeline#&place=country/IDN&statsVar=Count_Person"
   ],
   "cell_type": "markdown",
   "metadata": {}
  },
  {
   "cell_type": "code",
   "execution_count": 3,
   "metadata": {},
   "outputs": [],
   "source": [
    "# import library\n",
    "import pandas as pd\n",
    "import numpy as np # also import numpy because pandas uses numpy"
   ]
  },
  {
   "cell_type": "code",
   "execution_count": 4,
   "metadata": {},
   "outputs": [],
   "source": [
    "# create a series with pandas\n",
    "# population in Indonesia (in millions)\n",
    "ina_pop = pd.Series([181.413, 184.592, 187.740, 190.851, 193.917, 196.934, 199.901, 202.826, 205.725, 208.615, 211.514, 214.427, 217.358, 220.309, 223.286, 226.289, 229.318, 232.374, 235.470, 238.621, 241.834, 245.116, 248.452, 251.806, 255.129, 258.383, 261.554, 264.646, 267.663])"
   ]
  },
  {
   "cell_type": "code",
   "execution_count": 5,
   "metadata": {},
   "outputs": [
    {
     "output_type": "execute_result",
     "data": {
      "text/plain": [
       "0     181.413\n",
       "1     184.592\n",
       "2     187.740\n",
       "3     190.851\n",
       "4     193.917\n",
       "5     196.934\n",
       "6     199.901\n",
       "7     202.826\n",
       "8     205.725\n",
       "9     208.615\n",
       "10    211.514\n",
       "11    214.427\n",
       "12    217.358\n",
       "13    220.309\n",
       "14    223.286\n",
       "15    226.289\n",
       "16    229.318\n",
       "17    232.374\n",
       "18    235.470\n",
       "19    238.621\n",
       "20    241.834\n",
       "21    245.116\n",
       "22    248.452\n",
       "23    251.806\n",
       "24    255.129\n",
       "25    258.383\n",
       "26    261.554\n",
       "27    264.646\n",
       "28    267.663\n",
       "dtype: float64"
      ]
     },
     "metadata": {},
     "execution_count": 5
    }
   ],
   "source": [
    "ina_pop"
   ]
  },
  {
   "cell_type": "code",
   "execution_count": 6,
   "metadata": {},
   "outputs": [
    {
     "output_type": "execute_result",
     "data": {
      "text/plain": [
       "0     181.413\n",
       "1     184.592\n",
       "2     187.740\n",
       "3     190.851\n",
       "4     193.917\n",
       "5     196.934\n",
       "6     199.901\n",
       "7     202.826\n",
       "8     205.725\n",
       "9     208.615\n",
       "10    211.514\n",
       "11    214.427\n",
       "12    217.358\n",
       "13    220.309\n",
       "14    223.286\n",
       "15    226.289\n",
       "16    229.318\n",
       "17    232.374\n",
       "18    235.470\n",
       "19    238.621\n",
       "20    241.834\n",
       "21    245.116\n",
       "22    248.452\n",
       "23    251.806\n",
       "24    255.129\n",
       "25    258.383\n",
       "26    261.554\n",
       "27    264.646\n",
       "28    267.663\n",
       "Name: Indonesia Population in millions from 1990 to 2018, dtype: float64"
      ]
     },
     "metadata": {},
     "execution_count": 6
    }
   ],
   "source": [
    "# naming the series for better understanding\n",
    "ina_pop.name = \"Indonesia Population in millions from 1990 to 2018\"\n",
    "ina_pop"
   ]
  },
  {
   "cell_type": "code",
   "execution_count": 7,
   "metadata": {},
   "outputs": [
    {
     "output_type": "execute_result",
     "data": {
      "text/plain": [
       "dtype('float64')"
      ]
     },
     "metadata": {},
     "execution_count": 7
    }
   ],
   "source": [
    "ina_pop.dtype # data type for each elements"
   ]
  },
  {
   "cell_type": "code",
   "execution_count": 8,
   "metadata": {},
   "outputs": [
    {
     "output_type": "execute_result",
     "data": {
      "text/plain": [
       "array([181.413, 184.592, 187.74 , 190.851, 193.917, 196.934, 199.901,\n",
       "       202.826, 205.725, 208.615, 211.514, 214.427, 217.358, 220.309,\n",
       "       223.286, 226.289, 229.318, 232.374, 235.47 , 238.621, 241.834,\n",
       "       245.116, 248.452, 251.806, 255.129, 258.383, 261.554, 264.646,\n",
       "       267.663])"
      ]
     },
     "metadata": {},
     "execution_count": 8
    }
   ],
   "source": [
    "ina_pop.values"
   ]
  },
  {
   "cell_type": "code",
   "execution_count": 9,
   "metadata": {},
   "outputs": [
    {
     "output_type": "execute_result",
     "data": {
      "text/plain": [
       "numpy.ndarray"
      ]
     },
     "metadata": {},
     "execution_count": 9
    }
   ],
   "source": [
    "type(ina_pop.values) # this series is numpy.ndarray"
   ]
  },
  {
   "cell_type": "code",
   "execution_count": 10,
   "metadata": {},
   "outputs": [
    {
     "output_type": "execute_result",
     "data": {
      "text/plain": [
       "RangeIndex(start=0, stop=29, step=1)"
      ]
     },
     "metadata": {},
     "execution_count": 10
    }
   ],
   "source": [
    "ina_pop.index"
   ]
  },
  {
   "cell_type": "code",
   "execution_count": 11,
   "metadata": {},
   "outputs": [
    {
     "output_type": "execute_result",
     "data": {
      "text/plain": [
       "29"
      ]
     },
     "metadata": {},
     "execution_count": 11
    }
   ],
   "source": [
    "ina_pop.size"
   ]
  },
  {
   "cell_type": "code",
   "execution_count": 27,
   "metadata": {},
   "outputs": [
    {
     "output_type": "execute_result",
     "data": {
      "text/plain": [
       "1990    181.413\n",
       "1991    184.592\n",
       "1992    187.740\n",
       "1993    190.851\n",
       "1994    193.917\n",
       "1995    196.934\n",
       "1996    199.901\n",
       "1997    202.826\n",
       "1998    205.725\n",
       "1999    208.615\n",
       "2000    211.514\n",
       "2001    214.427\n",
       "2002    217.358\n",
       "2003    220.309\n",
       "2004    223.286\n",
       "2005    226.289\n",
       "2006    229.318\n",
       "2007    232.374\n",
       "2008    235.470\n",
       "2009    238.621\n",
       "2010    241.834\n",
       "2011    245.116\n",
       "2012    248.452\n",
       "2013    251.806\n",
       "2014    255.129\n",
       "2015    258.383\n",
       "2016    261.554\n",
       "2017    264.646\n",
       "2018    268.000\n",
       "Name: Indonesia Population in millions from 1990 to 2018, dtype: float64"
      ]
     },
     "metadata": {},
     "execution_count": 27
    }
   ],
   "source": [
    "# change index from 0 - 28 with year value for each elements\n",
    "year = np.arange(1990, 2019)\n",
    "ina_pop.index = [year]\n",
    "ina_pop"
   ]
  },
  {
   "cell_type": "code",
   "execution_count": 13,
   "metadata": {},
   "outputs": [
    {
     "output_type": "execute_result",
     "data": {
      "text/plain": [
       "2010    241.834\n",
       "2011    245.116\n",
       "2012    248.452\n",
       "2013    251.806\n",
       "2014    255.129\n",
       "2015    258.383\n",
       "2016    261.554\n",
       "2017    264.646\n",
       "2018    267.663\n",
       "Name: Indonesia Population in millions from 1990 to 2018, dtype: float64"
      ]
     },
     "metadata": {},
     "execution_count": 13
    }
   ],
   "source": [
    "# view data by specific index (year)\n",
    "pd.Series(ina_pop, index=[2010, 2011, 2012, 2013, 2014, 2015, 2016, 2017, 2018])"
   ]
  },
  {
   "source": [
    "## Indexing\n",
    "simillar with list and dict in python"
   ],
   "cell_type": "markdown",
   "metadata": {}
  },
  {
   "cell_type": "code",
   "execution_count": 14,
   "metadata": {},
   "outputs": [
    {
     "output_type": "execute_result",
     "data": {
      "text/plain": [
       "181.413"
      ]
     },
     "metadata": {},
     "execution_count": 14
    }
   ],
   "source": [
    "ina_pop[1990]"
   ]
  },
  {
   "cell_type": "code",
   "execution_count": 15,
   "metadata": {},
   "outputs": [
    {
     "output_type": "execute_result",
     "data": {
      "text/plain": [
       "2010    241.834\n",
       "2011    245.116\n",
       "2012    248.452\n",
       "Name: Indonesia Population in millions from 1990 to 2018, dtype: float64"
      ]
     },
     "metadata": {},
     "execution_count": 15
    }
   ],
   "source": [
    "ina_pop[[2010, 2011, 2012]]"
   ]
  },
  {
   "cell_type": "code",
   "execution_count": 16,
   "metadata": {},
   "outputs": [
    {
     "output_type": "execute_result",
     "data": {
      "text/plain": [
       "181.413"
      ]
     },
     "metadata": {},
     "execution_count": 16
    }
   ],
   "source": [
    "# iloc attribute uses number index\n",
    "ina_pop.iloc[0]"
   ]
  },
  {
   "cell_type": "code",
   "execution_count": 17,
   "metadata": {},
   "outputs": [
    {
     "output_type": "execute_result",
     "data": {
      "text/plain": [
       "1990    181.413\n",
       "1992    187.740\n",
       "Name: Indonesia Population in millions from 1990 to 2018, dtype: float64"
      ]
     },
     "metadata": {},
     "execution_count": 17
    }
   ],
   "source": [
    "ina_pop.iloc[[0, 2]]"
   ]
  },
  {
   "cell_type": "code",
   "execution_count": 28,
   "metadata": {},
   "outputs": [
    {
     "output_type": "execute_result",
     "data": {
      "text/plain": [
       "2010    241.834\n",
       "2011    245.116\n",
       "2012    248.452\n",
       "Name: Indonesia Population in millions from 1990 to 2018, dtype: float64"
      ]
     },
     "metadata": {},
     "execution_count": 28
    }
   ],
   "source": [
    "ina_pop.loc[2010:2012]"
   ]
  },
  {
   "cell_type": "code",
   "execution_count": 18,
   "metadata": {},
   "outputs": [
    {
     "output_type": "execute_result",
     "data": {
      "text/plain": [
       "1990    181.413\n",
       "1991    184.592\n",
       "1992    187.740\n",
       "1993    190.851\n",
       "1994    193.917\n",
       "1995    196.934\n",
       "1996    199.901\n",
       "1997    202.826\n",
       "1998    205.725\n",
       "1999    208.615\n",
       "2000    211.514\n",
       "2001    214.427\n",
       "2002    217.358\n",
       "2003    220.309\n",
       "2004    223.286\n",
       "2005    226.289\n",
       "2006    229.318\n",
       "2007    232.374\n",
       "2008    235.470\n",
       "2009    238.621\n",
       "2010    241.834\n",
       "2011    245.116\n",
       "2012    248.452\n",
       "2013    251.806\n",
       "2014    255.129\n",
       "2015    258.383\n",
       "2016    261.554\n",
       "2017    264.646\n",
       "2018    267.663\n",
       "Name: Indonesia Population in millions from 1990 to 2018, dtype: float64"
      ]
     },
     "metadata": {},
     "execution_count": 18
    }
   ],
   "source": [
    "ina_pop[: 2018]"
   ]
  },
  {
   "source": [
    "## Conditional in pandas series (boolean series)"
   ],
   "cell_type": "markdown",
   "metadata": {}
  },
  {
   "cell_type": "code",
   "execution_count": 19,
   "metadata": {},
   "outputs": [
    {
     "output_type": "execute_result",
     "data": {
      "text/plain": [
       "1990    False\n",
       "1991    False\n",
       "1992    False\n",
       "1993    False\n",
       "1994    False\n",
       "1995    False\n",
       "1996    False\n",
       "1997    False\n",
       "1998    False\n",
       "1999    False\n",
       "2000    False\n",
       "2001    False\n",
       "2002    False\n",
       "2003    False\n",
       "2004    False\n",
       "2005     True\n",
       "2006     True\n",
       "2007     True\n",
       "2008     True\n",
       "2009     True\n",
       "2010     True\n",
       "2011     True\n",
       "2012     True\n",
       "2013     True\n",
       "2014     True\n",
       "2015     True\n",
       "2016     True\n",
       "2017     True\n",
       "2018     True\n",
       "Name: Indonesia Population in millions from 1990 to 2018, dtype: bool"
      ]
     },
     "metadata": {},
     "execution_count": 19
    }
   ],
   "source": [
    "ina_pop > ina_pop.mean() # return true if population greater than the data mean"
   ]
  },
  {
   "cell_type": "code",
   "execution_count": 20,
   "metadata": {},
   "outputs": [
    {
     "output_type": "execute_result",
     "data": {
      "text/plain": [
       "2005    226.289\n",
       "2006    229.318\n",
       "2007    232.374\n",
       "2008    235.470\n",
       "2009    238.621\n",
       "2010    241.834\n",
       "2011    245.116\n",
       "2012    248.452\n",
       "2013    251.806\n",
       "2014    255.129\n",
       "2015    258.383\n",
       "2016    261.554\n",
       "2017    264.646\n",
       "2018    267.663\n",
       "Name: Indonesia Population in millions from 1990 to 2018, dtype: float64"
      ]
     },
     "metadata": {},
     "execution_count": 20
    }
   ],
   "source": [
    "ina_pop[ina_pop > ina_pop.mean()] # select and display each population that is greater than the data mean"
   ]
  },
  {
   "source": [
    "## Method and operation in pandas"
   ],
   "cell_type": "markdown",
   "metadata": {}
  },
  {
   "cell_type": "code",
   "execution_count": 21,
   "metadata": {},
   "outputs": [
    {
     "output_type": "execute_result",
     "data": {
      "text/plain": [
       "1990    181413000.0\n",
       "1991    184592000.0\n",
       "1992    187740000.0\n",
       "1993    190851000.0\n",
       "1994    193917000.0\n",
       "1995    196934000.0\n",
       "1996    199901000.0\n",
       "1997    202826000.0\n",
       "1998    205725000.0\n",
       "1999    208615000.0\n",
       "2000    211514000.0\n",
       "2001    214427000.0\n",
       "2002    217358000.0\n",
       "2003    220309000.0\n",
       "2004    223286000.0\n",
       "2005    226289000.0\n",
       "2006    229318000.0\n",
       "2007    232374000.0\n",
       "2008    235470000.0\n",
       "2009    238621000.0\n",
       "2010    241834000.0\n",
       "2011    245116000.0\n",
       "2012    248452000.0\n",
       "2013    251806000.0\n",
       "2014    255129000.0\n",
       "2015    258383000.0\n",
       "2016    261554000.0\n",
       "2017    264646000.0\n",
       "2018    267663000.0\n",
       "Name: Indonesia Population in millions from 1990 to 2018, dtype: float64"
      ]
     },
     "metadata": {},
     "execution_count": 21
    }
   ],
   "source": [
    "ina_pop * 1_000_000 # multiply each elements by 1 mil"
   ]
  },
  {
   "cell_type": "code",
   "execution_count": 22,
   "metadata": {},
   "outputs": [
    {
     "output_type": "execute_result",
     "data": {
      "text/plain": [
       "6496063000.0"
      ]
     },
     "metadata": {},
     "execution_count": 22
    }
   ],
   "source": [
    "ina_pop.sum() * 1_000_000"
   ]
  },
  {
   "cell_type": "code",
   "execution_count": 23,
   "metadata": {},
   "outputs": [
    {
     "output_type": "execute_result",
     "data": {
      "text/plain": [
       "224002172.41379312"
      ]
     },
     "metadata": {},
     "execution_count": 23
    }
   ],
   "source": [
    "ina_pop.mean() * 1_000_000"
   ]
  },
  {
   "cell_type": "code",
   "execution_count": 24,
   "metadata": {},
   "outputs": [
    {
     "output_type": "execute_result",
     "data": {
      "text/plain": [
       "1997    202.826\n",
       "1998    205.725\n",
       "1999    208.615\n",
       "2000    211.514\n",
       "2001    214.427\n",
       "2002    217.358\n",
       "2003    220.309\n",
       "2004    223.286\n",
       "2005    226.289\n",
       "2006    229.318\n",
       "2007    232.374\n",
       "2008    235.470\n",
       "2009    238.621\n",
       "2010    241.834\n",
       "2011    245.116\n",
       "2012    248.452\n",
       "Name: Indonesia Population in millions from 1990 to 2018, dtype: float64"
      ]
     },
     "metadata": {},
     "execution_count": 24
    }
   ],
   "source": [
    "ina_pop[(ina_pop > 200) & (ina_pop < 250)] # select and display population that is greater than 200 *AND* less than 250 (in million)"
   ]
  },
  {
   "source": [
    "## Series modifying"
   ],
   "cell_type": "markdown",
   "metadata": {}
  },
  {
   "cell_type": "code",
   "execution_count": 25,
   "metadata": {},
   "outputs": [
    {
     "output_type": "execute_result",
     "data": {
      "text/plain": [
       "1990    181.413\n",
       "1991    184.592\n",
       "1992    187.740\n",
       "1993    190.851\n",
       "1994    193.917\n",
       "1995    196.934\n",
       "1996    199.901\n",
       "1997    202.826\n",
       "1998    205.725\n",
       "1999    208.615\n",
       "2000    211.514\n",
       "2001    214.427\n",
       "2002    217.358\n",
       "2003    220.309\n",
       "2004    223.286\n",
       "2005    226.289\n",
       "2006    229.318\n",
       "2007    232.374\n",
       "2008    235.470\n",
       "2009    238.621\n",
       "2010    241.834\n",
       "2011    245.116\n",
       "2012    248.452\n",
       "2013    251.806\n",
       "2014    255.129\n",
       "2015    258.383\n",
       "2016    261.554\n",
       "2017    264.646\n",
       "2018    267.663\n",
       "Name: Indonesia Population in millions from 1990 to 2018, dtype: float64"
      ]
     },
     "metadata": {},
     "execution_count": 25
    }
   ],
   "source": [
    "ina_pop"
   ]
  },
  {
   "cell_type": "code",
   "execution_count": 26,
   "metadata": {},
   "outputs": [
    {
     "output_type": "execute_result",
     "data": {
      "text/plain": [
       "1990    181.413\n",
       "1991    184.592\n",
       "1992    187.740\n",
       "1993    190.851\n",
       "1994    193.917\n",
       "1995    196.934\n",
       "1996    199.901\n",
       "1997    202.826\n",
       "1998    205.725\n",
       "1999    208.615\n",
       "2000    211.514\n",
       "2001    214.427\n",
       "2002    217.358\n",
       "2003    220.309\n",
       "2004    223.286\n",
       "2005    226.289\n",
       "2006    229.318\n",
       "2007    232.374\n",
       "2008    235.470\n",
       "2009    238.621\n",
       "2010    241.834\n",
       "2011    245.116\n",
       "2012    248.452\n",
       "2013    251.806\n",
       "2014    255.129\n",
       "2015    258.383\n",
       "2016    261.554\n",
       "2017    264.646\n",
       "2018    268.000\n",
       "Name: Indonesia Population in millions from 1990 to 2018, dtype: float64"
      ]
     },
     "metadata": {},
     "execution_count": 26
    }
   ],
   "source": [
    "ina_pop[2018] = 268 # changing the element value\n",
    "ina_pop"
   ]
  },
  {
   "cell_type": "code",
   "execution_count": null,
   "metadata": {},
   "outputs": [],
   "source": []
  }
 ]
}