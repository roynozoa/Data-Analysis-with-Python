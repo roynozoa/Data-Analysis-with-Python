{
    "cells": [
        {
            "metadata": {
                "collapsed": true
            },
            "cell_type": "markdown",
            "source": "## Implementing IBM API\nWatson Speech to Text Translator"
        },
        {
            "metadata": {},
            "cell_type": "code",
            "source": "#you will need the following library \n!pip install ibm_watson wget",
            "execution_count": 1,
            "outputs": [
                {
                    "output_type": "stream",
                    "text": "Collecting ibm_watson\n  Downloading ibm-watson-4.7.1.tar.gz (385 kB)\n\u001b[K     |\u2588\u2588\u2588\u2588\u2588\u2588\u2588\u2588\u2588\u2588\u2588\u2588\u2588\u2588\u2588\u2588\u2588\u2588\u2588\u2588\u2588\u2588\u2588\u2588\u2588\u2588\u2588\u2588\u2588\u2588\u2588\u2588| 385 kB 14.6 MB/s eta 0:00:01\n\u001b[?25hCollecting wget\n  Downloading wget-3.2.zip (10 kB)\nRequirement already satisfied: requests<3.0,>=2.0 in /opt/conda/envs/Python-3.7-main/lib/python3.7/site-packages (from ibm_watson) (2.24.0)\nRequirement already satisfied: python_dateutil>=2.5.3 in /opt/conda/envs/Python-3.7-main/lib/python3.7/site-packages (from ibm_watson) (2.8.1)\nCollecting websocket-client==0.48.0\n  Downloading websocket_client-0.48.0-py2.py3-none-any.whl (198 kB)\n\u001b[K     |\u2588\u2588\u2588\u2588\u2588\u2588\u2588\u2588\u2588\u2588\u2588\u2588\u2588\u2588\u2588\u2588\u2588\u2588\u2588\u2588\u2588\u2588\u2588\u2588\u2588\u2588\u2588\u2588\u2588\u2588\u2588\u2588| 198 kB 59.6 MB/s eta 0:00:01\n\u001b[?25hCollecting ibm_cloud_sdk_core==1.7.3\n  Downloading ibm-cloud-sdk-core-1.7.3.tar.gz (27 kB)\nRequirement already satisfied: idna<3,>=2.5 in /opt/conda/envs/Python-3.7-main/lib/python3.7/site-packages (from requests<3.0,>=2.0->ibm_watson) (2.9)\nRequirement already satisfied: urllib3!=1.25.0,!=1.25.1,<1.26,>=1.21.1 in /opt/conda/envs/Python-3.7-main/lib/python3.7/site-packages (from requests<3.0,>=2.0->ibm_watson) (1.25.9)\nRequirement already satisfied: chardet<4,>=3.0.2 in /opt/conda/envs/Python-3.7-main/lib/python3.7/site-packages (from requests<3.0,>=2.0->ibm_watson) (3.0.4)\nRequirement already satisfied: certifi>=2017.4.17 in /opt/conda/envs/Python-3.7-main/lib/python3.7/site-packages (from requests<3.0,>=2.0->ibm_watson) (2020.6.20)\nRequirement already satisfied: six>=1.5 in /opt/conda/envs/Python-3.7-main/lib/python3.7/site-packages (from python_dateutil>=2.5.3->ibm_watson) (1.15.0)\nRequirement already satisfied: PyJWT>=1.7.1 in /opt/conda/envs/Python-3.7-main/lib/python3.7/site-packages (from ibm_cloud_sdk_core==1.7.3->ibm_watson) (1.7.1)\nBuilding wheels for collected packages: ibm-watson, wget, ibm-cloud-sdk-core\n  Building wheel for ibm-watson (setup.py) ... \u001b[?25ldone\n\u001b[?25h  Created wheel for ibm-watson: filename=ibm_watson-4.7.1-py3-none-any.whl size=379130 sha256=5dedddcf0de19ec37cf44189c1b017e5148f9432bc2d354d5dee6adcc0272210\n  Stored in directory: /tmp/wsuser/.cache/pip/wheels/63/0c/16/b2af79aace901934f32f1503a95b338c7bdca6ab2cfa0881e6\n  Building wheel for wget (setup.py) ... \u001b[?25ldone\n\u001b[?25h  Created wheel for wget: filename=wget-3.2-py3-none-any.whl size=9681 sha256=68d031219e9273a1d7ba343c102dc96c0b0985060cde24b0366c8cd41c34e9a1\n  Stored in directory: /tmp/wsuser/.cache/pip/wheels/a1/b6/7c/0e63e34eb06634181c63adacca38b79ff8f35c37e3c13e3c02\n  Building wheel for ibm-cloud-sdk-core (setup.py) ... \u001b[?25ldone\n\u001b[?25h  Created wheel for ibm-cloud-sdk-core: filename=ibm_cloud_sdk_core-1.7.3-py3-none-any.whl size=45941 sha256=a71be40044fa225fbc9978e6d06a2bfb69577129d6eca833462efea314c697e4\n  Stored in directory: /tmp/wsuser/.cache/pip/wheels/c6/5f/fb/c2daef3706ded7e718641a60d097be3116a6b70a8f236753f2\nSuccessfully built ibm-watson wget ibm-cloud-sdk-core\nInstalling collected packages: websocket-client, ibm-cloud-sdk-core, ibm-watson, wget\n  Attempting uninstall: ibm-cloud-sdk-core\n    Found existing installation: ibm-cloud-sdk-core 3.2.0\n    Uninstalling ibm-cloud-sdk-core-3.2.0:\n      Successfully uninstalled ibm-cloud-sdk-core-3.2.0\nSuccessfully installed ibm-cloud-sdk-core-1.7.3 ibm-watson-4.7.1 websocket-client-0.48.0 wget-3.2\n",
                    "name": "stdout"
                }
            ]
        },
        {
            "metadata": {},
            "cell_type": "markdown",
            "source": "## Speech to Text"
        },
        {
            "metadata": {},
            "cell_type": "code",
            "source": "from ibm_watson import SpeechToTextV1 \nimport json\nfrom ibm_cloud_sdk_core.authenticators import IAMAuthenticator",
            "execution_count": 2,
            "outputs": []
        },
        {
            "metadata": {},
            "cell_type": "code",
            "source": "# url\nurl_s2t = 'https://api.jp-tok.speech-to-text.watson.cloud.ibm.com/instances/0460d5f4-b57e-4607-9808-a23757ecffff'\n\n# api key\niam_apikey_s2t = 'secret'",
            "execution_count": 3,
            "outputs": []
        },
        {
            "metadata": {},
            "cell_type": "code",
            "source": "authenticator = IAMAuthenticator(iam_apikey_s2t)\ns2t = SpeechToTextV1(authenticator=authenticator)\ns2t.set_service_url(url_s2t)\ns2t",
            "execution_count": 4,
            "outputs": [
                {
                    "output_type": "execute_result",
                    "execution_count": 4,
                    "data": {
                        "text/plain": "<ibm_watson.speech_to_text_v1_adapter.SpeechToTextV1Adapter at 0x7f0b3c54a850>"
                    },
                    "metadata": {}
                }
            ]
        },
        {
            "metadata": {},
            "cell_type": "markdown",
            "source": "The audio file"
        },
        {
            "metadata": {},
            "cell_type": "code",
            "source": "!wget -O PolynomialRegressionandPipelines.mp3  https://s3-api.us-geo.objectstorage.softlayer.net/cf-courses-data/CognitiveClass/PY0101EN/labs/PolynomialRegressionandPipelines.mp3\n\n",
            "execution_count": 5,
            "outputs": [
                {
                    "output_type": "stream",
                    "text": "--2020-12-03 09:42:22--  https://s3-api.us-geo.objectstorage.softlayer.net/cf-courses-data/CognitiveClass/PY0101EN/labs/PolynomialRegressionandPipelines.mp3\nResolving s3-api.us-geo.objectstorage.softlayer.net (s3-api.us-geo.objectstorage.softlayer.net)... 67.228.254.196\nConnecting to s3-api.us-geo.objectstorage.softlayer.net (s3-api.us-geo.objectstorage.softlayer.net)|67.228.254.196|:443... connected.\nHTTP request sent, awaiting response... 200 OK\nLength: 4234179 (4.0M) [audio/mpeg]\nSaving to: \u2018PolynomialRegressionandPipelines.mp3\u2019\n\nPolynomialRegressio 100%[===================>]   4.04M  1.25MB/s    in 3.2s    \n\n2020-12-03 09:42:26 (1.25 MB/s) - \u2018PolynomialRegressionandPipelines.mp3\u2019 saved [4234179/4234179]\n\n",
                    "name": "stdout"
                }
            ]
        },
        {
            "metadata": {},
            "cell_type": "code",
            "source": "filename='PolynomialRegressionandPipelines.mp3'",
            "execution_count": 6,
            "outputs": []
        },
        {
            "metadata": {},
            "cell_type": "code",
            "source": "with open(filename, mode=\"rb\")  as wav:\n    response = s2t.recognize(audio=wav, content_type='audio/mp3')",
            "execution_count": 7,
            "outputs": []
        },
        {
            "metadata": {},
            "cell_type": "code",
            "source": "response.result",
            "execution_count": 8,
            "outputs": [
                {
                    "output_type": "execute_result",
                    "execution_count": 8,
                    "data": {
                        "text/plain": "{'result_index': 0,\n 'results': [{'final': True,\n   'alternatives': [{'transcript': 'in this video we will cover polynomial regression and pipelines ',\n     'confidence': 0.94}]},\n  {'final': True,\n   'alternatives': [{'transcript': \"what do we do when a linear model is not the best fit for our data let's look into another type of regression model the polynomial regression we transform our data into a polynomial then use linear regression to fit the parameters that we will discuss pipelines pipelines are way to simplify your code \",\n     'confidence': 0.9}]},\n  {'final': True,\n   'alternatives': [{'transcript': \"polynomial regression is a special case of the general linear regression this method is beneficial for describing curvilinear relationships what is a curvilinear relationship it's what you get by squaring or setting higher order terms of the predictor variables in the model transforming the data the model can be quadratic which means the predictor variable in the model is squared we use a bracket to indicated as an exponent this is the second order polynomial regression with a figure representing the function \",\n     'confidence': 0.95}]},\n  {'final': True,\n   'alternatives': [{'transcript': 'the model can be cubic which means the predictor variable is cute this is the third order polynomial regression we see by examining the figure that the function has more variation ',\n     'confidence': 0.95}]},\n  {'final': True,\n   'alternatives': [{'transcript': \"there also exists higher order polynomial regressions when a good fit hasn't been achieved by second or third order we can see in figures how much the graphs change when we change the order of the polynomial regression the degree of the regression makes a big difference and can result in a better fit if you pick the right value in all cases the relationship between the variable in the parameter is always linear \",\n     'confidence': 0.91}]},\n  {'final': True,\n   'alternatives': [{'transcript': \"let's look at an example from our data we generate a polynomial regression model \",\n     'confidence': 0.89}]},\n  {'final': True,\n   'alternatives': [{'transcript': 'in python we do this by using the poly fit function in this example we develop a third order polynomial regression model base we can print out the model symbolic form for the model is given by the following expression ',\n     'confidence': 0.92}]},\n  {'final': True,\n   'alternatives': [{'transcript': \"negative one point five five seven X. one cute plus two hundred four point eight X. one squared plus eight thousand nine hundred sixty five X. one plus one point three seven times ten to the power of five we can also have multi dimensional polynomial linear regression the expression can get complicated here are just some of the terms for two dimensional second order polynomial none pies poly fit function cannot perform this type of regression we use the preprocessing librarian scikit learn to create a polynomial feature object the constructor takes the degree of the polynomial as a parameter then we transform the features into a polynomial feature with the fit underscore transform method let's do a more intuitive example \",\n     'confidence': 0.9}]},\n  {'final': True,\n   'alternatives': [{'transcript': 'consider the feature shown here applying the method we transform the data we now have a new set of features that are transformed version of our original features as that I mention of the data gets larger we may want to normalize multiple features as scikit learn instead we can use the preprocessing module to simplify many tasks for example we can standardize each feature simultaneously we import standard scaler we train the object fit the scale object then transform the data into a new data frame on a rate X. underscore scale there are more normalization methods available in the pre processing library as well as other transformations we can simplify our code by using a pipeline library there are many steps to getting a prediction for example normalization polynomial transform and linear regression we simplify the process using a pipeline ',\n     'confidence': 0.9}]},\n  {'final': True,\n   'alternatives': [{'transcript': 'pipeline sequentially perform a series of transformations the last step carries out a prediction first we import all the modules we need then we import the library pipeline we create a list of topples the first element in the topple contains the name of the estimator model the second element contains model constructor we input the list in the pipeline constructor we now have a pipeline object we can train the pipeline by applying the train method to the pipeline object we can also produce a prediction as well ',\n     'confidence': 0.89}]},\n  {'final': True,\n   'alternatives': [{'transcript': 'the method normalizes the data performs a polynomial transform then outputs a prediction ',\n     'confidence': 0.89}]}]}"
                    },
                    "metadata": {}
                }
            ]
        },
        {
            "metadata": {},
            "cell_type": "code",
            "source": "from pandas import json_normalize\n\njson_normalize(response.result['results'],\"alternatives\")",
            "execution_count": 17,
            "outputs": [
                {
                    "output_type": "execute_result",
                    "execution_count": 17,
                    "data": {
                        "text/plain": "                                           transcript  confidence\n0   in this video we will cover polynomial regress...        0.94\n1   what do we do when a linear model is not the b...        0.90\n2   polynomial regression is a special case of the...        0.95\n3   the model can be cubic which means the predict...        0.95\n4   there also exists higher order polynomial regr...        0.91\n5   let's look at an example from our data we gene...        0.89\n6   in python we do this by using the poly fit fun...        0.92\n7   negative one point five five seven X. one cute...        0.90\n8   consider the feature shown here applying the m...        0.90\n9   pipeline sequentially perform a series of tran...        0.89\n10  the method normalizes the data performs a poly...        0.89",
                        "text/html": "<div>\n<style scoped>\n    .dataframe tbody tr th:only-of-type {\n        vertical-align: middle;\n    }\n\n    .dataframe tbody tr th {\n        vertical-align: top;\n    }\n\n    .dataframe thead th {\n        text-align: right;\n    }\n</style>\n<table border=\"1\" class=\"dataframe\">\n  <thead>\n    <tr style=\"text-align: right;\">\n      <th></th>\n      <th>transcript</th>\n      <th>confidence</th>\n    </tr>\n  </thead>\n  <tbody>\n    <tr>\n      <th>0</th>\n      <td>in this video we will cover polynomial regress...</td>\n      <td>0.94</td>\n    </tr>\n    <tr>\n      <th>1</th>\n      <td>what do we do when a linear model is not the b...</td>\n      <td>0.90</td>\n    </tr>\n    <tr>\n      <th>2</th>\n      <td>polynomial regression is a special case of the...</td>\n      <td>0.95</td>\n    </tr>\n    <tr>\n      <th>3</th>\n      <td>the model can be cubic which means the predict...</td>\n      <td>0.95</td>\n    </tr>\n    <tr>\n      <th>4</th>\n      <td>there also exists higher order polynomial regr...</td>\n      <td>0.91</td>\n    </tr>\n    <tr>\n      <th>5</th>\n      <td>let's look at an example from our data we gene...</td>\n      <td>0.89</td>\n    </tr>\n    <tr>\n      <th>6</th>\n      <td>in python we do this by using the poly fit fun...</td>\n      <td>0.92</td>\n    </tr>\n    <tr>\n      <th>7</th>\n      <td>negative one point five five seven X. one cute...</td>\n      <td>0.90</td>\n    </tr>\n    <tr>\n      <th>8</th>\n      <td>consider the feature shown here applying the m...</td>\n      <td>0.90</td>\n    </tr>\n    <tr>\n      <th>9</th>\n      <td>pipeline sequentially perform a series of tran...</td>\n      <td>0.89</td>\n    </tr>\n    <tr>\n      <th>10</th>\n      <td>the method normalizes the data performs a poly...</td>\n      <td>0.89</td>\n    </tr>\n  </tbody>\n</table>\n</div>"
                    },
                    "metadata": {}
                }
            ]
        },
        {
            "metadata": {},
            "cell_type": "code",
            "source": "response",
            "execution_count": 10,
            "outputs": [
                {
                    "output_type": "execute_result",
                    "execution_count": 10,
                    "data": {
                        "text/plain": "<ibm_cloud_sdk_core.detailed_response.DetailedResponse at 0x7f0b4c0af650>"
                    },
                    "metadata": {}
                }
            ]
        },
        {
            "metadata": {},
            "cell_type": "code",
            "source": "recognized_text=response.result['results'][0][\"alternatives\"][0][\"transcript\"]\ntype(recognized_text)",
            "execution_count": 11,
            "outputs": [
                {
                    "output_type": "execute_result",
                    "execution_count": 11,
                    "data": {
                        "text/plain": "str"
                    },
                    "metadata": {}
                }
            ]
        },
        {
            "metadata": {
                "scrolled": true
            },
            "cell_type": "code",
            "source": "result_df = json_normalize(response.result['results'],\"alternatives\")\nresult_df",
            "execution_count": 18,
            "outputs": [
                {
                    "output_type": "execute_result",
                    "execution_count": 18,
                    "data": {
                        "text/plain": "                                           transcript  confidence\n0   in this video we will cover polynomial regress...        0.94\n1   what do we do when a linear model is not the b...        0.90\n2   polynomial regression is a special case of the...        0.95\n3   the model can be cubic which means the predict...        0.95\n4   there also exists higher order polynomial regr...        0.91\n5   let's look at an example from our data we gene...        0.89\n6   in python we do this by using the poly fit fun...        0.92\n7   negative one point five five seven X. one cute...        0.90\n8   consider the feature shown here applying the m...        0.90\n9   pipeline sequentially perform a series of tran...        0.89\n10  the method normalizes the data performs a poly...        0.89",
                        "text/html": "<div>\n<style scoped>\n    .dataframe tbody tr th:only-of-type {\n        vertical-align: middle;\n    }\n\n    .dataframe tbody tr th {\n        vertical-align: top;\n    }\n\n    .dataframe thead th {\n        text-align: right;\n    }\n</style>\n<table border=\"1\" class=\"dataframe\">\n  <thead>\n    <tr style=\"text-align: right;\">\n      <th></th>\n      <th>transcript</th>\n      <th>confidence</th>\n    </tr>\n  </thead>\n  <tbody>\n    <tr>\n      <th>0</th>\n      <td>in this video we will cover polynomial regress...</td>\n      <td>0.94</td>\n    </tr>\n    <tr>\n      <th>1</th>\n      <td>what do we do when a linear model is not the b...</td>\n      <td>0.90</td>\n    </tr>\n    <tr>\n      <th>2</th>\n      <td>polynomial regression is a special case of the...</td>\n      <td>0.95</td>\n    </tr>\n    <tr>\n      <th>3</th>\n      <td>the model can be cubic which means the predict...</td>\n      <td>0.95</td>\n    </tr>\n    <tr>\n      <th>4</th>\n      <td>there also exists higher order polynomial regr...</td>\n      <td>0.91</td>\n    </tr>\n    <tr>\n      <th>5</th>\n      <td>let's look at an example from our data we gene...</td>\n      <td>0.89</td>\n    </tr>\n    <tr>\n      <th>6</th>\n      <td>in python we do this by using the poly fit fun...</td>\n      <td>0.92</td>\n    </tr>\n    <tr>\n      <th>7</th>\n      <td>negative one point five five seven X. one cute...</td>\n      <td>0.90</td>\n    </tr>\n    <tr>\n      <th>8</th>\n      <td>consider the feature shown here applying the m...</td>\n      <td>0.90</td>\n    </tr>\n    <tr>\n      <th>9</th>\n      <td>pipeline sequentially perform a series of tran...</td>\n      <td>0.89</td>\n    </tr>\n    <tr>\n      <th>10</th>\n      <td>the method normalizes the data performs a poly...</td>\n      <td>0.89</td>\n    </tr>\n  </tbody>\n</table>\n</div>"
                    },
                    "metadata": {}
                }
            ]
        },
        {
            "metadata": {},
            "cell_type": "code",
            "source": "result_df['transcript']",
            "execution_count": 19,
            "outputs": [
                {
                    "output_type": "execute_result",
                    "execution_count": 19,
                    "data": {
                        "text/plain": "0     in this video we will cover polynomial regress...\n1     what do we do when a linear model is not the b...\n2     polynomial regression is a special case of the...\n3     the model can be cubic which means the predict...\n4     there also exists higher order polynomial regr...\n5     let's look at an example from our data we gene...\n6     in python we do this by using the poly fit fun...\n7     negative one point five five seven X. one cute...\n8     consider the feature shown here applying the m...\n9     pipeline sequentially perform a series of tran...\n10    the method normalizes the data performs a poly...\nName: transcript, dtype: object"
                    },
                    "metadata": {}
                }
            ]
        },
        {
            "metadata": {},
            "cell_type": "code",
            "source": "",
            "execution_count": null,
            "outputs": []
        }
    ],
    "metadata": {
        "kernelspec": {
            "name": "python3",
            "display_name": "Python 3.7",
            "language": "python"
        },
        "language_info": {
            "name": "python",
            "version": "3.7.9",
            "mimetype": "text/x-python",
            "codemirror_mode": {
                "name": "ipython",
                "version": 3
            },
            "pygments_lexer": "ipython3",
            "nbconvert_exporter": "python",
            "file_extension": ".py"
        }
    },
    "nbformat": 4,
    "nbformat_minor": 1
}