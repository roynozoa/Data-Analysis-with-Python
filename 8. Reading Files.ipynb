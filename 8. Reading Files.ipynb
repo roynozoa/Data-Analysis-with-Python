{
 "metadata": {
  "language_info": {
   "codemirror_mode": {
    "name": "ipython",
    "version": 3
   },
   "file_extension": ".py",
   "mimetype": "text/x-python",
   "name": "python",
   "nbconvert_exporter": "python",
   "pygments_lexer": "ipython3",
   "version": "3.8.5-final"
  },
  "orig_nbformat": 2,
  "kernelspec": {
   "name": "Python 3.8.5 32-bit",
   "display_name": "Python 3.8.5 32-bit",
   "metadata": {
    "interpreter": {
     "hash": "4b206d4e30157135457942edf5f287cc66beec6c5bd72f81d81f03c16d57a14b"
    }
   }
  }
 },
 "nbformat": 4,
 "nbformat_minor": 2,
 "cells": [
  {
   "source": [
    "# Reading Files With Pandas\n",
    "This session i will try to demonstrate reading file from spreadsheet or database into Pandas DataFrame"
   ],
   "cell_type": "markdown",
   "metadata": {}
  },
  {
   "cell_type": "code",
   "execution_count": 1,
   "metadata": {},
   "outputs": [],
   "source": [
    "# Import library\n",
    "import pandas as pd\n",
    "import numpy as np\n"
   ]
  },
  {
   "source": [
    "# Reading CSV with Pandas\n",
    "\n",
    "in pandas, reading file csv can be done with pd.read_csv() function"
   ],
   "cell_type": "markdown",
   "metadata": {}
  },
  {
   "cell_type": "code",
   "execution_count": 2,
   "metadata": {},
   "outputs": [],
   "source": [
    "# Filepath variable\n",
    "filepath = 'data/csv/btc-eth-prices.csv'\n",
    "\n"
   ]
  },
  {
   "cell_type": "code",
   "execution_count": 3,
   "metadata": {},
   "outputs": [
    {
     "output_type": "execute_result",
     "data": {
      "text/plain": [
       "    Timestamp      Bitcoin  Ether\n",
       "0  2017-04-02  1099.169125  48.55\n",
       "1  2017-04-03  1141.813000  44.13\n",
       "2  2017-04-04  1141.600363  44.43\n",
       "3  2017-04-05  1133.079314  44.90\n",
       "4  2017-04-06  1196.307937  43.23"
      ],
      "text/html": "<div>\n<style scoped>\n    .dataframe tbody tr th:only-of-type {\n        vertical-align: middle;\n    }\n\n    .dataframe tbody tr th {\n        vertical-align: top;\n    }\n\n    .dataframe thead th {\n        text-align: right;\n    }\n</style>\n<table border=\"1\" class=\"dataframe\">\n  <thead>\n    <tr style=\"text-align: right;\">\n      <th></th>\n      <th>Timestamp</th>\n      <th>Bitcoin</th>\n      <th>Ether</th>\n    </tr>\n  </thead>\n  <tbody>\n    <tr>\n      <th>0</th>\n      <td>2017-04-02</td>\n      <td>1099.169125</td>\n      <td>48.55</td>\n    </tr>\n    <tr>\n      <th>1</th>\n      <td>2017-04-03</td>\n      <td>1141.813000</td>\n      <td>44.13</td>\n    </tr>\n    <tr>\n      <th>2</th>\n      <td>2017-04-04</td>\n      <td>1141.600363</td>\n      <td>44.43</td>\n    </tr>\n    <tr>\n      <th>3</th>\n      <td>2017-04-05</td>\n      <td>1133.079314</td>\n      <td>44.90</td>\n    </tr>\n    <tr>\n      <th>4</th>\n      <td>2017-04-06</td>\n      <td>1196.307937</td>\n      <td>43.23</td>\n    </tr>\n  </tbody>\n</table>\n</div>"
     },
     "metadata": {},
     "execution_count": 3
    }
   ],
   "source": [
    "# assign to df variable\n",
    "df = pd.read_csv(filepath)\n",
    "df.head()"
   ]
  },
  {
   "cell_type": "code",
   "execution_count": 4,
   "metadata": {},
   "outputs": [
    {
     "output_type": "execute_result",
     "data": {
      "text/plain": [
       "Timestamp    0\n",
       "Bitcoin      0\n",
       "Ether        3\n",
       "dtype: int64"
      ]
     },
     "metadata": {},
     "execution_count": 4
    }
   ],
   "source": [
    "# Check null value\n",
    "df.isnull().sum()"
   ]
  },
  {
   "cell_type": "code",
   "execution_count": 5,
   "metadata": {},
   "outputs": [
    {
     "output_type": "execute_result",
     "data": {
      "text/plain": [
       "      Timestamp       Bitcoin  Ether\n",
       "250  2017-12-08  16007.436667    NaN\n",
       "251  2017-12-09  15142.834152    NaN\n",
       "252  2017-12-10  14869.805000    NaN"
      ],
      "text/html": "<div>\n<style scoped>\n    .dataframe tbody tr th:only-of-type {\n        vertical-align: middle;\n    }\n\n    .dataframe tbody tr th {\n        vertical-align: top;\n    }\n\n    .dataframe thead th {\n        text-align: right;\n    }\n</style>\n<table border=\"1\" class=\"dataframe\">\n  <thead>\n    <tr style=\"text-align: right;\">\n      <th></th>\n      <th>Timestamp</th>\n      <th>Bitcoin</th>\n      <th>Ether</th>\n    </tr>\n  </thead>\n  <tbody>\n    <tr>\n      <th>250</th>\n      <td>2017-12-08</td>\n      <td>16007.436667</td>\n      <td>NaN</td>\n    </tr>\n    <tr>\n      <th>251</th>\n      <td>2017-12-09</td>\n      <td>15142.834152</td>\n      <td>NaN</td>\n    </tr>\n    <tr>\n      <th>252</th>\n      <td>2017-12-10</td>\n      <td>14869.805000</td>\n      <td>NaN</td>\n    </tr>\n  </tbody>\n</table>\n</div>"
     },
     "metadata": {},
     "execution_count": 5
    }
   ],
   "source": [
    "# See null value\n",
    "df[df['Ether'].isnull()]"
   ]
  },
  {
   "cell_type": "code",
   "execution_count": 6,
   "metadata": {},
   "outputs": [
    {
     "output_type": "execute_result",
     "data": {
      "text/plain": [
       "count      362.000000\n",
       "mean       506.203757\n",
       "std       1112.117333\n",
       "min         42.310000\n",
       "25%        241.945000\n",
       "50%        309.730000\n",
       "75%        683.777500\n",
       "max      20089.420000\n",
       "Name: Ether, dtype: float64"
      ]
     },
     "metadata": {},
     "execution_count": 6
    }
   ],
   "source": [
    "# check basic stats before fill null value\n",
    "df['Ether'].describe() "
   ]
  },
  {
   "cell_type": "code",
   "execution_count": 7,
   "metadata": {},
   "outputs": [],
   "source": [
    "# fill null value with ffill method (top nearest value)\n",
    "df[df['Ether'].isnull()] = df.fillna(method='ffill')"
   ]
  },
  {
   "cell_type": "code",
   "execution_count": 8,
   "metadata": {},
   "outputs": [
    {
     "output_type": "execute_result",
     "data": {
      "text/plain": [
       "      Timestamp       Bitcoin   Ether\n",
       "249  2017-12-07  16501.971667  421.15\n",
       "250  2017-12-08  16007.436667  421.15\n",
       "251  2017-12-09  15142.834152  421.15\n",
       "252  2017-12-10  14869.805000  421.15\n",
       "253  2017-12-11  16762.116667  513.29"
      ],
      "text/html": "<div>\n<style scoped>\n    .dataframe tbody tr th:only-of-type {\n        vertical-align: middle;\n    }\n\n    .dataframe tbody tr th {\n        vertical-align: top;\n    }\n\n    .dataframe thead th {\n        text-align: right;\n    }\n</style>\n<table border=\"1\" class=\"dataframe\">\n  <thead>\n    <tr style=\"text-align: right;\">\n      <th></th>\n      <th>Timestamp</th>\n      <th>Bitcoin</th>\n      <th>Ether</th>\n    </tr>\n  </thead>\n  <tbody>\n    <tr>\n      <th>249</th>\n      <td>2017-12-07</td>\n      <td>16501.971667</td>\n      <td>421.15</td>\n    </tr>\n    <tr>\n      <th>250</th>\n      <td>2017-12-08</td>\n      <td>16007.436667</td>\n      <td>421.15</td>\n    </tr>\n    <tr>\n      <th>251</th>\n      <td>2017-12-09</td>\n      <td>15142.834152</td>\n      <td>421.15</td>\n    </tr>\n    <tr>\n      <th>252</th>\n      <td>2017-12-10</td>\n      <td>14869.805000</td>\n      <td>421.15</td>\n    </tr>\n    <tr>\n      <th>253</th>\n      <td>2017-12-11</td>\n      <td>16762.116667</td>\n      <td>513.29</td>\n    </tr>\n  </tbody>\n</table>\n</div>"
     },
     "metadata": {},
     "execution_count": 8
    }
   ],
   "source": [
    "# check data after fill null value\n",
    "df.iloc[249 :254]"
   ]
  },
  {
   "cell_type": "code",
   "execution_count": 9,
   "metadata": {},
   "outputs": [
    {
     "output_type": "execute_result",
     "data": {
      "text/plain": [
       "count      365.000000\n",
       "mean       505.504685\n",
       "std       1107.551645\n",
       "min         42.310000\n",
       "25%        244.960000\n",
       "50%        311.260000\n",
       "75%        682.300000\n",
       "max      20089.420000\n",
       "Name: Ether, dtype: float64"
      ]
     },
     "metadata": {},
     "execution_count": 9
    }
   ],
   "source": [
    "# check basic stats after fill null value\n",
    "df['Ether'].describe()"
   ]
  },
  {
   "cell_type": "code",
   "execution_count": 10,
   "metadata": {},
   "outputs": [],
   "source": [
    "# Saving output file\n",
    "out_filepath = 'data out/csv/btc-eth-prices.csv'\n",
    "\n",
    "df.to_csv(out_filepath, index=False)"
   ]
  },
  {
   "cell_type": "code",
   "execution_count": 11,
   "metadata": {},
   "outputs": [
    {
     "output_type": "execute_result",
     "data": {
      "text/plain": [
       "                                                    color      director_name  \\\n",
       "movie_title                                                                    \n",
       "Avatar                                              Color      James Cameron   \n",
       "Pirates of the Caribbean: At World's End            Color     Gore Verbinski   \n",
       "Spectre                                             Color         Sam Mendes   \n",
       "The Dark Knight Rises                               Color  Christopher Nolan   \n",
       "Star Wars: Episode VII - The Force Awakens     ...    NaN        Doug Walker   \n",
       "\n",
       "                                                    num_critic_for_reviews  \\\n",
       "movie_title                                                                  \n",
       "Avatar                                                               723.0   \n",
       "Pirates of the Caribbean: At World's End                             302.0   \n",
       "Spectre                                                              602.0   \n",
       "The Dark Knight Rises                                                813.0   \n",
       "Star Wars: Episode VII - The Force Awakens     ...                     NaN   \n",
       "\n",
       "                                                    duration        gross  \\\n",
       "movie_title                                                                 \n",
       "Avatar                                                 178.0  760505847.0   \n",
       "Pirates of the Caribbean: At World's End               169.0  309404152.0   \n",
       "Spectre                                                148.0  200074175.0   \n",
       "The Dark Knight Rises                                  164.0  448130642.0   \n",
       "Star Wars: Episode VII - The Force Awakens     ...       NaN          NaN   \n",
       "\n",
       "                                                    num_user_for_reviews  \\\n",
       "movie_title                                                                \n",
       "Avatar                                                            3054.0   \n",
       "Pirates of the Caribbean: At World's End                          1238.0   \n",
       "Spectre                                                            994.0   \n",
       "The Dark Knight Rises                                             2701.0   \n",
       "Star Wars: Episode VII - The Force Awakens     ...                   NaN   \n",
       "\n",
       "                                                   country content_rating  \\\n",
       "movie_title                                                                 \n",
       "Avatar                                                 USA          PG-13   \n",
       "Pirates of the Caribbean: At World's End               USA          PG-13   \n",
       "Spectre                                                 UK          PG-13   \n",
       "The Dark Knight Rises                                  USA          PG-13   \n",
       "Star Wars: Episode VII - The Force Awakens     ...     NaN            NaN   \n",
       "\n",
       "                                                         budget  title_year  \\\n",
       "movie_title                                                                   \n",
       "Avatar                                              237000000.0      2009.0   \n",
       "Pirates of the Caribbean: At World's End            300000000.0      2007.0   \n",
       "Spectre                                             245000000.0      2015.0   \n",
       "The Dark Knight Rises                               250000000.0      2012.0   \n",
       "Star Wars: Episode VII - The Force Awakens     ...          NaN         NaN   \n",
       "\n",
       "                                                    imdb_score        genre  \n",
       "movie_title                                                                  \n",
       "Avatar                                                     7.9       Action  \n",
       "Pirates of the Caribbean: At World's End                   7.1       Action  \n",
       "Spectre                                                    6.8       Action  \n",
       "The Dark Knight Rises                                      8.5       Action  \n",
       "Star Wars: Episode VII - The Force Awakens     ...         7.1  Documentary  "
      ],
      "text/html": "<div>\n<style scoped>\n    .dataframe tbody tr th:only-of-type {\n        vertical-align: middle;\n    }\n\n    .dataframe tbody tr th {\n        vertical-align: top;\n    }\n\n    .dataframe thead th {\n        text-align: right;\n    }\n</style>\n<table border=\"1\" class=\"dataframe\">\n  <thead>\n    <tr style=\"text-align: right;\">\n      <th></th>\n      <th>color</th>\n      <th>director_name</th>\n      <th>num_critic_for_reviews</th>\n      <th>duration</th>\n      <th>gross</th>\n      <th>num_user_for_reviews</th>\n      <th>country</th>\n      <th>content_rating</th>\n      <th>budget</th>\n      <th>title_year</th>\n      <th>imdb_score</th>\n      <th>genre</th>\n    </tr>\n    <tr>\n      <th>movie_title</th>\n      <th></th>\n      <th></th>\n      <th></th>\n      <th></th>\n      <th></th>\n      <th></th>\n      <th></th>\n      <th></th>\n      <th></th>\n      <th></th>\n      <th></th>\n      <th></th>\n    </tr>\n  </thead>\n  <tbody>\n    <tr>\n      <th>Avatar</th>\n      <td>Color</td>\n      <td>James Cameron</td>\n      <td>723.0</td>\n      <td>178.0</td>\n      <td>760505847.0</td>\n      <td>3054.0</td>\n      <td>USA</td>\n      <td>PG-13</td>\n      <td>237000000.0</td>\n      <td>2009.0</td>\n      <td>7.9</td>\n      <td>Action</td>\n    </tr>\n    <tr>\n      <th>Pirates of the Caribbean: At World's End</th>\n      <td>Color</td>\n      <td>Gore Verbinski</td>\n      <td>302.0</td>\n      <td>169.0</td>\n      <td>309404152.0</td>\n      <td>1238.0</td>\n      <td>USA</td>\n      <td>PG-13</td>\n      <td>300000000.0</td>\n      <td>2007.0</td>\n      <td>7.1</td>\n      <td>Action</td>\n    </tr>\n    <tr>\n      <th>Spectre</th>\n      <td>Color</td>\n      <td>Sam Mendes</td>\n      <td>602.0</td>\n      <td>148.0</td>\n      <td>200074175.0</td>\n      <td>994.0</td>\n      <td>UK</td>\n      <td>PG-13</td>\n      <td>245000000.0</td>\n      <td>2015.0</td>\n      <td>6.8</td>\n      <td>Action</td>\n    </tr>\n    <tr>\n      <th>The Dark Knight Rises</th>\n      <td>Color</td>\n      <td>Christopher Nolan</td>\n      <td>813.0</td>\n      <td>164.0</td>\n      <td>448130642.0</td>\n      <td>2701.0</td>\n      <td>USA</td>\n      <td>PG-13</td>\n      <td>250000000.0</td>\n      <td>2012.0</td>\n      <td>8.5</td>\n      <td>Action</td>\n    </tr>\n    <tr>\n      <th>Star Wars: Episode VII - The Force Awakens</th>\n      <td>NaN</td>\n      <td>Doug Walker</td>\n      <td>NaN</td>\n      <td>NaN</td>\n      <td>NaN</td>\n      <td>NaN</td>\n      <td>NaN</td>\n      <td>NaN</td>\n      <td>NaN</td>\n      <td>NaN</td>\n      <td>7.1</td>\n      <td>Documentary</td>\n    </tr>\n  </tbody>\n</table>\n</div>"
     },
     "metadata": {},
     "execution_count": 11
    }
   ],
   "source": [
    "# Read csv file with separator/delimiter, and new header\n",
    "col_names = ['color', 'director_name', 'num_critic_for_reviews', 'duration',\n",
    "                'gross', 'movie_title', 'num_user_for_reviews', 'country',\n",
    "                'content_rating', 'budget', 'title_year', 'imdb_score', 'genre']\n",
    "movie_df = pd.read_csv('data/csv/movies.csv', sep='|', header=None, names=col_names, na_values='?', index_col='movie_title', thousands=',')\n",
    "movie_df.head()"
   ]
  },
  {
   "cell_type": "code",
   "execution_count": 12,
   "metadata": {},
   "outputs": [
    {
     "output_type": "execute_result",
     "data": {
      "text/plain": [
       "color                     1\n",
       "director_name             0\n",
       "num_critic_for_reviews    1\n",
       "duration                  1\n",
       "gross                     3\n",
       "num_user_for_reviews      1\n",
       "country                   1\n",
       "content_rating            2\n",
       "budget                    4\n",
       "title_year                1\n",
       "imdb_score                0\n",
       "genre                     0\n",
       "dtype: int64"
      ]
     },
     "metadata": {},
     "execution_count": 12
    }
   ],
   "source": [
    "movie_df.isnull().sum()"
   ]
  },
  {
   "cell_type": "code",
   "execution_count": 13,
   "metadata": {},
   "outputs": [
    {
     "output_type": "execute_result",
     "data": {
      "text/plain": [
       "                                                    color      director_name  \\\n",
       "movie_title                                                                    \n",
       "Avatar                                              Color      James Cameron   \n",
       "Pirates of the Caribbean: At World's End            Color     Gore Verbinski   \n",
       "Spectre                                             Color         Sam Mendes   \n",
       "The Dark Knight Rises                               Color  Christopher Nolan   \n",
       "Star Wars: Episode VII - The Force Awakens     ...  Color        Doug Walker   \n",
       "\n",
       "                                                    num_critic_for_reviews  \\\n",
       "movie_title                                                                  \n",
       "Avatar                                                               723.0   \n",
       "Pirates of the Caribbean: At World's End                             302.0   \n",
       "Spectre                                                              602.0   \n",
       "The Dark Knight Rises                                                813.0   \n",
       "Star Wars: Episode VII - The Force Awakens     ...                     NaN   \n",
       "\n",
       "                                                    duration        gross  \\\n",
       "movie_title                                                                 \n",
       "Avatar                                                 178.0  760505847.0   \n",
       "Pirates of the Caribbean: At World's End               169.0  309404152.0   \n",
       "Spectre                                                148.0  200074175.0   \n",
       "The Dark Knight Rises                                  164.0  448130642.0   \n",
       "Star Wars: Episode VII - The Force Awakens     ...       NaN          NaN   \n",
       "\n",
       "                                                    num_user_for_reviews  \\\n",
       "movie_title                                                                \n",
       "Avatar                                                            3054.0   \n",
       "Pirates of the Caribbean: At World's End                          1238.0   \n",
       "Spectre                                                            994.0   \n",
       "The Dark Knight Rises                                             2701.0   \n",
       "Star Wars: Episode VII - The Force Awakens     ...                   NaN   \n",
       "\n",
       "                                                   country content_rating  \\\n",
       "movie_title                                                                 \n",
       "Avatar                                                 USA          PG-13   \n",
       "Pirates of the Caribbean: At World's End               USA          PG-13   \n",
       "Spectre                                                 UK          PG-13   \n",
       "The Dark Knight Rises                                  USA          PG-13   \n",
       "Star Wars: Episode VII - The Force Awakens     ...     NaN            NaN   \n",
       "\n",
       "                                                         budget  title_year  \\\n",
       "movie_title                                                                   \n",
       "Avatar                                              237000000.0      2009.0   \n",
       "Pirates of the Caribbean: At World's End            300000000.0      2007.0   \n",
       "Spectre                                             245000000.0      2015.0   \n",
       "The Dark Knight Rises                               250000000.0      2012.0   \n",
       "Star Wars: Episode VII - The Force Awakens     ...          NaN         NaN   \n",
       "\n",
       "                                                    imdb_score        genre  \n",
       "movie_title                                                                  \n",
       "Avatar                                                     7.9       Action  \n",
       "Pirates of the Caribbean: At World's End                   7.1       Action  \n",
       "Spectre                                                    6.8       Action  \n",
       "The Dark Knight Rises                                      8.5       Action  \n",
       "Star Wars: Episode VII - The Force Awakens     ...         7.1  Documentary  "
      ],
      "text/html": "<div>\n<style scoped>\n    .dataframe tbody tr th:only-of-type {\n        vertical-align: middle;\n    }\n\n    .dataframe tbody tr th {\n        vertical-align: top;\n    }\n\n    .dataframe thead th {\n        text-align: right;\n    }\n</style>\n<table border=\"1\" class=\"dataframe\">\n  <thead>\n    <tr style=\"text-align: right;\">\n      <th></th>\n      <th>color</th>\n      <th>director_name</th>\n      <th>num_critic_for_reviews</th>\n      <th>duration</th>\n      <th>gross</th>\n      <th>num_user_for_reviews</th>\n      <th>country</th>\n      <th>content_rating</th>\n      <th>budget</th>\n      <th>title_year</th>\n      <th>imdb_score</th>\n      <th>genre</th>\n    </tr>\n    <tr>\n      <th>movie_title</th>\n      <th></th>\n      <th></th>\n      <th></th>\n      <th></th>\n      <th></th>\n      <th></th>\n      <th></th>\n      <th></th>\n      <th></th>\n      <th></th>\n      <th></th>\n      <th></th>\n    </tr>\n  </thead>\n  <tbody>\n    <tr>\n      <th>Avatar</th>\n      <td>Color</td>\n      <td>James Cameron</td>\n      <td>723.0</td>\n      <td>178.0</td>\n      <td>760505847.0</td>\n      <td>3054.0</td>\n      <td>USA</td>\n      <td>PG-13</td>\n      <td>237000000.0</td>\n      <td>2009.0</td>\n      <td>7.9</td>\n      <td>Action</td>\n    </tr>\n    <tr>\n      <th>Pirates of the Caribbean: At World's End</th>\n      <td>Color</td>\n      <td>Gore Verbinski</td>\n      <td>302.0</td>\n      <td>169.0</td>\n      <td>309404152.0</td>\n      <td>1238.0</td>\n      <td>USA</td>\n      <td>PG-13</td>\n      <td>300000000.0</td>\n      <td>2007.0</td>\n      <td>7.1</td>\n      <td>Action</td>\n    </tr>\n    <tr>\n      <th>Spectre</th>\n      <td>Color</td>\n      <td>Sam Mendes</td>\n      <td>602.0</td>\n      <td>148.0</td>\n      <td>200074175.0</td>\n      <td>994.0</td>\n      <td>UK</td>\n      <td>PG-13</td>\n      <td>245000000.0</td>\n      <td>2015.0</td>\n      <td>6.8</td>\n      <td>Action</td>\n    </tr>\n    <tr>\n      <th>The Dark Knight Rises</th>\n      <td>Color</td>\n      <td>Christopher Nolan</td>\n      <td>813.0</td>\n      <td>164.0</td>\n      <td>448130642.0</td>\n      <td>2701.0</td>\n      <td>USA</td>\n      <td>PG-13</td>\n      <td>250000000.0</td>\n      <td>2012.0</td>\n      <td>8.5</td>\n      <td>Action</td>\n    </tr>\n    <tr>\n      <th>Star Wars: Episode VII - The Force Awakens</th>\n      <td>Color</td>\n      <td>Doug Walker</td>\n      <td>NaN</td>\n      <td>NaN</td>\n      <td>NaN</td>\n      <td>NaN</td>\n      <td>NaN</td>\n      <td>NaN</td>\n      <td>NaN</td>\n      <td>NaN</td>\n      <td>7.1</td>\n      <td>Documentary</td>\n    </tr>\n  </tbody>\n</table>\n</div>"
     },
     "metadata": {},
     "execution_count": 13
    }
   ],
   "source": [
    "movie_df[movie_df['color'].isnull()] = movie_df.fillna(value={'color':'Color'})\n",
    "movie_df.head()"
   ]
  },
  {
   "cell_type": "code",
   "execution_count": 14,
   "metadata": {},
   "outputs": [],
   "source": [
    "movie_df = movie_df.fillna(value={'gross':movie_df['gross'].mean()})"
   ]
  },
  {
   "cell_type": "code",
   "execution_count": 15,
   "metadata": {},
   "outputs": [
    {
     "output_type": "stream",
     "name": "stdout",
     "text": [
      "<class 'pandas.core.frame.DataFrame'>\nIndex: 100 entries, Avatar  to The Hobbit: An Unexpected Journey \nData columns (total 12 columns):\n #   Column                  Non-Null Count  Dtype  \n---  ------                  --------------  -----  \n 0   color                   100 non-null    object \n 1   director_name           100 non-null    object \n 2   num_critic_for_reviews  99 non-null     float64\n 3   duration                99 non-null     float64\n 4   gross                   100 non-null    float64\n 5   num_user_for_reviews    99 non-null     float64\n 6   country                 99 non-null     object \n 7   content_rating          98 non-null     object \n 8   budget                  96 non-null     float64\n 9   title_year              99 non-null     float64\n 10  imdb_score              100 non-null    float64\n 11  genre                   100 non-null    object \ndtypes: float64(7), object(5)\nmemory usage: 7.8+ KB\n"
     ]
    }
   ],
   "source": [
    "movie_df.info()"
   ]
  },
  {
   "cell_type": "code",
   "execution_count": 16,
   "metadata": {},
   "outputs": [],
   "source": [
    "movie_df = movie_df.fillna(value={'budget':movie_df['budget'].mean()})"
   ]
  },
  {
   "cell_type": "code",
   "execution_count": 17,
   "metadata": {},
   "outputs": [],
   "source": [
    "movie_df[movie_df['country'].isnull()] = movie_df.fillna(value={'country':movie_df['country'].mode()})\n",
    "movie_df[movie_df['content_rating'].isnull()] = movie_df.fillna(value={'content_rating':movie_df['content_rating'].mode()})"
   ]
  },
  {
   "cell_type": "code",
   "execution_count": 18,
   "metadata": {},
   "outputs": [],
   "source": [
    "movie_df = movie_df.fillna(value={'content_rating':movie_df['content_rating'].mode()})"
   ]
  },
  {
   "cell_type": "code",
   "execution_count": 19,
   "metadata": {},
   "outputs": [
    {
     "output_type": "execute_result",
     "data": {
      "text/plain": [
       "color                     0\n",
       "director_name             0\n",
       "num_critic_for_reviews    1\n",
       "duration                  1\n",
       "gross                     0\n",
       "num_user_for_reviews      1\n",
       "country                   1\n",
       "content_rating            2\n",
       "budget                    0\n",
       "title_year                1\n",
       "imdb_score                0\n",
       "genre                     0\n",
       "dtype: int64"
      ]
     },
     "metadata": {},
     "execution_count": 19
    }
   ],
   "source": [
    "movie_df.isnull().sum()"
   ]
  },
  {
   "cell_type": "code",
   "execution_count": 20,
   "metadata": {},
   "outputs": [],
   "source": [
    "movie_df = movie_df.fillna(value={'num_user_for_reviews':movie_df['num_user_for_reviews'].max()})"
   ]
  },
  {
   "cell_type": "code",
   "execution_count": 21,
   "metadata": {},
   "outputs": [],
   "source": [
    "movie_df = movie_df.fillna(value={'num_critic_for_reviews':movie_df['num_critic_for_reviews'].max()})"
   ]
  },
  {
   "cell_type": "code",
   "execution_count": 22,
   "metadata": {},
   "outputs": [],
   "source": [
    "movie_df = movie_df.fillna(value={'duration':movie_df['duration'].mean()})"
   ]
  },
  {
   "cell_type": "code",
   "execution_count": 23,
   "metadata": {},
   "outputs": [],
   "source": [
    "movie_df = movie_df.fillna(value={'title_year':movie_df['title_year'].mode()})"
   ]
  },
  {
   "cell_type": "code",
   "execution_count": 24,
   "metadata": {},
   "outputs": [],
   "source": [
    "movie_df['content_rating'] = movie_df['content_rating'].fillna('PG-13')"
   ]
  },
  {
   "cell_type": "code",
   "execution_count": 25,
   "metadata": {},
   "outputs": [],
   "source": [
    "movie_df['title_year'] = movie_df['title_year'].fillna(2013)"
   ]
  },
  {
   "cell_type": "code",
   "execution_count": 26,
   "metadata": {},
   "outputs": [],
   "source": [
    "movie_df['country'] = movie_df['country'].fillna('USA')"
   ]
  },
  {
   "cell_type": "code",
   "execution_count": 27,
   "metadata": {},
   "outputs": [
    {
     "output_type": "execute_result",
     "data": {
      "text/plain": [
       "color                     0\n",
       "director_name             0\n",
       "num_critic_for_reviews    0\n",
       "duration                  0\n",
       "gross                     0\n",
       "num_user_for_reviews      0\n",
       "country                   0\n",
       "content_rating            0\n",
       "budget                    0\n",
       "title_year                0\n",
       "imdb_score                0\n",
       "genre                     0\n",
       "dtype: int64"
      ]
     },
     "metadata": {},
     "execution_count": 27
    }
   ],
   "source": [
    "movie_df.isnull().sum()"
   ]
  },
  {
   "cell_type": "code",
   "execution_count": 28,
   "metadata": {},
   "outputs": [
    {
     "output_type": "execute_result",
     "data": {
      "text/plain": [
       "                                                    color      director_name  \\\n",
       "movie_title                                                                    \n",
       "Avatar                                              Color      James Cameron   \n",
       "Pirates of the Caribbean: At World's End            Color     Gore Verbinski   \n",
       "Spectre                                             Color         Sam Mendes   \n",
       "The Dark Knight Rises                               Color  Christopher Nolan   \n",
       "Star Wars: Episode VII - The Force Awakens     ...  Color        Doug Walker   \n",
       "\n",
       "                                                    num_critic_for_reviews  \\\n",
       "movie_title                                                                  \n",
       "Avatar                                                               723.0   \n",
       "Pirates of the Caribbean: At World's End                             302.0   \n",
       "Spectre                                                              602.0   \n",
       "The Dark Knight Rises                                                813.0   \n",
       "Star Wars: Episode VII - The Force Awakens     ...                   813.0   \n",
       "\n",
       "                                                      duration         gross  \\\n",
       "movie_title                                                                    \n",
       "Avatar                                              178.000000  7.605058e+08   \n",
       "Pirates of the Caribbean: At World's End            169.000000  3.094042e+08   \n",
       "Spectre                                             148.000000  2.000742e+08   \n",
       "The Dark Knight Rises                               164.000000  4.481306e+08   \n",
       "Star Wars: Episode VII - The Force Awakens     ...  131.535354  2.383477e+08   \n",
       "\n",
       "                                                    num_user_for_reviews  \\\n",
       "movie_title                                                                \n",
       "Avatar                                                            3054.0   \n",
       "Pirates of the Caribbean: At World's End                          1238.0   \n",
       "Spectre                                                            994.0   \n",
       "The Dark Knight Rises                                             2701.0   \n",
       "Star Wars: Episode VII - The Force Awakens     ...                4667.0   \n",
       "\n",
       "                                                   country content_rating  \\\n",
       "movie_title                                                                 \n",
       "Avatar                                                 USA          PG-13   \n",
       "Pirates of the Caribbean: At World's End               USA          PG-13   \n",
       "Spectre                                                 UK          PG-13   \n",
       "The Dark Knight Rises                                  USA          PG-13   \n",
       "Star Wars: Episode VII - The Force Awakens     ...     USA          PG-13   \n",
       "\n",
       "                                                         budget  title_year  \\\n",
       "movie_title                                                                   \n",
       "Avatar                                              237000000.0      2009.0   \n",
       "Pirates of the Caribbean: At World's End            300000000.0      2007.0   \n",
       "Spectre                                             245000000.0      2015.0   \n",
       "The Dark Knight Rises                               250000000.0      2012.0   \n",
       "Star Wars: Episode VII - The Force Awakens     ...  195996875.0      2013.0   \n",
       "\n",
       "                                                    imdb_score        genre  \n",
       "movie_title                                                                  \n",
       "Avatar                                                     7.9       Action  \n",
       "Pirates of the Caribbean: At World's End                   7.1       Action  \n",
       "Spectre                                                    6.8       Action  \n",
       "The Dark Knight Rises                                      8.5       Action  \n",
       "Star Wars: Episode VII - The Force Awakens     ...         7.1  Documentary  "
      ],
      "text/html": "<div>\n<style scoped>\n    .dataframe tbody tr th:only-of-type {\n        vertical-align: middle;\n    }\n\n    .dataframe tbody tr th {\n        vertical-align: top;\n    }\n\n    .dataframe thead th {\n        text-align: right;\n    }\n</style>\n<table border=\"1\" class=\"dataframe\">\n  <thead>\n    <tr style=\"text-align: right;\">\n      <th></th>\n      <th>color</th>\n      <th>director_name</th>\n      <th>num_critic_for_reviews</th>\n      <th>duration</th>\n      <th>gross</th>\n      <th>num_user_for_reviews</th>\n      <th>country</th>\n      <th>content_rating</th>\n      <th>budget</th>\n      <th>title_year</th>\n      <th>imdb_score</th>\n      <th>genre</th>\n    </tr>\n    <tr>\n      <th>movie_title</th>\n      <th></th>\n      <th></th>\n      <th></th>\n      <th></th>\n      <th></th>\n      <th></th>\n      <th></th>\n      <th></th>\n      <th></th>\n      <th></th>\n      <th></th>\n      <th></th>\n    </tr>\n  </thead>\n  <tbody>\n    <tr>\n      <th>Avatar</th>\n      <td>Color</td>\n      <td>James Cameron</td>\n      <td>723.0</td>\n      <td>178.000000</td>\n      <td>7.605058e+08</td>\n      <td>3054.0</td>\n      <td>USA</td>\n      <td>PG-13</td>\n      <td>237000000.0</td>\n      <td>2009.0</td>\n      <td>7.9</td>\n      <td>Action</td>\n    </tr>\n    <tr>\n      <th>Pirates of the Caribbean: At World's End</th>\n      <td>Color</td>\n      <td>Gore Verbinski</td>\n      <td>302.0</td>\n      <td>169.000000</td>\n      <td>3.094042e+08</td>\n      <td>1238.0</td>\n      <td>USA</td>\n      <td>PG-13</td>\n      <td>300000000.0</td>\n      <td>2007.0</td>\n      <td>7.1</td>\n      <td>Action</td>\n    </tr>\n    <tr>\n      <th>Spectre</th>\n      <td>Color</td>\n      <td>Sam Mendes</td>\n      <td>602.0</td>\n      <td>148.000000</td>\n      <td>2.000742e+08</td>\n      <td>994.0</td>\n      <td>UK</td>\n      <td>PG-13</td>\n      <td>245000000.0</td>\n      <td>2015.0</td>\n      <td>6.8</td>\n      <td>Action</td>\n    </tr>\n    <tr>\n      <th>The Dark Knight Rises</th>\n      <td>Color</td>\n      <td>Christopher Nolan</td>\n      <td>813.0</td>\n      <td>164.000000</td>\n      <td>4.481306e+08</td>\n      <td>2701.0</td>\n      <td>USA</td>\n      <td>PG-13</td>\n      <td>250000000.0</td>\n      <td>2012.0</td>\n      <td>8.5</td>\n      <td>Action</td>\n    </tr>\n    <tr>\n      <th>Star Wars: Episode VII - The Force Awakens</th>\n      <td>Color</td>\n      <td>Doug Walker</td>\n      <td>813.0</td>\n      <td>131.535354</td>\n      <td>2.383477e+08</td>\n      <td>4667.0</td>\n      <td>USA</td>\n      <td>PG-13</td>\n      <td>195996875.0</td>\n      <td>2013.0</td>\n      <td>7.1</td>\n      <td>Documentary</td>\n    </tr>\n  </tbody>\n</table>\n</div>"
     },
     "metadata": {},
     "execution_count": 28
    }
   ],
   "source": [
    "movie_df.head()"
   ]
  },
  {
   "cell_type": "code",
   "execution_count": 29,
   "metadata": {},
   "outputs": [],
   "source": [
    "# Saving output file\n",
    "movie_df.to_csv('data out/csv/movies.csv')"
   ]
  },
  {
   "cell_type": "code",
   "execution_count": 30,
   "metadata": {},
   "outputs": [
    {
     "output_type": "execute_result",
     "data": {
      "text/plain": [
       "                                                             Title   Air date  \\\n",
       "Production code                                                                 \n",
       "7F01             Two Cars in Every Garage and Three Eyes on Eve... 1990-01-11   \n",
       "7F08                                                           NaN 1990-11-15   \n",
       "7F06                                            Bart the Daredevil 1990-06-12   \n",
       "NaN                                         Bart Gets Hit by a Car 1991-10-01   \n",
       "7F13                        Homer vs. Lisa and the 8th Commandment 1991-07-02   \n",
       "\n",
       "                 Season  Number in season  Number in series  \\\n",
       "Production code                                               \n",
       "7F01                2.0                 4                17   \n",
       "7F08                2.0                 6                19   \n",
       "7F06                2.0                 8                21   \n",
       "NaN                 2.0                10                23   \n",
       "7F13                2.0                13                26   \n",
       "\n",
       "                 US viewers (million)    Views  IMDB rating  \n",
       "Production code                                              \n",
       "7F01                             26.1  64959.0          8.1  \n",
       "7F08                             25.4  50691.0          8.0  \n",
       "7F06                             26.2  57605.0          NaN  \n",
       "NaN                              24.8  56486.0          7.8  \n",
       "7F13                             26.2  58277.0          8.0  "
      ],
      "text/html": "<div>\n<style scoped>\n    .dataframe tbody tr th:only-of-type {\n        vertical-align: middle;\n    }\n\n    .dataframe tbody tr th {\n        vertical-align: top;\n    }\n\n    .dataframe thead th {\n        text-align: right;\n    }\n</style>\n<table border=\"1\" class=\"dataframe\">\n  <thead>\n    <tr style=\"text-align: right;\">\n      <th></th>\n      <th>Title</th>\n      <th>Air date</th>\n      <th>Season</th>\n      <th>Number in season</th>\n      <th>Number in series</th>\n      <th>US viewers (million)</th>\n      <th>Views</th>\n      <th>IMDB rating</th>\n    </tr>\n    <tr>\n      <th>Production code</th>\n      <th></th>\n      <th></th>\n      <th></th>\n      <th></th>\n      <th></th>\n      <th></th>\n      <th></th>\n      <th></th>\n    </tr>\n  </thead>\n  <tbody>\n    <tr>\n      <th>7F01</th>\n      <td>Two Cars in Every Garage and Three Eyes on Eve...</td>\n      <td>1990-01-11</td>\n      <td>2.0</td>\n      <td>4</td>\n      <td>17</td>\n      <td>26.1</td>\n      <td>64959.0</td>\n      <td>8.1</td>\n    </tr>\n    <tr>\n      <th>7F08</th>\n      <td>NaN</td>\n      <td>1990-11-15</td>\n      <td>2.0</td>\n      <td>6</td>\n      <td>19</td>\n      <td>25.4</td>\n      <td>50691.0</td>\n      <td>8.0</td>\n    </tr>\n    <tr>\n      <th>7F06</th>\n      <td>Bart the Daredevil</td>\n      <td>1990-06-12</td>\n      <td>2.0</td>\n      <td>8</td>\n      <td>21</td>\n      <td>26.2</td>\n      <td>57605.0</td>\n      <td>NaN</td>\n    </tr>\n    <tr>\n      <th>NaN</th>\n      <td>Bart Gets Hit by a Car</td>\n      <td>1991-10-01</td>\n      <td>2.0</td>\n      <td>10</td>\n      <td>23</td>\n      <td>24.8</td>\n      <td>56486.0</td>\n      <td>7.8</td>\n    </tr>\n    <tr>\n      <th>7F13</th>\n      <td>Homer vs. Lisa and the 8th Commandment</td>\n      <td>1991-07-02</td>\n      <td>2.0</td>\n      <td>13</td>\n      <td>26</td>\n      <td>26.2</td>\n      <td>58277.0</td>\n      <td>8.0</td>\n    </tr>\n  </tbody>\n</table>\n</div>"
     },
     "metadata": {},
     "execution_count": 30
    }
   ],
   "source": [
    "# reading tsv (tab separated value) with pd.read_csv\n",
    "tsv = 'data/tsv/simpsons-episodes.tsv'\n",
    "col_names = ['Title', 'Air date', 'Production code', 'Season', 'Number in season',\n",
    "             'Number in series', 'US viewers (million)', 'Views', 'IMDB rating']\n",
    "\n",
    "simpsons_df = pd.read_csv(\n",
    "    tsv, sep='\\t', names=col_names, index_col='Production code', na_values=['no_val'], parse_dates=['Air date'],skiprows=4)\n",
    "simpsons_df.head()"
   ]
  },
  {
   "cell_type": "code",
   "execution_count": 31,
   "metadata": {},
   "outputs": [],
   "source": [
    "# Saving output file\n",
    "simpsons_df.to_csv('data out/csv/simpsons.csv')"
   ]
  },
  {
   "source": [
    "## Reading XSLX with Pandas\n",
    "\n",
    "with read_excel method, reading excel file relatively easy because usually excel file already organized"
   ],
   "cell_type": "markdown",
   "metadata": {}
  },
  {
   "cell_type": "code",
   "execution_count": 32,
   "metadata": {},
   "outputs": [
    {
     "output_type": "execute_result",
     "data": {
      "text/plain": [
       "                                                 App  Rating     Installs  \\\n",
       "0     Photo Editor & Candy Camera & Grid & ScrapBook     4.1      10,000+   \n",
       "1                                Coloring book moana     3.9     500,000+   \n",
       "2  U Launcher Lite – FREE Live Cool Themes, Hide ...     4.7   5,000,000+   \n",
       "3                              Sketch - Draw & Paint     4.5  50,000,000+   \n",
       "4              Pixel Draw - Number Art Coloring Book     4.3     100,000+   \n",
       "\n",
       "                      Genres Last_Updated  \n",
       "0               Art & Design   2018-01-07  \n",
       "1  Art & Design;Pretend Play   2018-01-15  \n",
       "2               Art & Design   2018-08-01  \n",
       "3               Art & Design   2018-06-08  \n",
       "4    Art & Design;Creativity   2018-06-20  "
      ],
      "text/html": "<div>\n<style scoped>\n    .dataframe tbody tr th:only-of-type {\n        vertical-align: middle;\n    }\n\n    .dataframe tbody tr th {\n        vertical-align: top;\n    }\n\n    .dataframe thead th {\n        text-align: right;\n    }\n</style>\n<table border=\"1\" class=\"dataframe\">\n  <thead>\n    <tr style=\"text-align: right;\">\n      <th></th>\n      <th>App</th>\n      <th>Rating</th>\n      <th>Installs</th>\n      <th>Genres</th>\n      <th>Last_Updated</th>\n    </tr>\n  </thead>\n  <tbody>\n    <tr>\n      <th>0</th>\n      <td>Photo Editor &amp; Candy Camera &amp; Grid &amp; ScrapBook</td>\n      <td>4.1</td>\n      <td>10,000+</td>\n      <td>Art &amp; Design</td>\n      <td>2018-01-07</td>\n    </tr>\n    <tr>\n      <th>1</th>\n      <td>Coloring book moana</td>\n      <td>3.9</td>\n      <td>500,000+</td>\n      <td>Art &amp; Design;Pretend Play</td>\n      <td>2018-01-15</td>\n    </tr>\n    <tr>\n      <th>2</th>\n      <td>U Launcher Lite – FREE Live Cool Themes, Hide ...</td>\n      <td>4.7</td>\n      <td>5,000,000+</td>\n      <td>Art &amp; Design</td>\n      <td>2018-08-01</td>\n    </tr>\n    <tr>\n      <th>3</th>\n      <td>Sketch - Draw &amp; Paint</td>\n      <td>4.5</td>\n      <td>50,000,000+</td>\n      <td>Art &amp; Design</td>\n      <td>2018-06-08</td>\n    </tr>\n    <tr>\n      <th>4</th>\n      <td>Pixel Draw - Number Art Coloring Book</td>\n      <td>4.3</td>\n      <td>100,000+</td>\n      <td>Art &amp; Design;Creativity</td>\n      <td>2018-06-20</td>\n    </tr>\n  </tbody>\n</table>\n</div>"
     },
     "metadata": {},
     "execution_count": 32
    }
   ],
   "source": [
    "pathfile = 'data/xlsx/playstore.xlsx'\n",
    "\n",
    "playstore_df = pd.read_excel(pathfile,\n",
    "                   parse_dates=['Last_Updated'],\n",
    "                   usecols=['App', 'Rating', 'Installs', 'Rating', 'Genres', 'Last_Updated'])\n",
    "\n",
    "playstore_df.head()"
   ]
  },
  {
   "cell_type": "code",
   "execution_count": 33,
   "metadata": {},
   "outputs": [],
   "source": [
    "# Saving output file\n",
    "playstore_df.to_excel('data out/xlsx/playstore.xlsx')"
   ]
  },
  {
   "source": [
    "# Reading JSON file with Pandas\n",
    "\n",
    "Read json file can be done with read_json() function and to write it with to_json() function"
   ],
   "cell_type": "markdown",
   "metadata": {}
  },
  {
   "cell_type": "code",
   "execution_count": 34,
   "metadata": {},
   "outputs": [],
   "source": [
    "# import library\n",
    "import json"
   ]
  },
  {
   "cell_type": "code",
   "execution_count": 35,
   "metadata": {},
   "outputs": [
    {
     "output_type": "execute_result",
     "data": {
      "text/plain": [
       "                                    title     price  \\\n",
       "0  Call of Duty®: WWII + Destiny 2 - Lote  129,99 €   \n",
       "1      God of War® Digital Deluxe Edition   69,99 €   \n",
       "2                               Far Cry 5   69,99 €   \n",
       "3                Far Cry 5 Edición Deluxe   79,99 €   \n",
       "4                   Far Cry 5 Edición Oro   89,99 €   \n",
       "\n",
       "                                  content_rating_img release_date  \\\n",
       "0  https://cdn-a.sonyentertainmentnetwork.com/grc...  Dic 21 2018   \n",
       "1  https://cdn-a.sonyentertainmentnetwork.com/grc...  Abr 20 2018   \n",
       "2  https://cdn-a.sonyentertainmentnetwork.com/grc...  Mar 27 2018   \n",
       "3  https://cdn-a.sonyentertainmentnetwork.com/grc...  Mar 27 2018   \n",
       "4  https://cdn-a.sonyentertainmentnetwork.com/grc...  Mar 27 2018   \n",
       "\n",
       "                                provider     genre  \\\n",
       "0           Activision Blizzard Int'l BV   Shooter   \n",
       "1  Sony Interactive Entertainment Europe    Acción   \n",
       "2               UBISOFT ENTERTAINMENT SA  Aventura   \n",
       "3               UBISOFT ENTERTAINMENT SA  Aventura   \n",
       "4               UBISOFT ENTERTAINMENT SA  Aventura   \n",
       "\n",
       "                                               image  \n",
       "0  https://store.playstation.com/store/api/chihir...  \n",
       "1  https://store.playstation.com/store/api/chihir...  \n",
       "2  https://store.playstation.com/store/api/chihir...  \n",
       "3  https://store.playstation.com/store/api/chihir...  \n",
       "4  https://store.playstation.com/store/api/chihir...  "
      ],
      "text/html": "<div>\n<style scoped>\n    .dataframe tbody tr th:only-of-type {\n        vertical-align: middle;\n    }\n\n    .dataframe tbody tr th {\n        vertical-align: top;\n    }\n\n    .dataframe thead th {\n        text-align: right;\n    }\n</style>\n<table border=\"1\" class=\"dataframe\">\n  <thead>\n    <tr style=\"text-align: right;\">\n      <th></th>\n      <th>title</th>\n      <th>price</th>\n      <th>content_rating_img</th>\n      <th>release_date</th>\n      <th>provider</th>\n      <th>genre</th>\n      <th>image</th>\n    </tr>\n  </thead>\n  <tbody>\n    <tr>\n      <th>0</th>\n      <td>Call of Duty®: WWII + Destiny 2 - Lote</td>\n      <td>129,99 €</td>\n      <td>https://cdn-a.sonyentertainmentnetwork.com/grc...</td>\n      <td>Dic 21 2018</td>\n      <td>Activision Blizzard Int'l BV</td>\n      <td>Shooter</td>\n      <td>https://store.playstation.com/store/api/chihir...</td>\n    </tr>\n    <tr>\n      <th>1</th>\n      <td>God of War® Digital Deluxe Edition</td>\n      <td>69,99 €</td>\n      <td>https://cdn-a.sonyentertainmentnetwork.com/grc...</td>\n      <td>Abr 20 2018</td>\n      <td>Sony Interactive Entertainment Europe</td>\n      <td>Acción</td>\n      <td>https://store.playstation.com/store/api/chihir...</td>\n    </tr>\n    <tr>\n      <th>2</th>\n      <td>Far Cry 5</td>\n      <td>69,99 €</td>\n      <td>https://cdn-a.sonyentertainmentnetwork.com/grc...</td>\n      <td>Mar 27 2018</td>\n      <td>UBISOFT ENTERTAINMENT SA</td>\n      <td>Aventura</td>\n      <td>https://store.playstation.com/store/api/chihir...</td>\n    </tr>\n    <tr>\n      <th>3</th>\n      <td>Far Cry 5 Edición Deluxe</td>\n      <td>79,99 €</td>\n      <td>https://cdn-a.sonyentertainmentnetwork.com/grc...</td>\n      <td>Mar 27 2018</td>\n      <td>UBISOFT ENTERTAINMENT SA</td>\n      <td>Aventura</td>\n      <td>https://store.playstation.com/store/api/chihir...</td>\n    </tr>\n    <tr>\n      <th>4</th>\n      <td>Far Cry 5 Edición Oro</td>\n      <td>89,99 €</td>\n      <td>https://cdn-a.sonyentertainmentnetwork.com/grc...</td>\n      <td>Mar 27 2018</td>\n      <td>UBISOFT ENTERTAINMENT SA</td>\n      <td>Aventura</td>\n      <td>https://store.playstation.com/store/api/chihir...</td>\n    </tr>\n  </tbody>\n</table>\n</div>"
     },
     "metadata": {},
     "execution_count": 35
    }
   ],
   "source": [
    "filepath = 'data/json/games.json'\n",
    "\n",
    "games_df = pd.read_json(filepath)\n",
    "games_df.head()"
   ]
  },
  {
   "cell_type": "code",
   "execution_count": 36,
   "metadata": {},
   "outputs": [
    {
     "output_type": "stream",
     "name": "stdout",
     "text": [
      "<class 'pandas.core.frame.DataFrame'>\nRangeIndex: 193 entries, 0 to 192\nData columns (total 7 columns):\n #   Column              Non-Null Count  Dtype \n---  ------              --------------  ----- \n 0   title               193 non-null    object\n 1   price               193 non-null    object\n 2   content_rating_img  193 non-null    object\n 3   release_date        193 non-null    object\n 4   provider            193 non-null    object\n 5   genre               189 non-null    object\n 6   image               193 non-null    object\ndtypes: object(7)\nmemory usage: 5.3+ KB\n"
     ]
    }
   ],
   "source": [
    "games_df.info()"
   ]
  },
  {
   "cell_type": "code",
   "execution_count": 37,
   "metadata": {},
   "outputs": [
    {
     "output_type": "execute_result",
     "data": {
      "text/plain": [
       "                                                info\n",
       "0  {'id': 1, 'name': 'Leanne Graham', 'username':...\n",
       "1  {'id': 2, 'name': 'Ervin Howell', 'username': ...\n",
       "2  {'id': 3, 'name': 'Clementine Bauch', 'usernam...\n",
       "3  {'id': 4, 'name': 'Patricia Lebsack', 'usernam...\n",
       "4  {'id': 5, 'name': 'Chelsey Dietrich', 'usernam..."
      ],
      "text/html": "<div>\n<style scoped>\n    .dataframe tbody tr th:only-of-type {\n        vertical-align: middle;\n    }\n\n    .dataframe tbody tr th {\n        vertical-align: top;\n    }\n\n    .dataframe thead th {\n        text-align: right;\n    }\n</style>\n<table border=\"1\" class=\"dataframe\">\n  <thead>\n    <tr style=\"text-align: right;\">\n      <th></th>\n      <th>info</th>\n    </tr>\n  </thead>\n  <tbody>\n    <tr>\n      <th>0</th>\n      <td>{'id': 1, 'name': 'Leanne Graham', 'username':...</td>\n    </tr>\n    <tr>\n      <th>1</th>\n      <td>{'id': 2, 'name': 'Ervin Howell', 'username': ...</td>\n    </tr>\n    <tr>\n      <th>2</th>\n      <td>{'id': 3, 'name': 'Clementine Bauch', 'usernam...</td>\n    </tr>\n    <tr>\n      <th>3</th>\n      <td>{'id': 4, 'name': 'Patricia Lebsack', 'usernam...</td>\n    </tr>\n    <tr>\n      <th>4</th>\n      <td>{'id': 5, 'name': 'Chelsey Dietrich', 'usernam...</td>\n    </tr>\n  </tbody>\n</table>\n</div>"
     },
     "metadata": {},
     "execution_count": 37
    }
   ],
   "source": [
    "# not a valid json data\n",
    "filepath = 'data/json/users.json'\n",
    "\n",
    "user_df = pd.read_json(filepath)\n",
    "user_df.head()"
   ]
  },
  {
   "cell_type": "code",
   "execution_count": 38,
   "metadata": {},
   "outputs": [],
   "source": [
    "# read json file without pandas (with python library only)\n",
    "with open(filepath) as file:\n",
    "    json_dict = json.load(file)"
   ]
  },
  {
   "cell_type": "code",
   "execution_count": 39,
   "metadata": {},
   "outputs": [
    {
     "output_type": "execute_result",
     "data": {
      "text/plain": [
       "{'info': [{'id': 1,\n",
       "   'name': 'Leanne Graham',\n",
       "   'username': 'Bret',\n",
       "   'email': 'Sincere@april.biz',\n",
       "   'address': [{'street': 'Kulas Light',\n",
       "     'suite': 'Apt. 556',\n",
       "     'city': 'Gwenborough',\n",
       "     'zipcode': '92998-3874',\n",
       "     'geo': {'lat': '-37.3159', 'lng': '81.1496'}}],\n",
       "   'phone': '1-770-736-8031 x56442',\n",
       "   'website': 'hildegard.org',\n",
       "   'company': {'name': 'Romaguera-Crona',\n",
       "    'catchPhrase': 'Multi-layered client-server neural-net',\n",
       "    'bs': 'harness real-time e-markets'}},\n",
       "  {'id': 2,\n",
       "   'name': 'Ervin Howell',\n",
       "   'username': 'Antonette',\n",
       "   'email': 'Shanna@melissa.tv',\n",
       "   'address': [{'street': 'Victor Plains',\n",
       "     'suite': 'Suite 879',\n",
       "     'city': 'Wisokyburgh',\n",
       "     'zipcode': '90566-7771',\n",
       "     'geo': {'lat': '-43.9509', 'lng': '-34.4618'}}],\n",
       "   'phone': '010-692-6593 x09125',\n",
       "   'website': 'anastasia.net',\n",
       "   'company': {'name': 'Deckow-Crist',\n",
       "    'catchPhrase': 'Proactive didactic contingency',\n",
       "    'bs': 'synergize scalable supply-chains'}},\n",
       "  {'id': 3,\n",
       "   'name': 'Clementine Bauch',\n",
       "   'username': 'Samantha',\n",
       "   'email': 'Nathan@yesenia.net',\n",
       "   'address': [{'street': 'Douglas Extension',\n",
       "     'suite': 'Suite 847',\n",
       "     'city': 'McKenziehaven',\n",
       "     'zipcode': '59590-4157',\n",
       "     'geo': {'lat': '-68.6102', 'lng': '-47.0653'}}],\n",
       "   'phone': '1-463-123-4447',\n",
       "   'website': 'ramiro.info',\n",
       "   'company': {'name': 'Romaguera-Jacobson',\n",
       "    'catchPhrase': 'Face to face bifurcated interface',\n",
       "    'bs': 'e-enable strategic applications'}},\n",
       "  {'id': 4,\n",
       "   'name': 'Patricia Lebsack',\n",
       "   'username': 'Karianne',\n",
       "   'email': 'Julianne.OConner@kory.org',\n",
       "   'address': [{'street': 'Hoeger Mall',\n",
       "     'suite': 'Apt. 692',\n",
       "     'city': 'South Elvis',\n",
       "     'zipcode': '53919-4257',\n",
       "     'geo': {'lat': '29.4572', 'lng': '-164.2990'}}],\n",
       "   'phone': '493-170-9623 x156',\n",
       "   'website': 'kale.biz',\n",
       "   'company': {'name': 'Robel-Corkery',\n",
       "    'catchPhrase': 'Multi-tiered zero tolerance productivity',\n",
       "    'bs': 'transition cutting-edge web services'}},\n",
       "  {'id': 5,\n",
       "   'name': 'Chelsey Dietrich',\n",
       "   'username': 'Kamren',\n",
       "   'email': 'Lucio_Hettinger@annie.ca',\n",
       "   'address': [{'street': 'Skiles Walks',\n",
       "     'suite': 'Suite 351',\n",
       "     'city': 'Roscoeview',\n",
       "     'zipcode': '33263',\n",
       "     'geo': {'lat': '-31.8129', 'lng': '62.5342'}}],\n",
       "   'phone': '(254)954-1289',\n",
       "   'website': 'demarco.info',\n",
       "   'company': {'name': 'Keebler LLC',\n",
       "    'catchPhrase': 'User-centric fault-tolerant solution',\n",
       "    'bs': 'revolutionize end-to-end systems'}},\n",
       "  {'id': 6,\n",
       "   'name': 'Mrs. Dennis Schulist',\n",
       "   'username': 'Leopoldo_Corkery',\n",
       "   'email': 'Karley_Dach@jasper.info',\n",
       "   'address': [{'street': 'Norberto Crossing',\n",
       "     'suite': 'Apt. 950',\n",
       "     'city': 'South Christy',\n",
       "     'zipcode': '23505-1337',\n",
       "     'geo': {'lat': '-71.4197', 'lng': '71.7478'}}],\n",
       "   'phone': '1-477-935-8478 x6430',\n",
       "   'website': 'ola.org',\n",
       "   'company': {'name': 'Considine-Lockman',\n",
       "    'catchPhrase': 'Synchronised bottom-line interface',\n",
       "    'bs': 'e-enable innovative applications'}},\n",
       "  {'id': 7,\n",
       "   'name': 'Kurtis Weissnat',\n",
       "   'username': 'Elwyn.Skiles',\n",
       "   'email': 'Telly.Hoeger@billy.biz',\n",
       "   'address': [{'street': 'Rex Trail',\n",
       "     'suite': 'Suite 280',\n",
       "     'city': 'Howemouth',\n",
       "     'zipcode': '58804-1099',\n",
       "     'geo': {'lat': '24.8918', 'lng': '21.8984'}}],\n",
       "   'phone': '210.067.6132',\n",
       "   'website': 'elvis.io',\n",
       "   'company': {'name': 'Johns Group',\n",
       "    'catchPhrase': 'Configurable multimedia task-force',\n",
       "    'bs': 'generate enterprise e-tailers'}},\n",
       "  {'id': 8,\n",
       "   'name': 'Nicholas Runolfsdottir V',\n",
       "   'username': 'Maxime_Nienow',\n",
       "   'email': 'Sherwood@rosamond.me',\n",
       "   'address': [{'street': 'Ellsworth Summit',\n",
       "     'suite': 'Suite 729',\n",
       "     'city': 'Aliyaview',\n",
       "     'zipcode': '45169',\n",
       "     'geo': {'lat': '-14.3990', 'lng': '-120.7677'}}],\n",
       "   'phone': '586.493.6943 x140',\n",
       "   'website': 'jacynthe.com',\n",
       "   'company': {'name': 'Abernathy Group',\n",
       "    'catchPhrase': 'Implemented secondary concept',\n",
       "    'bs': 'e-enable extensible e-tailers'}},\n",
       "  {'id': 9,\n",
       "   'name': 'Glenna Reichert',\n",
       "   'username': 'Delphine',\n",
       "   'email': 'Chaim_McDermott@dana.io',\n",
       "   'address': [{'street': 'Dayna Park',\n",
       "     'suite': 'Suite 449',\n",
       "     'city': 'Bartholomebury',\n",
       "     'zipcode': '76495-3109',\n",
       "     'geo': {'lat': '24.6463', 'lng': '-168.8889'}}],\n",
       "   'phone': '(775)976-6794 x41206',\n",
       "   'website': 'conrad.com',\n",
       "   'company': {'name': 'Yost and Sons',\n",
       "    'catchPhrase': 'Switchable contextually-based project',\n",
       "    'bs': 'aggregate real-time technologies'}},\n",
       "  {'id': 10,\n",
       "   'name': 'Clementina DuBuque',\n",
       "   'username': 'Moriah.Stanton',\n",
       "   'email': 'Rey.Padberg@karina.biz',\n",
       "   'address': [{'street': 'Kattie Turnpike',\n",
       "     'suite': 'Suite 198',\n",
       "     'city': 'Lebsackbury',\n",
       "     'zipcode': '31428-2261',\n",
       "     'geo': {'lat': '-38.2386', 'lng': '57.2232'}}],\n",
       "   'phone': '024-648-3804',\n",
       "   'website': 'ambrose.net',\n",
       "   'company': {'name': 'Hoeger LLC',\n",
       "    'catchPhrase': 'Centralized empowering task-force',\n",
       "    'bs': 'target end-to-end models'}}]}"
      ]
     },
     "metadata": {},
     "execution_count": 39
    }
   ],
   "source": [
    "json_dict # dictionaries data types"
   ]
  },
  {
   "cell_type": "code",
   "execution_count": 40,
   "metadata": {},
   "outputs": [
    {
     "output_type": "execute_result",
     "data": {
      "text/plain": [
       "                                                info\n",
       "0  {'id': 1, 'name': 'Leanne Graham', 'username':...\n",
       "1  {'id': 2, 'name': 'Ervin Howell', 'username': ...\n",
       "2  {'id': 3, 'name': 'Clementine Bauch', 'usernam...\n",
       "3  {'id': 4, 'name': 'Patricia Lebsack', 'usernam...\n",
       "4  {'id': 5, 'name': 'Chelsey Dietrich', 'usernam..."
      ],
      "text/html": "<div>\n<style scoped>\n    .dataframe tbody tr th:only-of-type {\n        vertical-align: middle;\n    }\n\n    .dataframe tbody tr th {\n        vertical-align: top;\n    }\n\n    .dataframe thead th {\n        text-align: right;\n    }\n</style>\n<table border=\"1\" class=\"dataframe\">\n  <thead>\n    <tr style=\"text-align: right;\">\n      <th></th>\n      <th>info</th>\n    </tr>\n  </thead>\n  <tbody>\n    <tr>\n      <th>0</th>\n      <td>{'id': 1, 'name': 'Leanne Graham', 'username':...</td>\n    </tr>\n    <tr>\n      <th>1</th>\n      <td>{'id': 2, 'name': 'Ervin Howell', 'username': ...</td>\n    </tr>\n    <tr>\n      <th>2</th>\n      <td>{'id': 3, 'name': 'Clementine Bauch', 'usernam...</td>\n    </tr>\n    <tr>\n      <th>3</th>\n      <td>{'id': 4, 'name': 'Patricia Lebsack', 'usernam...</td>\n    </tr>\n    <tr>\n      <th>4</th>\n      <td>{'id': 5, 'name': 'Chelsey Dietrich', 'usernam...</td>\n    </tr>\n  </tbody>\n</table>\n</div>"
     },
     "metadata": {},
     "execution_count": 40
    }
   ],
   "source": [
    "# still not valid\n",
    "user_df = pd.DataFrame.from_dict(json_dict)\n",
    "user_df.head()"
   ]
  },
  {
   "cell_type": "code",
   "execution_count": 41,
   "metadata": {},
   "outputs": [
    {
     "output_type": "execute_result",
     "data": {
      "text/plain": [
       "   id              name   username                      email  \\\n",
       "0   1     Leanne Graham       Bret          Sincere@april.biz   \n",
       "1   2      Ervin Howell  Antonette          Shanna@melissa.tv   \n",
       "2   3  Clementine Bauch   Samantha         Nathan@yesenia.net   \n",
       "3   4  Patricia Lebsack   Karianne  Julianne.OConner@kory.org   \n",
       "4   5  Chelsey Dietrich     Kamren   Lucio_Hettinger@annie.ca   \n",
       "\n",
       "                                             address                  phone  \\\n",
       "0  [{'street': 'Kulas Light', 'suite': 'Apt. 556'...  1-770-736-8031 x56442   \n",
       "1  [{'street': 'Victor Plains', 'suite': 'Suite 8...    010-692-6593 x09125   \n",
       "2  [{'street': 'Douglas Extension', 'suite': 'Sui...         1-463-123-4447   \n",
       "3  [{'street': 'Hoeger Mall', 'suite': 'Apt. 692'...      493-170-9623 x156   \n",
       "4  [{'street': 'Skiles Walks', 'suite': 'Suite 35...          (254)954-1289   \n",
       "\n",
       "         website                                            company  \n",
       "0  hildegard.org  {'name': 'Romaguera-Crona', 'catchPhrase': 'Mu...  \n",
       "1  anastasia.net  {'name': 'Deckow-Crist', 'catchPhrase': 'Proac...  \n",
       "2    ramiro.info  {'name': 'Romaguera-Jacobson', 'catchPhrase': ...  \n",
       "3       kale.biz  {'name': 'Robel-Corkery', 'catchPhrase': 'Mult...  \n",
       "4   demarco.info  {'name': 'Keebler LLC', 'catchPhrase': 'User-c...  "
      ],
      "text/html": "<div>\n<style scoped>\n    .dataframe tbody tr th:only-of-type {\n        vertical-align: middle;\n    }\n\n    .dataframe tbody tr th {\n        vertical-align: top;\n    }\n\n    .dataframe thead th {\n        text-align: right;\n    }\n</style>\n<table border=\"1\" class=\"dataframe\">\n  <thead>\n    <tr style=\"text-align: right;\">\n      <th></th>\n      <th>id</th>\n      <th>name</th>\n      <th>username</th>\n      <th>email</th>\n      <th>address</th>\n      <th>phone</th>\n      <th>website</th>\n      <th>company</th>\n    </tr>\n  </thead>\n  <tbody>\n    <tr>\n      <th>0</th>\n      <td>1</td>\n      <td>Leanne Graham</td>\n      <td>Bret</td>\n      <td>Sincere@april.biz</td>\n      <td>[{'street': 'Kulas Light', 'suite': 'Apt. 556'...</td>\n      <td>1-770-736-8031 x56442</td>\n      <td>hildegard.org</td>\n      <td>{'name': 'Romaguera-Crona', 'catchPhrase': 'Mu...</td>\n    </tr>\n    <tr>\n      <th>1</th>\n      <td>2</td>\n      <td>Ervin Howell</td>\n      <td>Antonette</td>\n      <td>Shanna@melissa.tv</td>\n      <td>[{'street': 'Victor Plains', 'suite': 'Suite 8...</td>\n      <td>010-692-6593 x09125</td>\n      <td>anastasia.net</td>\n      <td>{'name': 'Deckow-Crist', 'catchPhrase': 'Proac...</td>\n    </tr>\n    <tr>\n      <th>2</th>\n      <td>3</td>\n      <td>Clementine Bauch</td>\n      <td>Samantha</td>\n      <td>Nathan@yesenia.net</td>\n      <td>[{'street': 'Douglas Extension', 'suite': 'Sui...</td>\n      <td>1-463-123-4447</td>\n      <td>ramiro.info</td>\n      <td>{'name': 'Romaguera-Jacobson', 'catchPhrase': ...</td>\n    </tr>\n    <tr>\n      <th>3</th>\n      <td>4</td>\n      <td>Patricia Lebsack</td>\n      <td>Karianne</td>\n      <td>Julianne.OConner@kory.org</td>\n      <td>[{'street': 'Hoeger Mall', 'suite': 'Apt. 692'...</td>\n      <td>493-170-9623 x156</td>\n      <td>kale.biz</td>\n      <td>{'name': 'Robel-Corkery', 'catchPhrase': 'Mult...</td>\n    </tr>\n    <tr>\n      <th>4</th>\n      <td>5</td>\n      <td>Chelsey Dietrich</td>\n      <td>Kamren</td>\n      <td>Lucio_Hettinger@annie.ca</td>\n      <td>[{'street': 'Skiles Walks', 'suite': 'Suite 35...</td>\n      <td>(254)954-1289</td>\n      <td>demarco.info</td>\n      <td>{'name': 'Keebler LLC', 'catchPhrase': 'User-c...</td>\n    </tr>\n  </tbody>\n</table>\n</div>"
     },
     "metadata": {},
     "execution_count": 41
    }
   ],
   "source": [
    "# valid json file but in company column still not normalize\n",
    "user_df = pd.DataFrame.from_dict(json_dict['info'])\n",
    "user_df.head()"
   ]
  },
  {
   "cell_type": "code",
   "execution_count": 42,
   "metadata": {},
   "outputs": [
    {
     "output_type": "execute_result",
     "data": {
      "text/plain": [
       "   id              name   username                      email  \\\n",
       "0   1     Leanne Graham       Bret          Sincere@april.biz   \n",
       "1   2      Ervin Howell  Antonette          Shanna@melissa.tv   \n",
       "2   3  Clementine Bauch   Samantha         Nathan@yesenia.net   \n",
       "3   4  Patricia Lebsack   Karianne  Julianne.OConner@kory.org   \n",
       "4   5  Chelsey Dietrich     Kamren   Lucio_Hettinger@annie.ca   \n",
       "\n",
       "                                             address                  phone  \\\n",
       "0  [{'street': 'Kulas Light', 'suite': 'Apt. 556'...  1-770-736-8031 x56442   \n",
       "1  [{'street': 'Victor Plains', 'suite': 'Suite 8...    010-692-6593 x09125   \n",
       "2  [{'street': 'Douglas Extension', 'suite': 'Sui...         1-463-123-4447   \n",
       "3  [{'street': 'Hoeger Mall', 'suite': 'Apt. 692'...      493-170-9623 x156   \n",
       "4  [{'street': 'Skiles Walks', 'suite': 'Suite 35...          (254)954-1289   \n",
       "\n",
       "         website        company.name  \\\n",
       "0  hildegard.org     Romaguera-Crona   \n",
       "1  anastasia.net        Deckow-Crist   \n",
       "2    ramiro.info  Romaguera-Jacobson   \n",
       "3       kale.biz       Robel-Corkery   \n",
       "4   demarco.info         Keebler LLC   \n",
       "\n",
       "                        company.catchPhrase  \\\n",
       "0    Multi-layered client-server neural-net   \n",
       "1            Proactive didactic contingency   \n",
       "2         Face to face bifurcated interface   \n",
       "3  Multi-tiered zero tolerance productivity   \n",
       "4      User-centric fault-tolerant solution   \n",
       "\n",
       "                             company.bs  \n",
       "0           harness real-time e-markets  \n",
       "1      synergize scalable supply-chains  \n",
       "2       e-enable strategic applications  \n",
       "3  transition cutting-edge web services  \n",
       "4      revolutionize end-to-end systems  "
      ],
      "text/html": "<div>\n<style scoped>\n    .dataframe tbody tr th:only-of-type {\n        vertical-align: middle;\n    }\n\n    .dataframe tbody tr th {\n        vertical-align: top;\n    }\n\n    .dataframe thead th {\n        text-align: right;\n    }\n</style>\n<table border=\"1\" class=\"dataframe\">\n  <thead>\n    <tr style=\"text-align: right;\">\n      <th></th>\n      <th>id</th>\n      <th>name</th>\n      <th>username</th>\n      <th>email</th>\n      <th>address</th>\n      <th>phone</th>\n      <th>website</th>\n      <th>company.name</th>\n      <th>company.catchPhrase</th>\n      <th>company.bs</th>\n    </tr>\n  </thead>\n  <tbody>\n    <tr>\n      <th>0</th>\n      <td>1</td>\n      <td>Leanne Graham</td>\n      <td>Bret</td>\n      <td>Sincere@april.biz</td>\n      <td>[{'street': 'Kulas Light', 'suite': 'Apt. 556'...</td>\n      <td>1-770-736-8031 x56442</td>\n      <td>hildegard.org</td>\n      <td>Romaguera-Crona</td>\n      <td>Multi-layered client-server neural-net</td>\n      <td>harness real-time e-markets</td>\n    </tr>\n    <tr>\n      <th>1</th>\n      <td>2</td>\n      <td>Ervin Howell</td>\n      <td>Antonette</td>\n      <td>Shanna@melissa.tv</td>\n      <td>[{'street': 'Victor Plains', 'suite': 'Suite 8...</td>\n      <td>010-692-6593 x09125</td>\n      <td>anastasia.net</td>\n      <td>Deckow-Crist</td>\n      <td>Proactive didactic contingency</td>\n      <td>synergize scalable supply-chains</td>\n    </tr>\n    <tr>\n      <th>2</th>\n      <td>3</td>\n      <td>Clementine Bauch</td>\n      <td>Samantha</td>\n      <td>Nathan@yesenia.net</td>\n      <td>[{'street': 'Douglas Extension', 'suite': 'Sui...</td>\n      <td>1-463-123-4447</td>\n      <td>ramiro.info</td>\n      <td>Romaguera-Jacobson</td>\n      <td>Face to face bifurcated interface</td>\n      <td>e-enable strategic applications</td>\n    </tr>\n    <tr>\n      <th>3</th>\n      <td>4</td>\n      <td>Patricia Lebsack</td>\n      <td>Karianne</td>\n      <td>Julianne.OConner@kory.org</td>\n      <td>[{'street': 'Hoeger Mall', 'suite': 'Apt. 692'...</td>\n      <td>493-170-9623 x156</td>\n      <td>kale.biz</td>\n      <td>Robel-Corkery</td>\n      <td>Multi-tiered zero tolerance productivity</td>\n      <td>transition cutting-edge web services</td>\n    </tr>\n    <tr>\n      <th>4</th>\n      <td>5</td>\n      <td>Chelsey Dietrich</td>\n      <td>Kamren</td>\n      <td>Lucio_Hettinger@annie.ca</td>\n      <td>[{'street': 'Skiles Walks', 'suite': 'Suite 35...</td>\n      <td>(254)954-1289</td>\n      <td>demarco.info</td>\n      <td>Keebler LLC</td>\n      <td>User-centric fault-tolerant solution</td>\n      <td>revolutionize end-to-end systems</td>\n    </tr>\n  </tbody>\n</table>\n</div>"
     },
     "metadata": {},
     "execution_count": 42
    }
   ],
   "source": [
    "# import normalize library\n",
    "from pandas.io.json import json_normalize\n",
    "\n",
    "user_df = json_normalize(json_dict['info'])\n",
    "user_df.head() # now company column is separated"
   ]
  },
  {
   "cell_type": "code",
   "execution_count": 43,
   "metadata": {},
   "outputs": [],
   "source": [
    "# write and save json file\n",
    "user_df.to_json('data out/json/users.json')\n",
    "user_df.to_csv('data out/csv/users.csv')"
   ]
  },
  {
   "cell_type": "code",
   "execution_count": 44,
   "metadata": {},
   "outputs": [],
   "source": [
    "# another json file\n",
    "path = 'data/json/artists.json'\n",
    "\n",
    "with open(path) as file:\n",
    "    json_dict = json.load(file)"
   ]
  },
  {
   "cell_type": "code",
   "execution_count": 45,
   "metadata": {},
   "outputs": [
    {
     "output_type": "execute_result",
     "data": {
      "text/plain": [
       "                 name        years                         genre nationality  \\\n",
       "0   Amedeo Modigliani  1884 - 1920                 Expressionism     Italian   \n",
       "1  Vasiliy Kandinskiy  1866 - 1944  Expressionism,Abstractionism     Russian   \n",
       "2        Diego Rivera  1886 - 1957       Social Realism,Muralism     Mexican   \n",
       "3        Claude Monet  1840 - 1926                 Impressionism      French   \n",
       "4       Rene Magritte  1898 - 1967      Surrealism,Impressionism     Belgian   \n",
       "\n",
       "                                                 bio  \n",
       "0  [{'full name': 'Amedeo Clemente Modigliani', '...  \n",
       "1  [{'full name': 'Wassily Wassilyevich Kandinsky...  \n",
       "2  [{'full name': 'Diego María de la Concepción J...  \n",
       "3  [{'full name': 'Oscar-Claude Monet', 'pronunci...  \n",
       "4  [{'full name': 'René François Ghislain Magritt...  "
      ],
      "text/html": "<div>\n<style scoped>\n    .dataframe tbody tr th:only-of-type {\n        vertical-align: middle;\n    }\n\n    .dataframe tbody tr th {\n        vertical-align: top;\n    }\n\n    .dataframe thead th {\n        text-align: right;\n    }\n</style>\n<table border=\"1\" class=\"dataframe\">\n  <thead>\n    <tr style=\"text-align: right;\">\n      <th></th>\n      <th>name</th>\n      <th>years</th>\n      <th>genre</th>\n      <th>nationality</th>\n      <th>bio</th>\n    </tr>\n  </thead>\n  <tbody>\n    <tr>\n      <th>0</th>\n      <td>Amedeo Modigliani</td>\n      <td>1884 - 1920</td>\n      <td>Expressionism</td>\n      <td>Italian</td>\n      <td>[{'full name': 'Amedeo Clemente Modigliani', '...</td>\n    </tr>\n    <tr>\n      <th>1</th>\n      <td>Vasiliy Kandinskiy</td>\n      <td>1866 - 1944</td>\n      <td>Expressionism,Abstractionism</td>\n      <td>Russian</td>\n      <td>[{'full name': 'Wassily Wassilyevich Kandinsky...</td>\n    </tr>\n    <tr>\n      <th>2</th>\n      <td>Diego Rivera</td>\n      <td>1886 - 1957</td>\n      <td>Social Realism,Muralism</td>\n      <td>Mexican</td>\n      <td>[{'full name': 'Diego María de la Concepción J...</td>\n    </tr>\n    <tr>\n      <th>3</th>\n      <td>Claude Monet</td>\n      <td>1840 - 1926</td>\n      <td>Impressionism</td>\n      <td>French</td>\n      <td>[{'full name': 'Oscar-Claude Monet', 'pronunci...</td>\n    </tr>\n    <tr>\n      <th>4</th>\n      <td>Rene Magritte</td>\n      <td>1898 - 1967</td>\n      <td>Surrealism,Impressionism</td>\n      <td>Belgian</td>\n      <td>[{'full name': 'René François Ghislain Magritt...</td>\n    </tr>\n  </tbody>\n</table>\n</div>"
     },
     "metadata": {},
     "execution_count": 45
    }
   ],
   "source": [
    "artist_df = json_normalize(json_dict)\n",
    "artist_df.head()"
   ]
  },
  {
   "cell_type": "code",
   "execution_count": 46,
   "metadata": {},
   "outputs": [
    {
     "output_type": "execute_result",
     "data": {
      "text/plain": [
       "                 name        years                         genre nationality  \\\n",
       "0   Amedeo Modigliani  1884 - 1920                 Expressionism     Italian   \n",
       "1  Vasiliy Kandinskiy  1866 - 1944  Expressionism,Abstractionism     Russian   \n",
       "2        Diego Rivera  1886 - 1957       Social Realism,Muralism     Mexican   \n",
       "3        Claude Monet  1840 - 1926                 Impressionism      French   \n",
       "4       Rene Magritte  1898 - 1967      Surrealism,Impressionism     Belgian   \n",
       "\n",
       "                                                 bio  \n",
       "0  [{'full name': 'Amedeo Clemente Modigliani', '...  \n",
       "1  [{'full name': 'Wassily Wassilyevich Kandinsky...  \n",
       "2  [{'full name': 'Diego María de la Concepción J...  \n",
       "3  [{'full name': 'Oscar-Claude Monet', 'pronunci...  \n",
       "4  [{'full name': 'René François Ghislain Magritt...  "
      ],
      "text/html": "<div>\n<style scoped>\n    .dataframe tbody tr th:only-of-type {\n        vertical-align: middle;\n    }\n\n    .dataframe tbody tr th {\n        vertical-align: top;\n    }\n\n    .dataframe thead th {\n        text-align: right;\n    }\n</style>\n<table border=\"1\" class=\"dataframe\">\n  <thead>\n    <tr style=\"text-align: right;\">\n      <th></th>\n      <th>name</th>\n      <th>years</th>\n      <th>genre</th>\n      <th>nationality</th>\n      <th>bio</th>\n    </tr>\n  </thead>\n  <tbody>\n    <tr>\n      <th>0</th>\n      <td>Amedeo Modigliani</td>\n      <td>1884 - 1920</td>\n      <td>Expressionism</td>\n      <td>Italian</td>\n      <td>[{'full name': 'Amedeo Clemente Modigliani', '...</td>\n    </tr>\n    <tr>\n      <th>1</th>\n      <td>Vasiliy Kandinskiy</td>\n      <td>1866 - 1944</td>\n      <td>Expressionism,Abstractionism</td>\n      <td>Russian</td>\n      <td>[{'full name': 'Wassily Wassilyevich Kandinsky...</td>\n    </tr>\n    <tr>\n      <th>2</th>\n      <td>Diego Rivera</td>\n      <td>1886 - 1957</td>\n      <td>Social Realism,Muralism</td>\n      <td>Mexican</td>\n      <td>[{'full name': 'Diego María de la Concepción J...</td>\n    </tr>\n    <tr>\n      <th>3</th>\n      <td>Claude Monet</td>\n      <td>1840 - 1926</td>\n      <td>Impressionism</td>\n      <td>French</td>\n      <td>[{'full name': 'Oscar-Claude Monet', 'pronunci...</td>\n    </tr>\n    <tr>\n      <th>4</th>\n      <td>Rene Magritte</td>\n      <td>1898 - 1967</td>\n      <td>Surrealism,Impressionism</td>\n      <td>Belgian</td>\n      <td>[{'full name': 'René François Ghislain Magritt...</td>\n    </tr>\n  </tbody>\n</table>\n</div>"
     },
     "metadata": {},
     "execution_count": 46
    }
   ],
   "source": [
    "# same result\n",
    "df_a = pd.read_json(path)\n",
    "df_a.head()"
   ]
  },
  {
   "cell_type": "code",
   "execution_count": 47,
   "metadata": {},
   "outputs": [
    {
     "output_type": "execute_result",
     "data": {
      "text/plain": [
       "                                           full name  \\\n",
       "0                         Amedeo Clemente Modigliani   \n",
       "1                     Wassily Wassilyevich Kandinsky   \n",
       "2  Diego María de la Concepción Juan Nepomuceno E...   \n",
       "3                                 Oscar-Claude Monet   \n",
       "4                    René François Ghislain Magritte   \n",
       "\n",
       "                                       pronunciation  \\\n",
       "0                             [ameˈdɛːo modiʎˈʎaːni]   \n",
       "1  Васи́лий Васи́льевич Канди́нский, tr. Vasíliy ...   \n",
       "2                                   [ˈdjeɣo riˈβeɾa]   \n",
       "3                                        [klod mɔnɛ]   \n",
       "4                        [ʁəne fʁɑ̃swa ɡilɛ̃ maɡʁit]   \n",
       "\n",
       "                                           life span  \\\n",
       "0                     12 July 1884 – 24 January 1920   \n",
       "1  16 December [O.S. 4 December] 1866 – 13 Decemb...   \n",
       "2               December 8, 1886 – November 24, 1957   \n",
       "3                 14 November 1840 – 5 December 1926   \n",
       "4                  21 November 1898 – 15 August 1967   \n",
       "\n",
       "                                                info  \\\n",
       "0  was an Italian Jewish painter and sculptor who...   \n",
       "1            was a Russian painter and art theorist.   \n",
       "2  was a prominent Mexican painter. His large fre...   \n",
       "3  was a French painter, a founder of French Impr...   \n",
       "4  Was a Belgian Surrealist artist. He became wel...   \n",
       "\n",
       "                                        wikipedia  paintings  \\\n",
       "0  http://en.wikipedia.org/wiki/Amedeo_Modigliani        193   \n",
       "1  http://en.wikipedia.org/wiki/Wassily_Kandinsky         88   \n",
       "2       http://en.wikipedia.org/wiki/Diego_Rivera         70   \n",
       "3       http://en.wikipedia.org/wiki/Claude_Monet         73   \n",
       "4      http://en.wikipedia.org/wiki/René_Magritte        194   \n",
       "\n",
       "                 name  \n",
       "0   Amedeo Modigliani  \n",
       "1  Vasiliy Kandinskiy  \n",
       "2        Diego Rivera  \n",
       "3        Claude Monet  \n",
       "4       Rene Magritte  "
      ],
      "text/html": "<div>\n<style scoped>\n    .dataframe tbody tr th:only-of-type {\n        vertical-align: middle;\n    }\n\n    .dataframe tbody tr th {\n        vertical-align: top;\n    }\n\n    .dataframe thead th {\n        text-align: right;\n    }\n</style>\n<table border=\"1\" class=\"dataframe\">\n  <thead>\n    <tr style=\"text-align: right;\">\n      <th></th>\n      <th>full name</th>\n      <th>pronunciation</th>\n      <th>life span</th>\n      <th>info</th>\n      <th>wikipedia</th>\n      <th>paintings</th>\n      <th>name</th>\n    </tr>\n  </thead>\n  <tbody>\n    <tr>\n      <th>0</th>\n      <td>Amedeo Clemente Modigliani</td>\n      <td>[ameˈdɛːo modiʎˈʎaːni]</td>\n      <td>12 July 1884 – 24 January 1920</td>\n      <td>was an Italian Jewish painter and sculptor who...</td>\n      <td>http://en.wikipedia.org/wiki/Amedeo_Modigliani</td>\n      <td>193</td>\n      <td>Amedeo Modigliani</td>\n    </tr>\n    <tr>\n      <th>1</th>\n      <td>Wassily Wassilyevich Kandinsky</td>\n      <td>Васи́лий Васи́льевич Канди́нский, tr. Vasíliy ...</td>\n      <td>16 December [O.S. 4 December] 1866 – 13 Decemb...</td>\n      <td>was a Russian painter and art theorist.</td>\n      <td>http://en.wikipedia.org/wiki/Wassily_Kandinsky</td>\n      <td>88</td>\n      <td>Vasiliy Kandinskiy</td>\n    </tr>\n    <tr>\n      <th>2</th>\n      <td>Diego María de la Concepción Juan Nepomuceno E...</td>\n      <td>[ˈdjeɣo riˈβeɾa]</td>\n      <td>December 8, 1886 – November 24, 1957</td>\n      <td>was a prominent Mexican painter. His large fre...</td>\n      <td>http://en.wikipedia.org/wiki/Diego_Rivera</td>\n      <td>70</td>\n      <td>Diego Rivera</td>\n    </tr>\n    <tr>\n      <th>3</th>\n      <td>Oscar-Claude Monet</td>\n      <td>[klod mɔnɛ]</td>\n      <td>14 November 1840 – 5 December 1926</td>\n      <td>was a French painter, a founder of French Impr...</td>\n      <td>http://en.wikipedia.org/wiki/Claude_Monet</td>\n      <td>73</td>\n      <td>Claude Monet</td>\n    </tr>\n    <tr>\n      <th>4</th>\n      <td>René François Ghislain Magritte</td>\n      <td>[ʁəne fʁɑ̃swa ɡilɛ̃ maɡʁit]</td>\n      <td>21 November 1898 – 15 August 1967</td>\n      <td>Was a Belgian Surrealist artist. He became wel...</td>\n      <td>http://en.wikipedia.org/wiki/René_Magritte</td>\n      <td>194</td>\n      <td>Rene Magritte</td>\n    </tr>\n  </tbody>\n</table>\n</div>"
     },
     "metadata": {},
     "execution_count": 47
    }
   ],
   "source": [
    "bio_df = json_normalize(json_dict, record_path='bio', meta=['name'])\n",
    "bio_df.head()"
   ]
  },
  {
   "source": [
    "# Reading data from realational databases\n",
    "\n",
    "Database that i used = https://www.sqlitetutorial.net/sqlite-sample-database/\n",
    "\n",
    "In pandas there is no way to read a relational databases file, but pandas can read sql file. So the best possible way is using python sqlite3 library and assign it sql then to pandas DataFrame"
   ],
   "cell_type": "markdown",
   "metadata": {}
  },
  {
   "cell_type": "code",
   "execution_count": 48,
   "metadata": {},
   "outputs": [],
   "source": [
    "# import library \n",
    "import sqlite3"
   ]
  },
  {
   "cell_type": "code",
   "execution_count": 49,
   "metadata": {},
   "outputs": [],
   "source": [
    "# make a database connection\n",
    "db_path = 'data/db/chinook.db'\n",
    "conn = sqlite3.connect(db_path)"
   ]
  },
  {
   "cell_type": "code",
   "execution_count": 50,
   "metadata": {},
   "outputs": [],
   "source": [
    "# make a cursor in order to do executing query\n",
    "cur = conn.cursor()"
   ]
  },
  {
   "cell_type": "code",
   "execution_count": 51,
   "metadata": {},
   "outputs": [
    {
     "output_type": "execute_result",
     "data": {
      "text/plain": [
       "<sqlite3.Cursor at 0xa60f7e0>"
      ]
     },
     "metadata": {},
     "execution_count": 51
    }
   ],
   "source": [
    "# Simple query execute\n",
    "cur.execute('SELECT * FROM employees  LIMIT 5') # select first 5 data for all column from employees table"
   ]
  },
  {
   "cell_type": "code",
   "execution_count": 52,
   "metadata": {},
   "outputs": [
    {
     "output_type": "execute_result",
     "data": {
      "text/plain": [
       "[(1,\n",
       "  'Adams',\n",
       "  'Andrew',\n",
       "  'General Manager',\n",
       "  None,\n",
       "  '1962-02-18 00:00:00',\n",
       "  '2002-08-14 00:00:00',\n",
       "  '11120 Jasper Ave NW',\n",
       "  'Edmonton',\n",
       "  'AB',\n",
       "  'Canada',\n",
       "  'T5K 2N1',\n",
       "  '+1 (780) 428-9482',\n",
       "  '+1 (780) 428-3457',\n",
       "  'andrew@chinookcorp.com'),\n",
       " (2,\n",
       "  'Edwards',\n",
       "  'Nancy',\n",
       "  'Sales Manager',\n",
       "  1,\n",
       "  '1958-12-08 00:00:00',\n",
       "  '2002-05-01 00:00:00',\n",
       "  '825 8 Ave SW',\n",
       "  'Calgary',\n",
       "  'AB',\n",
       "  'Canada',\n",
       "  'T2P 2T3',\n",
       "  '+1 (403) 262-3443',\n",
       "  '+1 (403) 262-3322',\n",
       "  'nancy@chinookcorp.com'),\n",
       " (3,\n",
       "  'Peacock',\n",
       "  'Jane',\n",
       "  'Sales Support Agent',\n",
       "  2,\n",
       "  '1973-08-29 00:00:00',\n",
       "  '2002-04-01 00:00:00',\n",
       "  '1111 6 Ave SW',\n",
       "  'Calgary',\n",
       "  'AB',\n",
       "  'Canada',\n",
       "  'T2P 5M5',\n",
       "  '+1 (403) 262-3443',\n",
       "  '+1 (403) 262-6712',\n",
       "  'jane@chinookcorp.com'),\n",
       " (4,\n",
       "  'Park',\n",
       "  'Margaret',\n",
       "  'Sales Support Agent',\n",
       "  2,\n",
       "  '1947-09-19 00:00:00',\n",
       "  '2003-05-03 00:00:00',\n",
       "  '683 10 Street SW',\n",
       "  'Calgary',\n",
       "  'AB',\n",
       "  'Canada',\n",
       "  'T2P 5G3',\n",
       "  '+1 (403) 263-4423',\n",
       "  '+1 (403) 263-4289',\n",
       "  'margaret@chinookcorp.com'),\n",
       " (5,\n",
       "  'Johnson',\n",
       "  'Steve',\n",
       "  'Sales Support Agent',\n",
       "  2,\n",
       "  '1965-03-03 00:00:00',\n",
       "  '2003-10-17 00:00:00',\n",
       "  '7727B 41 Ave',\n",
       "  'Calgary',\n",
       "  'AB',\n",
       "  'Canada',\n",
       "  'T3B 1Y7',\n",
       "  '1 (780) 836-9987',\n",
       "  '1 (780) 836-9543',\n",
       "  'steve@chinookcorp.com')]"
      ]
     },
     "metadata": {},
     "execution_count": 52
    }
   ],
   "source": [
    "# using fetchall method in order to view the query result\n",
    "results = cur.fetchall()\n",
    "results"
   ]
  },
  {
   "cell_type": "code",
   "execution_count": 53,
   "metadata": {},
   "outputs": [],
   "source": [
    "# assign it to employee_df\n",
    "employee_df = pd.DataFrame(results)"
   ]
  },
  {
   "cell_type": "code",
   "execution_count": 54,
   "metadata": {},
   "outputs": [
    {
     "output_type": "execute_result",
     "data": {
      "text/plain": [
       "   0        1         2                    3    4                    5   \\\n",
       "0   1    Adams    Andrew      General Manager  NaN  1962-02-18 00:00:00   \n",
       "1   2  Edwards     Nancy        Sales Manager  1.0  1958-12-08 00:00:00   \n",
       "2   3  Peacock      Jane  Sales Support Agent  2.0  1973-08-29 00:00:00   \n",
       "3   4     Park  Margaret  Sales Support Agent  2.0  1947-09-19 00:00:00   \n",
       "4   5  Johnson     Steve  Sales Support Agent  2.0  1965-03-03 00:00:00   \n",
       "\n",
       "                    6                    7         8   9       10       11  \\\n",
       "0  2002-08-14 00:00:00  11120 Jasper Ave NW  Edmonton  AB  Canada  T5K 2N1   \n",
       "1  2002-05-01 00:00:00         825 8 Ave SW   Calgary  AB  Canada  T2P 2T3   \n",
       "2  2002-04-01 00:00:00        1111 6 Ave SW   Calgary  AB  Canada  T2P 5M5   \n",
       "3  2003-05-03 00:00:00     683 10 Street SW   Calgary  AB  Canada  T2P 5G3   \n",
       "4  2003-10-17 00:00:00         7727B 41 Ave   Calgary  AB  Canada  T3B 1Y7   \n",
       "\n",
       "                  12                 13                        14  \n",
       "0  +1 (780) 428-9482  +1 (780) 428-3457    andrew@chinookcorp.com  \n",
       "1  +1 (403) 262-3443  +1 (403) 262-3322     nancy@chinookcorp.com  \n",
       "2  +1 (403) 262-3443  +1 (403) 262-6712      jane@chinookcorp.com  \n",
       "3  +1 (403) 263-4423  +1 (403) 263-4289  margaret@chinookcorp.com  \n",
       "4   1 (780) 836-9987   1 (780) 836-9543     steve@chinookcorp.com  "
      ],
      "text/html": "<div>\n<style scoped>\n    .dataframe tbody tr th:only-of-type {\n        vertical-align: middle;\n    }\n\n    .dataframe tbody tr th {\n        vertical-align: top;\n    }\n\n    .dataframe thead th {\n        text-align: right;\n    }\n</style>\n<table border=\"1\" class=\"dataframe\">\n  <thead>\n    <tr style=\"text-align: right;\">\n      <th></th>\n      <th>0</th>\n      <th>1</th>\n      <th>2</th>\n      <th>3</th>\n      <th>4</th>\n      <th>5</th>\n      <th>6</th>\n      <th>7</th>\n      <th>8</th>\n      <th>9</th>\n      <th>10</th>\n      <th>11</th>\n      <th>12</th>\n      <th>13</th>\n      <th>14</th>\n    </tr>\n  </thead>\n  <tbody>\n    <tr>\n      <th>0</th>\n      <td>1</td>\n      <td>Adams</td>\n      <td>Andrew</td>\n      <td>General Manager</td>\n      <td>NaN</td>\n      <td>1962-02-18 00:00:00</td>\n      <td>2002-08-14 00:00:00</td>\n      <td>11120 Jasper Ave NW</td>\n      <td>Edmonton</td>\n      <td>AB</td>\n      <td>Canada</td>\n      <td>T5K 2N1</td>\n      <td>+1 (780) 428-9482</td>\n      <td>+1 (780) 428-3457</td>\n      <td>andrew@chinookcorp.com</td>\n    </tr>\n    <tr>\n      <th>1</th>\n      <td>2</td>\n      <td>Edwards</td>\n      <td>Nancy</td>\n      <td>Sales Manager</td>\n      <td>1.0</td>\n      <td>1958-12-08 00:00:00</td>\n      <td>2002-05-01 00:00:00</td>\n      <td>825 8 Ave SW</td>\n      <td>Calgary</td>\n      <td>AB</td>\n      <td>Canada</td>\n      <td>T2P 2T3</td>\n      <td>+1 (403) 262-3443</td>\n      <td>+1 (403) 262-3322</td>\n      <td>nancy@chinookcorp.com</td>\n    </tr>\n    <tr>\n      <th>2</th>\n      <td>3</td>\n      <td>Peacock</td>\n      <td>Jane</td>\n      <td>Sales Support Agent</td>\n      <td>2.0</td>\n      <td>1973-08-29 00:00:00</td>\n      <td>2002-04-01 00:00:00</td>\n      <td>1111 6 Ave SW</td>\n      <td>Calgary</td>\n      <td>AB</td>\n      <td>Canada</td>\n      <td>T2P 5M5</td>\n      <td>+1 (403) 262-3443</td>\n      <td>+1 (403) 262-6712</td>\n      <td>jane@chinookcorp.com</td>\n    </tr>\n    <tr>\n      <th>3</th>\n      <td>4</td>\n      <td>Park</td>\n      <td>Margaret</td>\n      <td>Sales Support Agent</td>\n      <td>2.0</td>\n      <td>1947-09-19 00:00:00</td>\n      <td>2003-05-03 00:00:00</td>\n      <td>683 10 Street SW</td>\n      <td>Calgary</td>\n      <td>AB</td>\n      <td>Canada</td>\n      <td>T2P 5G3</td>\n      <td>+1 (403) 263-4423</td>\n      <td>+1 (403) 263-4289</td>\n      <td>margaret@chinookcorp.com</td>\n    </tr>\n    <tr>\n      <th>4</th>\n      <td>5</td>\n      <td>Johnson</td>\n      <td>Steve</td>\n      <td>Sales Support Agent</td>\n      <td>2.0</td>\n      <td>1965-03-03 00:00:00</td>\n      <td>2003-10-17 00:00:00</td>\n      <td>7727B 41 Ave</td>\n      <td>Calgary</td>\n      <td>AB</td>\n      <td>Canada</td>\n      <td>T3B 1Y7</td>\n      <td>1 (780) 836-9987</td>\n      <td>1 (780) 836-9543</td>\n      <td>steve@chinookcorp.com</td>\n    </tr>\n  </tbody>\n</table>\n</div>"
     },
     "metadata": {},
     "execution_count": 54
    }
   ],
   "source": [
    "employee_df.head()"
   ]
  },
  {
   "cell_type": "code",
   "execution_count": 55,
   "metadata": {},
   "outputs": [],
   "source": [
    "# before move on, don't forget to close cursor and connection\n",
    "cur.close()\n",
    "conn.close()"
   ]
  },
  {
   "source": [
    "# Read sql with pandas\n",
    "\n",
    "read sql using read_sql function"
   ],
   "cell_type": "markdown",
   "metadata": {}
  },
  {
   "cell_type": "code",
   "execution_count": 56,
   "metadata": {},
   "outputs": [],
   "source": [
    "# make a database connection\n",
    "db_path = 'data/db/chinook.db'\n",
    "conn = sqlite3.connect(db_path)"
   ]
  },
  {
   "cell_type": "code",
   "execution_count": 57,
   "metadata": {},
   "outputs": [
    {
     "output_type": "execute_result",
     "data": {
      "text/plain": [
       "           LastName FirstName                Title  ReportsTo  BirthDate  \\\n",
       "EmployeeId                                                                 \n",
       "1             Adams    Andrew      General Manager        NaN 1962-02-18   \n",
       "2           Edwards     Nancy        Sales Manager        1.0 1958-12-08   \n",
       "3           Peacock      Jane  Sales Support Agent        2.0 1973-08-29   \n",
       "4              Park  Margaret  Sales Support Agent        2.0 1947-09-19   \n",
       "5           Johnson     Steve  Sales Support Agent        2.0 1965-03-03   \n",
       "\n",
       "             HireDate              Address      City State Country PostalCode  \\\n",
       "EmployeeId                                                                      \n",
       "1          2002-08-14  11120 Jasper Ave NW  Edmonton    AB  Canada    T5K 2N1   \n",
       "2          2002-05-01         825 8 Ave SW   Calgary    AB  Canada    T2P 2T3   \n",
       "3          2002-04-01        1111 6 Ave SW   Calgary    AB  Canada    T2P 5M5   \n",
       "4          2003-05-03     683 10 Street SW   Calgary    AB  Canada    T2P 5G3   \n",
       "5          2003-10-17         7727B 41 Ave   Calgary    AB  Canada    T3B 1Y7   \n",
       "\n",
       "                        Phone                Fax                     Email  \n",
       "EmployeeId                                                                  \n",
       "1           +1 (780) 428-9482  +1 (780) 428-3457    andrew@chinookcorp.com  \n",
       "2           +1 (403) 262-3443  +1 (403) 262-3322     nancy@chinookcorp.com  \n",
       "3           +1 (403) 262-3443  +1 (403) 262-6712      jane@chinookcorp.com  \n",
       "4           +1 (403) 263-4423  +1 (403) 263-4289  margaret@chinookcorp.com  \n",
       "5            1 (780) 836-9987   1 (780) 836-9543     steve@chinookcorp.com  "
      ],
      "text/html": "<div>\n<style scoped>\n    .dataframe tbody tr th:only-of-type {\n        vertical-align: middle;\n    }\n\n    .dataframe tbody tr th {\n        vertical-align: top;\n    }\n\n    .dataframe thead th {\n        text-align: right;\n    }\n</style>\n<table border=\"1\" class=\"dataframe\">\n  <thead>\n    <tr style=\"text-align: right;\">\n      <th></th>\n      <th>LastName</th>\n      <th>FirstName</th>\n      <th>Title</th>\n      <th>ReportsTo</th>\n      <th>BirthDate</th>\n      <th>HireDate</th>\n      <th>Address</th>\n      <th>City</th>\n      <th>State</th>\n      <th>Country</th>\n      <th>PostalCode</th>\n      <th>Phone</th>\n      <th>Fax</th>\n      <th>Email</th>\n    </tr>\n    <tr>\n      <th>EmployeeId</th>\n      <th></th>\n      <th></th>\n      <th></th>\n      <th></th>\n      <th></th>\n      <th></th>\n      <th></th>\n      <th></th>\n      <th></th>\n      <th></th>\n      <th></th>\n      <th></th>\n      <th></th>\n      <th></th>\n    </tr>\n  </thead>\n  <tbody>\n    <tr>\n      <th>1</th>\n      <td>Adams</td>\n      <td>Andrew</td>\n      <td>General Manager</td>\n      <td>NaN</td>\n      <td>1962-02-18</td>\n      <td>2002-08-14</td>\n      <td>11120 Jasper Ave NW</td>\n      <td>Edmonton</td>\n      <td>AB</td>\n      <td>Canada</td>\n      <td>T5K 2N1</td>\n      <td>+1 (780) 428-9482</td>\n      <td>+1 (780) 428-3457</td>\n      <td>andrew@chinookcorp.com</td>\n    </tr>\n    <tr>\n      <th>2</th>\n      <td>Edwards</td>\n      <td>Nancy</td>\n      <td>Sales Manager</td>\n      <td>1.0</td>\n      <td>1958-12-08</td>\n      <td>2002-05-01</td>\n      <td>825 8 Ave SW</td>\n      <td>Calgary</td>\n      <td>AB</td>\n      <td>Canada</td>\n      <td>T2P 2T3</td>\n      <td>+1 (403) 262-3443</td>\n      <td>+1 (403) 262-3322</td>\n      <td>nancy@chinookcorp.com</td>\n    </tr>\n    <tr>\n      <th>3</th>\n      <td>Peacock</td>\n      <td>Jane</td>\n      <td>Sales Support Agent</td>\n      <td>2.0</td>\n      <td>1973-08-29</td>\n      <td>2002-04-01</td>\n      <td>1111 6 Ave SW</td>\n      <td>Calgary</td>\n      <td>AB</td>\n      <td>Canada</td>\n      <td>T2P 5M5</td>\n      <td>+1 (403) 262-3443</td>\n      <td>+1 (403) 262-6712</td>\n      <td>jane@chinookcorp.com</td>\n    </tr>\n    <tr>\n      <th>4</th>\n      <td>Park</td>\n      <td>Margaret</td>\n      <td>Sales Support Agent</td>\n      <td>2.0</td>\n      <td>1947-09-19</td>\n      <td>2003-05-03</td>\n      <td>683 10 Street SW</td>\n      <td>Calgary</td>\n      <td>AB</td>\n      <td>Canada</td>\n      <td>T2P 5G3</td>\n      <td>+1 (403) 263-4423</td>\n      <td>+1 (403) 263-4289</td>\n      <td>margaret@chinookcorp.com</td>\n    </tr>\n    <tr>\n      <th>5</th>\n      <td>Johnson</td>\n      <td>Steve</td>\n      <td>Sales Support Agent</td>\n      <td>2.0</td>\n      <td>1965-03-03</td>\n      <td>2003-10-17</td>\n      <td>7727B 41 Ave</td>\n      <td>Calgary</td>\n      <td>AB</td>\n      <td>Canada</td>\n      <td>T3B 1Y7</td>\n      <td>1 (780) 836-9987</td>\n      <td>1 (780) 836-9543</td>\n      <td>steve@chinookcorp.com</td>\n    </tr>\n  </tbody>\n</table>\n</div>"
     },
     "metadata": {},
     "execution_count": 57
    }
   ],
   "source": [
    "# make DataFrame using read_sql\n",
    "\n",
    "# select all data for all row and column from employees table\n",
    "employee_df = pd.read_sql('SELECT * FROM employees;', conn, index_col='EmployeeId', parse_dates=['BirthDate','HireDate']) \n",
    "employee_df.head()"
   ]
  },
  {
   "cell_type": "code",
   "execution_count": 58,
   "metadata": {},
   "outputs": [
    {
     "output_type": "stream",
     "name": "stdout",
     "text": [
      "<class 'pandas.core.frame.DataFrame'>\nInt64Index: 8 entries, 1 to 8\nData columns (total 14 columns):\n #   Column      Non-Null Count  Dtype         \n---  ------      --------------  -----         \n 0   LastName    8 non-null      object        \n 1   FirstName   8 non-null      object        \n 2   Title       8 non-null      object        \n 3   ReportsTo   7 non-null      float64       \n 4   BirthDate   8 non-null      datetime64[ns]\n 5   HireDate    8 non-null      datetime64[ns]\n 6   Address     8 non-null      object        \n 7   City        8 non-null      object        \n 8   State       8 non-null      object        \n 9   Country     8 non-null      object        \n 10  PostalCode  8 non-null      object        \n 11  Phone       8 non-null      object        \n 12  Fax         8 non-null      object        \n 13  Email       8 non-null      object        \ndtypes: datetime64[ns](2), float64(1), object(11)\nmemory usage: 608.0+ bytes\n"
     ]
    }
   ],
   "source": [
    "employee_df.info()"
   ]
  },
  {
   "cell_type": "code",
   "execution_count": 59,
   "metadata": {},
   "outputs": [
    {
     "output_type": "execute_result",
     "data": {
      "text/plain": [
       "       ReportsTo\n",
       "count   7.000000\n",
       "mean    2.857143\n",
       "std     2.193063\n",
       "min     1.000000\n",
       "25%     1.500000\n",
       "50%     2.000000\n",
       "75%     4.000000\n",
       "max     6.000000"
      ],
      "text/html": "<div>\n<style scoped>\n    .dataframe tbody tr th:only-of-type {\n        vertical-align: middle;\n    }\n\n    .dataframe tbody tr th {\n        vertical-align: top;\n    }\n\n    .dataframe thead th {\n        text-align: right;\n    }\n</style>\n<table border=\"1\" class=\"dataframe\">\n  <thead>\n    <tr style=\"text-align: right;\">\n      <th></th>\n      <th>ReportsTo</th>\n    </tr>\n  </thead>\n  <tbody>\n    <tr>\n      <th>count</th>\n      <td>7.000000</td>\n    </tr>\n    <tr>\n      <th>mean</th>\n      <td>2.857143</td>\n    </tr>\n    <tr>\n      <th>std</th>\n      <td>2.193063</td>\n    </tr>\n    <tr>\n      <th>min</th>\n      <td>1.000000</td>\n    </tr>\n    <tr>\n      <th>25%</th>\n      <td>1.500000</td>\n    </tr>\n    <tr>\n      <th>50%</th>\n      <td>2.000000</td>\n    </tr>\n    <tr>\n      <th>75%</th>\n      <td>4.000000</td>\n    </tr>\n    <tr>\n      <th>max</th>\n      <td>6.000000</td>\n    </tr>\n  </tbody>\n</table>\n</div>"
     },
     "metadata": {},
     "execution_count": 59
    }
   ],
   "source": [
    "employee_df.describe()"
   ]
  },
  {
   "cell_type": "code",
   "execution_count": 60,
   "metadata": {},
   "outputs": [
    {
     "output_type": "execute_result",
     "data": {
      "text/plain": [
       "LastName      0\n",
       "FirstName     0\n",
       "Title         0\n",
       "ReportsTo     1\n",
       "BirthDate     0\n",
       "HireDate      0\n",
       "Address       0\n",
       "City          0\n",
       "State         0\n",
       "Country       0\n",
       "PostalCode    0\n",
       "Phone         0\n",
       "Fax           0\n",
       "Email         0\n",
       "dtype: int64"
      ]
     },
     "metadata": {},
     "execution_count": 60
    }
   ],
   "source": [
    "employee_df.isnull().sum()"
   ]
  },
  {
   "cell_type": "code",
   "execution_count": 61,
   "metadata": {},
   "outputs": [
    {
     "output_type": "execute_result",
     "data": {
      "text/plain": [
       "           LastName FirstName            Title  ReportsTo  BirthDate  \\\n",
       "EmployeeId                                                             \n",
       "1             Adams    Andrew  General Manager        NaN 1962-02-18   \n",
       "\n",
       "             HireDate              Address      City State Country PostalCode  \\\n",
       "EmployeeId                                                                      \n",
       "1          2002-08-14  11120 Jasper Ave NW  Edmonton    AB  Canada    T5K 2N1   \n",
       "\n",
       "                        Phone                Fax                   Email  \n",
       "EmployeeId                                                                \n",
       "1           +1 (780) 428-9482  +1 (780) 428-3457  andrew@chinookcorp.com  "
      ],
      "text/html": "<div>\n<style scoped>\n    .dataframe tbody tr th:only-of-type {\n        vertical-align: middle;\n    }\n\n    .dataframe tbody tr th {\n        vertical-align: top;\n    }\n\n    .dataframe thead th {\n        text-align: right;\n    }\n</style>\n<table border=\"1\" class=\"dataframe\">\n  <thead>\n    <tr style=\"text-align: right;\">\n      <th></th>\n      <th>LastName</th>\n      <th>FirstName</th>\n      <th>Title</th>\n      <th>ReportsTo</th>\n      <th>BirthDate</th>\n      <th>HireDate</th>\n      <th>Address</th>\n      <th>City</th>\n      <th>State</th>\n      <th>Country</th>\n      <th>PostalCode</th>\n      <th>Phone</th>\n      <th>Fax</th>\n      <th>Email</th>\n    </tr>\n    <tr>\n      <th>EmployeeId</th>\n      <th></th>\n      <th></th>\n      <th></th>\n      <th></th>\n      <th></th>\n      <th></th>\n      <th></th>\n      <th></th>\n      <th></th>\n      <th></th>\n      <th></th>\n      <th></th>\n      <th></th>\n      <th></th>\n    </tr>\n  </thead>\n  <tbody>\n    <tr>\n      <th>1</th>\n      <td>Adams</td>\n      <td>Andrew</td>\n      <td>General Manager</td>\n      <td>NaN</td>\n      <td>1962-02-18</td>\n      <td>2002-08-14</td>\n      <td>11120 Jasper Ave NW</td>\n      <td>Edmonton</td>\n      <td>AB</td>\n      <td>Canada</td>\n      <td>T5K 2N1</td>\n      <td>+1 (780) 428-9482</td>\n      <td>+1 (780) 428-3457</td>\n      <td>andrew@chinookcorp.com</td>\n    </tr>\n  </tbody>\n</table>\n</div>"
     },
     "metadata": {},
     "execution_count": 61
    }
   ],
   "source": [
    "employee_df[employee_df['ReportsTo'].isnull()]"
   ]
  },
  {
   "cell_type": "code",
   "execution_count": 62,
   "metadata": {},
   "outputs": [],
   "source": [
    "employee_df = employee_df.fillna(0)"
   ]
  },
  {
   "cell_type": "code",
   "execution_count": 63,
   "metadata": {},
   "outputs": [
    {
     "output_type": "execute_result",
     "data": {
      "text/plain": [
       "LastName      0\n",
       "FirstName     0\n",
       "Title         0\n",
       "ReportsTo     0\n",
       "BirthDate     0\n",
       "HireDate      0\n",
       "Address       0\n",
       "City          0\n",
       "State         0\n",
       "Country       0\n",
       "PostalCode    0\n",
       "Phone         0\n",
       "Fax           0\n",
       "Email         0\n",
       "dtype: int64"
      ]
     },
     "metadata": {},
     "execution_count": 63
    }
   ],
   "source": [
    "employee_df.isnull().sum()"
   ]
  },
  {
   "cell_type": "code",
   "execution_count": 64,
   "metadata": {},
   "outputs": [
    {
     "output_type": "execute_result",
     "data": {
      "text/plain": [
       "            LastName FirstName                Title  ReportsTo  BirthDate  \\\n",
       "EmployeeId                                                                  \n",
       "1              Adams    Andrew      General Manager        0.0 1962-02-18   \n",
       "2            Edwards     Nancy        Sales Manager        1.0 1958-12-08   \n",
       "3            Peacock      Jane  Sales Support Agent        2.0 1973-08-29   \n",
       "4               Park  Margaret  Sales Support Agent        2.0 1947-09-19   \n",
       "5            Johnson     Steve  Sales Support Agent        2.0 1965-03-03   \n",
       "6           Mitchell   Michael           IT Manager        1.0 1973-07-01   \n",
       "7               King    Robert             IT Staff        6.0 1970-05-29   \n",
       "8           Callahan     Laura             IT Staff        6.0 1968-01-09   \n",
       "\n",
       "             HireDate                      Address        City State Country  \\\n",
       "EmployeeId                                                                     \n",
       "1          2002-08-14          11120 Jasper Ave NW    Edmonton    AB  Canada   \n",
       "2          2002-05-01                 825 8 Ave SW     Calgary    AB  Canada   \n",
       "3          2002-04-01                1111 6 Ave SW     Calgary    AB  Canada   \n",
       "4          2003-05-03             683 10 Street SW     Calgary    AB  Canada   \n",
       "5          2003-10-17                 7727B 41 Ave     Calgary    AB  Canada   \n",
       "6          2003-10-17         5827 Bowness Road NW     Calgary    AB  Canada   \n",
       "7          2004-01-02  590 Columbia Boulevard West  Lethbridge    AB  Canada   \n",
       "8          2004-03-04                  923 7 ST NW  Lethbridge    AB  Canada   \n",
       "\n",
       "           PostalCode              Phone                Fax  \\\n",
       "EmployeeId                                                    \n",
       "1             T5K 2N1  +1 (780) 428-9482  +1 (780) 428-3457   \n",
       "2             T2P 2T3  +1 (403) 262-3443  +1 (403) 262-3322   \n",
       "3             T2P 5M5  +1 (403) 262-3443  +1 (403) 262-6712   \n",
       "4             T2P 5G3  +1 (403) 263-4423  +1 (403) 263-4289   \n",
       "5             T3B 1Y7   1 (780) 836-9987   1 (780) 836-9543   \n",
       "6             T3B 0C5  +1 (403) 246-9887  +1 (403) 246-9899   \n",
       "7             T1K 5N8  +1 (403) 456-9986  +1 (403) 456-8485   \n",
       "8             T1H 1Y8  +1 (403) 467-3351  +1 (403) 467-8772   \n",
       "\n",
       "                               Email  \n",
       "EmployeeId                            \n",
       "1             andrew@chinookcorp.com  \n",
       "2              nancy@chinookcorp.com  \n",
       "3               jane@chinookcorp.com  \n",
       "4           margaret@chinookcorp.com  \n",
       "5              steve@chinookcorp.com  \n",
       "6            michael@chinookcorp.com  \n",
       "7             robert@chinookcorp.com  \n",
       "8              laura@chinookcorp.com  "
      ],
      "text/html": "<div>\n<style scoped>\n    .dataframe tbody tr th:only-of-type {\n        vertical-align: middle;\n    }\n\n    .dataframe tbody tr th {\n        vertical-align: top;\n    }\n\n    .dataframe thead th {\n        text-align: right;\n    }\n</style>\n<table border=\"1\" class=\"dataframe\">\n  <thead>\n    <tr style=\"text-align: right;\">\n      <th></th>\n      <th>LastName</th>\n      <th>FirstName</th>\n      <th>Title</th>\n      <th>ReportsTo</th>\n      <th>BirthDate</th>\n      <th>HireDate</th>\n      <th>Address</th>\n      <th>City</th>\n      <th>State</th>\n      <th>Country</th>\n      <th>PostalCode</th>\n      <th>Phone</th>\n      <th>Fax</th>\n      <th>Email</th>\n    </tr>\n    <tr>\n      <th>EmployeeId</th>\n      <th></th>\n      <th></th>\n      <th></th>\n      <th></th>\n      <th></th>\n      <th></th>\n      <th></th>\n      <th></th>\n      <th></th>\n      <th></th>\n      <th></th>\n      <th></th>\n      <th></th>\n      <th></th>\n    </tr>\n  </thead>\n  <tbody>\n    <tr>\n      <th>1</th>\n      <td>Adams</td>\n      <td>Andrew</td>\n      <td>General Manager</td>\n      <td>0.0</td>\n      <td>1962-02-18</td>\n      <td>2002-08-14</td>\n      <td>11120 Jasper Ave NW</td>\n      <td>Edmonton</td>\n      <td>AB</td>\n      <td>Canada</td>\n      <td>T5K 2N1</td>\n      <td>+1 (780) 428-9482</td>\n      <td>+1 (780) 428-3457</td>\n      <td>andrew@chinookcorp.com</td>\n    </tr>\n    <tr>\n      <th>2</th>\n      <td>Edwards</td>\n      <td>Nancy</td>\n      <td>Sales Manager</td>\n      <td>1.0</td>\n      <td>1958-12-08</td>\n      <td>2002-05-01</td>\n      <td>825 8 Ave SW</td>\n      <td>Calgary</td>\n      <td>AB</td>\n      <td>Canada</td>\n      <td>T2P 2T3</td>\n      <td>+1 (403) 262-3443</td>\n      <td>+1 (403) 262-3322</td>\n      <td>nancy@chinookcorp.com</td>\n    </tr>\n    <tr>\n      <th>3</th>\n      <td>Peacock</td>\n      <td>Jane</td>\n      <td>Sales Support Agent</td>\n      <td>2.0</td>\n      <td>1973-08-29</td>\n      <td>2002-04-01</td>\n      <td>1111 6 Ave SW</td>\n      <td>Calgary</td>\n      <td>AB</td>\n      <td>Canada</td>\n      <td>T2P 5M5</td>\n      <td>+1 (403) 262-3443</td>\n      <td>+1 (403) 262-6712</td>\n      <td>jane@chinookcorp.com</td>\n    </tr>\n    <tr>\n      <th>4</th>\n      <td>Park</td>\n      <td>Margaret</td>\n      <td>Sales Support Agent</td>\n      <td>2.0</td>\n      <td>1947-09-19</td>\n      <td>2003-05-03</td>\n      <td>683 10 Street SW</td>\n      <td>Calgary</td>\n      <td>AB</td>\n      <td>Canada</td>\n      <td>T2P 5G3</td>\n      <td>+1 (403) 263-4423</td>\n      <td>+1 (403) 263-4289</td>\n      <td>margaret@chinookcorp.com</td>\n    </tr>\n    <tr>\n      <th>5</th>\n      <td>Johnson</td>\n      <td>Steve</td>\n      <td>Sales Support Agent</td>\n      <td>2.0</td>\n      <td>1965-03-03</td>\n      <td>2003-10-17</td>\n      <td>7727B 41 Ave</td>\n      <td>Calgary</td>\n      <td>AB</td>\n      <td>Canada</td>\n      <td>T3B 1Y7</td>\n      <td>1 (780) 836-9987</td>\n      <td>1 (780) 836-9543</td>\n      <td>steve@chinookcorp.com</td>\n    </tr>\n    <tr>\n      <th>6</th>\n      <td>Mitchell</td>\n      <td>Michael</td>\n      <td>IT Manager</td>\n      <td>1.0</td>\n      <td>1973-07-01</td>\n      <td>2003-10-17</td>\n      <td>5827 Bowness Road NW</td>\n      <td>Calgary</td>\n      <td>AB</td>\n      <td>Canada</td>\n      <td>T3B 0C5</td>\n      <td>+1 (403) 246-9887</td>\n      <td>+1 (403) 246-9899</td>\n      <td>michael@chinookcorp.com</td>\n    </tr>\n    <tr>\n      <th>7</th>\n      <td>King</td>\n      <td>Robert</td>\n      <td>IT Staff</td>\n      <td>6.0</td>\n      <td>1970-05-29</td>\n      <td>2004-01-02</td>\n      <td>590 Columbia Boulevard West</td>\n      <td>Lethbridge</td>\n      <td>AB</td>\n      <td>Canada</td>\n      <td>T1K 5N8</td>\n      <td>+1 (403) 456-9986</td>\n      <td>+1 (403) 456-8485</td>\n      <td>robert@chinookcorp.com</td>\n    </tr>\n    <tr>\n      <th>8</th>\n      <td>Callahan</td>\n      <td>Laura</td>\n      <td>IT Staff</td>\n      <td>6.0</td>\n      <td>1968-01-09</td>\n      <td>2004-03-04</td>\n      <td>923 7 ST NW</td>\n      <td>Lethbridge</td>\n      <td>AB</td>\n      <td>Canada</td>\n      <td>T1H 1Y8</td>\n      <td>+1 (403) 467-3351</td>\n      <td>+1 (403) 467-8772</td>\n      <td>laura@chinookcorp.com</td>\n    </tr>\n  </tbody>\n</table>\n</div>"
     },
     "metadata": {},
     "execution_count": 64
    }
   ],
   "source": [
    "employee_df"
   ]
  },
  {
   "cell_type": "code",
   "execution_count": 65,
   "metadata": {},
   "outputs": [],
   "source": [
    "# write to csv and json file\n",
    "csv_path = 'data out/csv/employees.csv'\n",
    "json_path = 'data out/json/employees.json'\n",
    "\n",
    "employee_df.to_csv(csv_path)\n",
    "employee_df.to_json(json_path)"
   ]
  },
  {
   "cell_type": "code",
   "execution_count": 66,
   "metadata": {},
   "outputs": [],
   "source": [
    "# close connection\n",
    "conn.close()"
   ]
  },
  {
   "source": [
    "# Read SQL with .sql file\n",
    "In order to read SQL file, the database connection is required. But, since i am not using any relational database so i will make database connection to database in memory"
   ],
   "cell_type": "markdown",
   "metadata": {}
  },
  {
   "cell_type": "code",
   "execution_count": 67,
   "metadata": {},
   "outputs": [],
   "source": [
    "# make a connection to database with memory\n",
    "conn = sqlite3.connect(':memory:')\n",
    "\n",
    "# create new cursor\n",
    "cursor = conn.cursor()"
   ]
  },
  {
   "cell_type": "code",
   "execution_count": 68,
   "metadata": {},
   "outputs": [
    {
     "output_type": "execute_result",
     "data": {
      "text/plain": [
       "<sqlite3.Cursor at 0xa8b5de0>"
      ]
     },
     "metadata": {},
     "execution_count": 68
    }
   ],
   "source": [
    "# open sql file\n",
    "path = 'data/sql/cryptos.sql'\n",
    "\n",
    "cursor.executescript(open(path, 'r').read())"
   ]
  },
  {
   "cell_type": "code",
   "execution_count": 69,
   "metadata": {},
   "outputs": [],
   "source": [
    "# make data frame from cryptos.sql\n",
    "crypto_df = pd.read_sql('''SELECT cryptocoins_cryptocurrency.name AS coin_name, cryptocoins_exchange.name AS exchange, symbol, price_usd, percent_change_7d\n",
    "                            FROM cryptocoins_cryptocurrency\n",
    "                            JOIN cryptocoins_exchange\n",
    "                            ON cryptocoins_cryptocurrency.exchange_id = cryptocoins_exchange.id''', conn)"
   ]
  },
  {
   "cell_type": "code",
   "execution_count": 70,
   "metadata": {},
   "outputs": [
    {
     "output_type": "execute_result",
     "data": {
      "text/plain": [
       "      coin_name  exchange symbol  price_usd  percent_change_7d\n",
       "0       Bitcoin  Bitstamp    BTC    8707.37              -5.91\n",
       "1      Ethereum  Bitstamp    ETH     186.50              -0.66\n",
       "2           XRP  Bitstamp    XRP       0.27              -8.22\n",
       "3  Bitcoin Cash   Binance    BCH     278.92              -4.76\n",
       "4        Tether  Bitstamp   USDT       1.01               0.45"
      ],
      "text/html": "<div>\n<style scoped>\n    .dataframe tbody tr th:only-of-type {\n        vertical-align: middle;\n    }\n\n    .dataframe tbody tr th {\n        vertical-align: top;\n    }\n\n    .dataframe thead th {\n        text-align: right;\n    }\n</style>\n<table border=\"1\" class=\"dataframe\">\n  <thead>\n    <tr style=\"text-align: right;\">\n      <th></th>\n      <th>coin_name</th>\n      <th>exchange</th>\n      <th>symbol</th>\n      <th>price_usd</th>\n      <th>percent_change_7d</th>\n    </tr>\n  </thead>\n  <tbody>\n    <tr>\n      <th>0</th>\n      <td>Bitcoin</td>\n      <td>Bitstamp</td>\n      <td>BTC</td>\n      <td>8707.37</td>\n      <td>-5.91</td>\n    </tr>\n    <tr>\n      <th>1</th>\n      <td>Ethereum</td>\n      <td>Bitstamp</td>\n      <td>ETH</td>\n      <td>186.50</td>\n      <td>-0.66</td>\n    </tr>\n    <tr>\n      <th>2</th>\n      <td>XRP</td>\n      <td>Bitstamp</td>\n      <td>XRP</td>\n      <td>0.27</td>\n      <td>-8.22</td>\n    </tr>\n    <tr>\n      <th>3</th>\n      <td>Bitcoin Cash</td>\n      <td>Binance</td>\n      <td>BCH</td>\n      <td>278.92</td>\n      <td>-4.76</td>\n    </tr>\n    <tr>\n      <th>4</th>\n      <td>Tether</td>\n      <td>Bitstamp</td>\n      <td>USDT</td>\n      <td>1.01</td>\n      <td>0.45</td>\n    </tr>\n  </tbody>\n</table>\n</div>"
     },
     "metadata": {},
     "execution_count": 70
    }
   ],
   "source": [
    "crypto_df.head()"
   ]
  },
  {
   "cell_type": "code",
   "execution_count": 71,
   "metadata": {},
   "outputs": [
    {
     "output_type": "stream",
     "name": "stdout",
     "text": [
      "<class 'pandas.core.frame.DataFrame'>\nRangeIndex: 100 entries, 0 to 99\nData columns (total 5 columns):\n #   Column             Non-Null Count  Dtype  \n---  ------             --------------  -----  \n 0   coin_name          100 non-null    object \n 1   exchange           100 non-null    object \n 2   symbol             100 non-null    object \n 3   price_usd          100 non-null    float64\n 4   percent_change_7d  100 non-null    float64\ndtypes: float64(2), object(3)\nmemory usage: 2.8+ KB\n"
     ]
    }
   ],
   "source": [
    "crypto_df.info()"
   ]
  },
  {
   "cell_type": "code",
   "execution_count": 72,
   "metadata": {},
   "outputs": [
    {
     "output_type": "execute_result",
     "data": {
      "text/plain": [
       "         price_usd  percent_change_7d\n",
       "count   100.000000          100.00000\n",
       "mean    122.474200            0.75230\n",
       "std     885.728397           14.05091\n",
       "min       0.000000          -17.84000\n",
       "25%       0.087500           -5.16500\n",
       "50%       0.740000           -1.76500\n",
       "75%       3.187500            2.47000\n",
       "max    8707.370000           89.14000"
      ],
      "text/html": "<div>\n<style scoped>\n    .dataframe tbody tr th:only-of-type {\n        vertical-align: middle;\n    }\n\n    .dataframe tbody tr th {\n        vertical-align: top;\n    }\n\n    .dataframe thead th {\n        text-align: right;\n    }\n</style>\n<table border=\"1\" class=\"dataframe\">\n  <thead>\n    <tr style=\"text-align: right;\">\n      <th></th>\n      <th>price_usd</th>\n      <th>percent_change_7d</th>\n    </tr>\n  </thead>\n  <tbody>\n    <tr>\n      <th>count</th>\n      <td>100.000000</td>\n      <td>100.00000</td>\n    </tr>\n    <tr>\n      <th>mean</th>\n      <td>122.474200</td>\n      <td>0.75230</td>\n    </tr>\n    <tr>\n      <th>std</th>\n      <td>885.728397</td>\n      <td>14.05091</td>\n    </tr>\n    <tr>\n      <th>min</th>\n      <td>0.000000</td>\n      <td>-17.84000</td>\n    </tr>\n    <tr>\n      <th>25%</th>\n      <td>0.087500</td>\n      <td>-5.16500</td>\n    </tr>\n    <tr>\n      <th>50%</th>\n      <td>0.740000</td>\n      <td>-1.76500</td>\n    </tr>\n    <tr>\n      <th>75%</th>\n      <td>3.187500</td>\n      <td>2.47000</td>\n    </tr>\n    <tr>\n      <th>max</th>\n      <td>8707.370000</td>\n      <td>89.14000</td>\n    </tr>\n  </tbody>\n</table>\n</div>"
     },
     "metadata": {},
     "execution_count": 72
    }
   ],
   "source": [
    "crypto_df.describe()"
   ]
  },
  {
   "cell_type": "code",
   "execution_count": null,
   "metadata": {},
   "outputs": [],
   "source": []
  }
 ]
}