{
 "metadata": {
  "language_info": {
   "codemirror_mode": {
    "name": "ipython",
    "version": 3
   },
   "file_extension": ".py",
   "mimetype": "text/x-python",
   "name": "python",
   "nbconvert_exporter": "python",
   "pygments_lexer": "ipython3",
   "version": "3.8.5-final"
  },
  "orig_nbformat": 2,
  "kernelspec": {
   "name": "Python 3.8.5 32-bit",
   "display_name": "Python 3.8.5 32-bit",
   "metadata": {
    "interpreter": {
     "hash": "4b206d4e30157135457942edf5f287cc66beec6c5bd72f81d81f03c16d57a14b"
    }
   }
  }
 },
 "nbformat": 4,
 "nbformat_minor": 2,
 "cells": [
  {
   "source": [
    "## Creating database engine in python with SQLAlchemy"
   ],
   "cell_type": "markdown",
   "metadata": {}
  },
  {
   "cell_type": "code",
   "execution_count": 1,
   "metadata": {},
   "outputs": [],
   "source": [
    "# import library\n",
    "import numpy as np\n",
    "import pandas as pd\n",
    "from sqlalchemy import create_engine"
   ]
  },
  {
   "cell_type": "code",
   "execution_count": 2,
   "metadata": {},
   "outputs": [],
   "source": [
    "# create engine\n",
    "engine = create_engine('sqlite:///data/db/chinook.db')"
   ]
  },
  {
   "cell_type": "code",
   "execution_count": 3,
   "metadata": {},
   "outputs": [],
   "source": [
    "table_names = engine.table_names()"
   ]
  },
  {
   "cell_type": "code",
   "execution_count": 4,
   "metadata": {},
   "outputs": [
    {
     "output_type": "stream",
     "name": "stdout",
     "text": [
      "['albums', 'artists', 'customers', 'employees', 'employees2', 'genres', 'invoice_items', 'invoices', 'media_types', 'playlist_track', 'playlists', 'sqlite_sequence', 'sqlite_stat1', 'tracks']\n"
     ]
    }
   ],
   "source": [
    "print(table_names)"
   ]
  },
  {
   "source": [
    "### Connecting the database"
   ],
   "cell_type": "markdown",
   "metadata": {}
  },
  {
   "cell_type": "code",
   "execution_count": 5,
   "metadata": {},
   "outputs": [],
   "source": [
    "con = engine.connect()"
   ]
  },
  {
   "source": [
    "### Querying database from connection"
   ],
   "cell_type": "markdown",
   "metadata": {}
  },
  {
   "cell_type": "code",
   "execution_count": 6,
   "metadata": {},
   "outputs": [],
   "source": [
    "result = con.execute('SELECT * FROM customers')"
   ]
  },
  {
   "cell_type": "code",
   "execution_count": 7,
   "metadata": {},
   "outputs": [
    {
     "output_type": "execute_result",
     "data": {
      "text/plain": [
       "sqlalchemy.engine.result.ResultProxy"
      ]
     },
     "metadata": {},
     "execution_count": 7
    }
   ],
   "source": [
    "type(result)"
   ]
  },
  {
   "source": [
    "### Assign it to pandas dataframe"
   ],
   "cell_type": "markdown",
   "metadata": {}
  },
  {
   "cell_type": "code",
   "execution_count": 8,
   "metadata": {},
   "outputs": [],
   "source": [
    "cust_df = pd.DataFrame(result.fetchall())"
   ]
  },
  {
   "cell_type": "code",
   "execution_count": 9,
   "metadata": {},
   "outputs": [],
   "source": [
    "cust_df.columns = result.keys()"
   ]
  },
  {
   "source": [
    "### Close database connection"
   ],
   "cell_type": "markdown",
   "metadata": {}
  },
  {
   "cell_type": "code",
   "execution_count": 10,
   "metadata": {},
   "outputs": [],
   "source": [
    "con.close()"
   ]
  },
  {
   "cell_type": "code",
   "execution_count": 11,
   "metadata": {},
   "outputs": [
    {
     "output_type": "execute_result",
     "data": {
      "text/plain": [
       "   CustomerId  FirstName     LastName  \\\n",
       "0           1       Luís    Gonçalves   \n",
       "1           2     Leonie       Köhler   \n",
       "2           3   François     Tremblay   \n",
       "3           4      Bjørn       Hansen   \n",
       "4           5  František  Wichterlová   \n",
       "\n",
       "                                            Company  \\\n",
       "0  Embraer - Empresa Brasileira de Aeronáutica S.A.   \n",
       "1                                              None   \n",
       "2                                              None   \n",
       "3                                              None   \n",
       "4                                  JetBrains s.r.o.   \n",
       "\n",
       "                           Address                 City State         Country  \\\n",
       "0  Av. Brigadeiro Faria Lima, 2170  São José dos Campos    SP          Brazil   \n",
       "1          Theodor-Heuss-Straße 34            Stuttgart  None         Germany   \n",
       "2                1498 rue Bélanger             Montréal    QC          Canada   \n",
       "3                 Ullevålsveien 14                 Oslo  None          Norway   \n",
       "4                    Klanova 9/506               Prague  None  Czech Republic   \n",
       "\n",
       "  PostalCode               Phone                 Fax  \\\n",
       "0  12227-000  +55 (12) 3923-5555  +55 (12) 3923-5566   \n",
       "1      70174    +49 0711 2842222                None   \n",
       "2    H2G 1A7   +1 (514) 721-4711                None   \n",
       "3       0171     +47 22 44 22 22                None   \n",
       "4      14700    +420 2 4172 5555    +420 2 4172 5555   \n",
       "\n",
       "                      Email  SupportRepId  \n",
       "0      luisg@embraer.com.br             3  \n",
       "1     leonekohler@surfeu.de             5  \n",
       "2       ftremblay@gmail.com             3  \n",
       "3     bjorn.hansen@yahoo.no             4  \n",
       "4  frantisekw@jetbrains.com             4  "
      ],
      "text/html": "<div>\n<style scoped>\n    .dataframe tbody tr th:only-of-type {\n        vertical-align: middle;\n    }\n\n    .dataframe tbody tr th {\n        vertical-align: top;\n    }\n\n    .dataframe thead th {\n        text-align: right;\n    }\n</style>\n<table border=\"1\" class=\"dataframe\">\n  <thead>\n    <tr style=\"text-align: right;\">\n      <th></th>\n      <th>CustomerId</th>\n      <th>FirstName</th>\n      <th>LastName</th>\n      <th>Company</th>\n      <th>Address</th>\n      <th>City</th>\n      <th>State</th>\n      <th>Country</th>\n      <th>PostalCode</th>\n      <th>Phone</th>\n      <th>Fax</th>\n      <th>Email</th>\n      <th>SupportRepId</th>\n    </tr>\n  </thead>\n  <tbody>\n    <tr>\n      <th>0</th>\n      <td>1</td>\n      <td>Luís</td>\n      <td>Gonçalves</td>\n      <td>Embraer - Empresa Brasileira de Aeronáutica S.A.</td>\n      <td>Av. Brigadeiro Faria Lima, 2170</td>\n      <td>São José dos Campos</td>\n      <td>SP</td>\n      <td>Brazil</td>\n      <td>12227-000</td>\n      <td>+55 (12) 3923-5555</td>\n      <td>+55 (12) 3923-5566</td>\n      <td>luisg@embraer.com.br</td>\n      <td>3</td>\n    </tr>\n    <tr>\n      <th>1</th>\n      <td>2</td>\n      <td>Leonie</td>\n      <td>Köhler</td>\n      <td>None</td>\n      <td>Theodor-Heuss-Straße 34</td>\n      <td>Stuttgart</td>\n      <td>None</td>\n      <td>Germany</td>\n      <td>70174</td>\n      <td>+49 0711 2842222</td>\n      <td>None</td>\n      <td>leonekohler@surfeu.de</td>\n      <td>5</td>\n    </tr>\n    <tr>\n      <th>2</th>\n      <td>3</td>\n      <td>François</td>\n      <td>Tremblay</td>\n      <td>None</td>\n      <td>1498 rue Bélanger</td>\n      <td>Montréal</td>\n      <td>QC</td>\n      <td>Canada</td>\n      <td>H2G 1A7</td>\n      <td>+1 (514) 721-4711</td>\n      <td>None</td>\n      <td>ftremblay@gmail.com</td>\n      <td>3</td>\n    </tr>\n    <tr>\n      <th>3</th>\n      <td>4</td>\n      <td>Bjørn</td>\n      <td>Hansen</td>\n      <td>None</td>\n      <td>Ullevålsveien 14</td>\n      <td>Oslo</td>\n      <td>None</td>\n      <td>Norway</td>\n      <td>0171</td>\n      <td>+47 22 44 22 22</td>\n      <td>None</td>\n      <td>bjorn.hansen@yahoo.no</td>\n      <td>4</td>\n    </tr>\n    <tr>\n      <th>4</th>\n      <td>5</td>\n      <td>František</td>\n      <td>Wichterlová</td>\n      <td>JetBrains s.r.o.</td>\n      <td>Klanova 9/506</td>\n      <td>Prague</td>\n      <td>None</td>\n      <td>Czech Republic</td>\n      <td>14700</td>\n      <td>+420 2 4172 5555</td>\n      <td>+420 2 4172 5555</td>\n      <td>frantisekw@jetbrains.com</td>\n      <td>4</td>\n    </tr>\n  </tbody>\n</table>\n</div>"
     },
     "metadata": {},
     "execution_count": 11
    }
   ],
   "source": [
    "cust_df.head()"
   ]
  },
  {
   "cell_type": "code",
   "execution_count": 12,
   "metadata": {},
   "outputs": [],
   "source": [
    "cust_df.set_index('CustomerId', inplace=True)"
   ]
  },
  {
   "cell_type": "code",
   "execution_count": 13,
   "metadata": {},
   "outputs": [
    {
     "output_type": "execute_result",
     "data": {
      "text/plain": [
       "            FirstName     LastName  \\\n",
       "CustomerId                           \n",
       "1                Luís    Gonçalves   \n",
       "2              Leonie       Köhler   \n",
       "3            François     Tremblay   \n",
       "4               Bjørn       Hansen   \n",
       "5           František  Wichterlová   \n",
       "\n",
       "                                                     Company  \\\n",
       "CustomerId                                                     \n",
       "1           Embraer - Empresa Brasileira de Aeronáutica S.A.   \n",
       "2                                                       None   \n",
       "3                                                       None   \n",
       "4                                                       None   \n",
       "5                                           JetBrains s.r.o.   \n",
       "\n",
       "                                    Address                 City State  \\\n",
       "CustomerId                                                               \n",
       "1           Av. Brigadeiro Faria Lima, 2170  São José dos Campos    SP   \n",
       "2                   Theodor-Heuss-Straße 34            Stuttgart  None   \n",
       "3                         1498 rue Bélanger             Montréal    QC   \n",
       "4                          Ullevålsveien 14                 Oslo  None   \n",
       "5                             Klanova 9/506               Prague  None   \n",
       "\n",
       "                   Country PostalCode               Phone                 Fax  \\\n",
       "CustomerId                                                                      \n",
       "1                   Brazil  12227-000  +55 (12) 3923-5555  +55 (12) 3923-5566   \n",
       "2                  Germany      70174    +49 0711 2842222                None   \n",
       "3                   Canada    H2G 1A7   +1 (514) 721-4711                None   \n",
       "4                   Norway       0171     +47 22 44 22 22                None   \n",
       "5           Czech Republic      14700    +420 2 4172 5555    +420 2 4172 5555   \n",
       "\n",
       "                               Email  SupportRepId  \n",
       "CustomerId                                          \n",
       "1               luisg@embraer.com.br             3  \n",
       "2              leonekohler@surfeu.de             5  \n",
       "3                ftremblay@gmail.com             3  \n",
       "4              bjorn.hansen@yahoo.no             4  \n",
       "5           frantisekw@jetbrains.com             4  "
      ],
      "text/html": "<div>\n<style scoped>\n    .dataframe tbody tr th:only-of-type {\n        vertical-align: middle;\n    }\n\n    .dataframe tbody tr th {\n        vertical-align: top;\n    }\n\n    .dataframe thead th {\n        text-align: right;\n    }\n</style>\n<table border=\"1\" class=\"dataframe\">\n  <thead>\n    <tr style=\"text-align: right;\">\n      <th></th>\n      <th>FirstName</th>\n      <th>LastName</th>\n      <th>Company</th>\n      <th>Address</th>\n      <th>City</th>\n      <th>State</th>\n      <th>Country</th>\n      <th>PostalCode</th>\n      <th>Phone</th>\n      <th>Fax</th>\n      <th>Email</th>\n      <th>SupportRepId</th>\n    </tr>\n    <tr>\n      <th>CustomerId</th>\n      <th></th>\n      <th></th>\n      <th></th>\n      <th></th>\n      <th></th>\n      <th></th>\n      <th></th>\n      <th></th>\n      <th></th>\n      <th></th>\n      <th></th>\n      <th></th>\n    </tr>\n  </thead>\n  <tbody>\n    <tr>\n      <th>1</th>\n      <td>Luís</td>\n      <td>Gonçalves</td>\n      <td>Embraer - Empresa Brasileira de Aeronáutica S.A.</td>\n      <td>Av. Brigadeiro Faria Lima, 2170</td>\n      <td>São José dos Campos</td>\n      <td>SP</td>\n      <td>Brazil</td>\n      <td>12227-000</td>\n      <td>+55 (12) 3923-5555</td>\n      <td>+55 (12) 3923-5566</td>\n      <td>luisg@embraer.com.br</td>\n      <td>3</td>\n    </tr>\n    <tr>\n      <th>2</th>\n      <td>Leonie</td>\n      <td>Köhler</td>\n      <td>None</td>\n      <td>Theodor-Heuss-Straße 34</td>\n      <td>Stuttgart</td>\n      <td>None</td>\n      <td>Germany</td>\n      <td>70174</td>\n      <td>+49 0711 2842222</td>\n      <td>None</td>\n      <td>leonekohler@surfeu.de</td>\n      <td>5</td>\n    </tr>\n    <tr>\n      <th>3</th>\n      <td>François</td>\n      <td>Tremblay</td>\n      <td>None</td>\n      <td>1498 rue Bélanger</td>\n      <td>Montréal</td>\n      <td>QC</td>\n      <td>Canada</td>\n      <td>H2G 1A7</td>\n      <td>+1 (514) 721-4711</td>\n      <td>None</td>\n      <td>ftremblay@gmail.com</td>\n      <td>3</td>\n    </tr>\n    <tr>\n      <th>4</th>\n      <td>Bjørn</td>\n      <td>Hansen</td>\n      <td>None</td>\n      <td>Ullevålsveien 14</td>\n      <td>Oslo</td>\n      <td>None</td>\n      <td>Norway</td>\n      <td>0171</td>\n      <td>+47 22 44 22 22</td>\n      <td>None</td>\n      <td>bjorn.hansen@yahoo.no</td>\n      <td>4</td>\n    </tr>\n    <tr>\n      <th>5</th>\n      <td>František</td>\n      <td>Wichterlová</td>\n      <td>JetBrains s.r.o.</td>\n      <td>Klanova 9/506</td>\n      <td>Prague</td>\n      <td>None</td>\n      <td>Czech Republic</td>\n      <td>14700</td>\n      <td>+420 2 4172 5555</td>\n      <td>+420 2 4172 5555</td>\n      <td>frantisekw@jetbrains.com</td>\n      <td>4</td>\n    </tr>\n  </tbody>\n</table>\n</div>"
     },
     "metadata": {},
     "execution_count": 13
    }
   ],
   "source": [
    "cust_df.head()"
   ]
  },
  {
   "source": [
    "## Using the context manager\n",
    "with ___ as conn:"
   ],
   "cell_type": "markdown",
   "metadata": {}
  },
  {
   "cell_type": "code",
   "execution_count": 14,
   "metadata": {},
   "outputs": [],
   "source": [
    "with engine.connect() as conn:\n",
    "    rs = conn.execute('SELECT * FROM artists')\n",
    "    art_df = pd.DataFrame(rs.fetchall())\n",
    "    art_df.columns = rs.keys()"
   ]
  },
  {
   "cell_type": "code",
   "execution_count": 15,
   "metadata": {},
   "outputs": [],
   "source": [
    "art_df.set_index('ArtistId', inplace=True)"
   ]
  },
  {
   "cell_type": "code",
   "execution_count": 16,
   "metadata": {},
   "outputs": [
    {
     "output_type": "execute_result",
     "data": {
      "text/plain": [
       "(275, 1)"
      ]
     },
     "metadata": {},
     "execution_count": 16
    }
   ],
   "source": [
    "art_df.shape"
   ]
  },
  {
   "source": [
    "## Querying relational databases directly with pandas\n",
    "pd.read_sql_query('query', engine)"
   ],
   "cell_type": "markdown",
   "metadata": {}
  },
  {
   "cell_type": "code",
   "execution_count": 17,
   "metadata": {},
   "outputs": [],
   "source": [
    "employees_df = pd.read_sql_query('SELECT * FROM employees', engine, index_col='EmployeeId', parse_dates=['BirthDate','HireDate'])"
   ]
  },
  {
   "cell_type": "code",
   "execution_count": 18,
   "metadata": {},
   "outputs": [
    {
     "output_type": "execute_result",
     "data": {
      "text/plain": [
       "           LastName FirstName                Title  ReportsTo  BirthDate  \\\n",
       "EmployeeId                                                                 \n",
       "1             Adams    Andrew      General Manager        NaN 1962-02-18   \n",
       "2           Edwards     Nancy        Sales Manager        1.0 1958-12-08   \n",
       "3           Peacock      Jane  Sales Support Agent        2.0 1973-08-29   \n",
       "4              Park  Margaret  Sales Support Agent        2.0 1947-09-19   \n",
       "5           Johnson     Steve  Sales Support Agent        2.0 1965-03-03   \n",
       "\n",
       "             HireDate              Address      City State Country PostalCode  \\\n",
       "EmployeeId                                                                      \n",
       "1          2002-08-14  11120 Jasper Ave NW  Edmonton    AB  Canada    T5K 2N1   \n",
       "2          2002-05-01         825 8 Ave SW   Calgary    AB  Canada    T2P 2T3   \n",
       "3          2002-04-01        1111 6 Ave SW   Calgary    AB  Canada    T2P 5M5   \n",
       "4          2003-05-03     683 10 Street SW   Calgary    AB  Canada    T2P 5G3   \n",
       "5          2003-10-17         7727B 41 Ave   Calgary    AB  Canada    T3B 1Y7   \n",
       "\n",
       "                        Phone                Fax                     Email  \n",
       "EmployeeId                                                                  \n",
       "1           +1 (780) 428-9482  +1 (780) 428-3457    andrew@chinookcorp.com  \n",
       "2           +1 (403) 262-3443  +1 (403) 262-3322     nancy@chinookcorp.com  \n",
       "3           +1 (403) 262-3443  +1 (403) 262-6712      jane@chinookcorp.com  \n",
       "4           +1 (403) 263-4423  +1 (403) 263-4289  margaret@chinookcorp.com  \n",
       "5            1 (780) 836-9987   1 (780) 836-9543     steve@chinookcorp.com  "
      ],
      "text/html": "<div>\n<style scoped>\n    .dataframe tbody tr th:only-of-type {\n        vertical-align: middle;\n    }\n\n    .dataframe tbody tr th {\n        vertical-align: top;\n    }\n\n    .dataframe thead th {\n        text-align: right;\n    }\n</style>\n<table border=\"1\" class=\"dataframe\">\n  <thead>\n    <tr style=\"text-align: right;\">\n      <th></th>\n      <th>LastName</th>\n      <th>FirstName</th>\n      <th>Title</th>\n      <th>ReportsTo</th>\n      <th>BirthDate</th>\n      <th>HireDate</th>\n      <th>Address</th>\n      <th>City</th>\n      <th>State</th>\n      <th>Country</th>\n      <th>PostalCode</th>\n      <th>Phone</th>\n      <th>Fax</th>\n      <th>Email</th>\n    </tr>\n    <tr>\n      <th>EmployeeId</th>\n      <th></th>\n      <th></th>\n      <th></th>\n      <th></th>\n      <th></th>\n      <th></th>\n      <th></th>\n      <th></th>\n      <th></th>\n      <th></th>\n      <th></th>\n      <th></th>\n      <th></th>\n      <th></th>\n    </tr>\n  </thead>\n  <tbody>\n    <tr>\n      <th>1</th>\n      <td>Adams</td>\n      <td>Andrew</td>\n      <td>General Manager</td>\n      <td>NaN</td>\n      <td>1962-02-18</td>\n      <td>2002-08-14</td>\n      <td>11120 Jasper Ave NW</td>\n      <td>Edmonton</td>\n      <td>AB</td>\n      <td>Canada</td>\n      <td>T5K 2N1</td>\n      <td>+1 (780) 428-9482</td>\n      <td>+1 (780) 428-3457</td>\n      <td>andrew@chinookcorp.com</td>\n    </tr>\n    <tr>\n      <th>2</th>\n      <td>Edwards</td>\n      <td>Nancy</td>\n      <td>Sales Manager</td>\n      <td>1.0</td>\n      <td>1958-12-08</td>\n      <td>2002-05-01</td>\n      <td>825 8 Ave SW</td>\n      <td>Calgary</td>\n      <td>AB</td>\n      <td>Canada</td>\n      <td>T2P 2T3</td>\n      <td>+1 (403) 262-3443</td>\n      <td>+1 (403) 262-3322</td>\n      <td>nancy@chinookcorp.com</td>\n    </tr>\n    <tr>\n      <th>3</th>\n      <td>Peacock</td>\n      <td>Jane</td>\n      <td>Sales Support Agent</td>\n      <td>2.0</td>\n      <td>1973-08-29</td>\n      <td>2002-04-01</td>\n      <td>1111 6 Ave SW</td>\n      <td>Calgary</td>\n      <td>AB</td>\n      <td>Canada</td>\n      <td>T2P 5M5</td>\n      <td>+1 (403) 262-3443</td>\n      <td>+1 (403) 262-6712</td>\n      <td>jane@chinookcorp.com</td>\n    </tr>\n    <tr>\n      <th>4</th>\n      <td>Park</td>\n      <td>Margaret</td>\n      <td>Sales Support Agent</td>\n      <td>2.0</td>\n      <td>1947-09-19</td>\n      <td>2003-05-03</td>\n      <td>683 10 Street SW</td>\n      <td>Calgary</td>\n      <td>AB</td>\n      <td>Canada</td>\n      <td>T2P 5G3</td>\n      <td>+1 (403) 263-4423</td>\n      <td>+1 (403) 263-4289</td>\n      <td>margaret@chinookcorp.com</td>\n    </tr>\n    <tr>\n      <th>5</th>\n      <td>Johnson</td>\n      <td>Steve</td>\n      <td>Sales Support Agent</td>\n      <td>2.0</td>\n      <td>1965-03-03</td>\n      <td>2003-10-17</td>\n      <td>7727B 41 Ave</td>\n      <td>Calgary</td>\n      <td>AB</td>\n      <td>Canada</td>\n      <td>T3B 1Y7</td>\n      <td>1 (780) 836-9987</td>\n      <td>1 (780) 836-9543</td>\n      <td>steve@chinookcorp.com</td>\n    </tr>\n  </tbody>\n</table>\n</div>"
     },
     "metadata": {},
     "execution_count": 18
    }
   ],
   "source": [
    "employees_df.head()"
   ]
  },
  {
   "cell_type": "code",
   "execution_count": 19,
   "metadata": {},
   "outputs": [],
   "source": [
    "album_df = pd.read_sql_query('SELECT * FROM albums', engine, index_col='AlbumId')"
   ]
  },
  {
   "cell_type": "code",
   "execution_count": 20,
   "metadata": {},
   "outputs": [
    {
     "output_type": "execute_result",
     "data": {
      "text/plain": [
       "                                         Title  ArtistId\n",
       "AlbumId                                                 \n",
       "1        For Those About To Rock We Salute You         1\n",
       "2                            Balls to the Wall         2\n",
       "3                            Restless and Wild         2\n",
       "4                            Let There Be Rock         1\n",
       "5                                     Big Ones         3"
      ],
      "text/html": "<div>\n<style scoped>\n    .dataframe tbody tr th:only-of-type {\n        vertical-align: middle;\n    }\n\n    .dataframe tbody tr th {\n        vertical-align: top;\n    }\n\n    .dataframe thead th {\n        text-align: right;\n    }\n</style>\n<table border=\"1\" class=\"dataframe\">\n  <thead>\n    <tr style=\"text-align: right;\">\n      <th></th>\n      <th>Title</th>\n      <th>ArtistId</th>\n    </tr>\n    <tr>\n      <th>AlbumId</th>\n      <th></th>\n      <th></th>\n    </tr>\n  </thead>\n  <tbody>\n    <tr>\n      <th>1</th>\n      <td>For Those About To Rock We Salute You</td>\n      <td>1</td>\n    </tr>\n    <tr>\n      <th>2</th>\n      <td>Balls to the Wall</td>\n      <td>2</td>\n    </tr>\n    <tr>\n      <th>3</th>\n      <td>Restless and Wild</td>\n      <td>2</td>\n    </tr>\n    <tr>\n      <th>4</th>\n      <td>Let There Be Rock</td>\n      <td>1</td>\n    </tr>\n    <tr>\n      <th>5</th>\n      <td>Big Ones</td>\n      <td>3</td>\n    </tr>\n  </tbody>\n</table>\n</div>"
     },
     "metadata": {},
     "execution_count": 20
    }
   ],
   "source": [
    "album_df.head()"
   ]
  },
  {
   "cell_type": "code",
   "execution_count": 21,
   "metadata": {},
   "outputs": [
    {
     "output_type": "execute_result",
     "data": {
      "text/plain": [
       "(347, 2)"
      ]
     },
     "metadata": {},
     "execution_count": 21
    }
   ],
   "source": [
    "album_df.shape"
   ]
  },
  {
   "cell_type": "code",
   "execution_count": 22,
   "metadata": {},
   "outputs": [],
   "source": [
    "artist_album = art_df.merge(album_df, on='ArtistId')"
   ]
  },
  {
   "cell_type": "code",
   "execution_count": 23,
   "metadata": {},
   "outputs": [],
   "source": [
    "artist_album.set_index('Title', inplace=True)"
   ]
  },
  {
   "cell_type": "code",
   "execution_count": 24,
   "metadata": {},
   "outputs": [
    {
     "output_type": "execute_result",
     "data": {
      "text/plain": [
       "                                          ArtistId                  Name\n",
       "Title                                                                   \n",
       "For Those About To Rock We Salute You            1                 AC/DC\n",
       "Let There Be Rock                                1                 AC/DC\n",
       "Balls to the Wall                                2                Accept\n",
       "Restless and Wild                                2                Accept\n",
       "Big Ones                                         3             Aerosmith\n",
       "Jagged Little Pill                               4     Alanis Morissette\n",
       "Facelift                                         5       Alice In Chains\n",
       "Warner 25 Anos                                   6  Antônio Carlos Jobim\n",
       "Chill: Brazil (Disc 2)                           6  Antônio Carlos Jobim\n",
       "Plays Metallica By Four Cellos                   7          Apocalyptica\n",
       "Audioslave                                       8            Audioslave\n",
       "Out Of Exile                                     8            Audioslave\n",
       "Revelations                                      8            Audioslave\n",
       "BackBeat Soundtrack                              9              BackBeat\n",
       "The Best Of Billy Cobham                        10          Billy Cobham\n",
       "Alcohol Fueled Brewtality Live! [Disc 1]        11   Black Label Society\n",
       "Alcohol Fueled Brewtality Live! [Disc 2]        11   Black Label Society\n",
       "Black Sabbath                                   12         Black Sabbath\n",
       "Black Sabbath Vol. 4 (Remaster)                 12         Black Sabbath\n",
       "Body Count                                      13            Body Count"
      ],
      "text/html": "<div>\n<style scoped>\n    .dataframe tbody tr th:only-of-type {\n        vertical-align: middle;\n    }\n\n    .dataframe tbody tr th {\n        vertical-align: top;\n    }\n\n    .dataframe thead th {\n        text-align: right;\n    }\n</style>\n<table border=\"1\" class=\"dataframe\">\n  <thead>\n    <tr style=\"text-align: right;\">\n      <th></th>\n      <th>ArtistId</th>\n      <th>Name</th>\n    </tr>\n    <tr>\n      <th>Title</th>\n      <th></th>\n      <th></th>\n    </tr>\n  </thead>\n  <tbody>\n    <tr>\n      <th>For Those About To Rock We Salute You</th>\n      <td>1</td>\n      <td>AC/DC</td>\n    </tr>\n    <tr>\n      <th>Let There Be Rock</th>\n      <td>1</td>\n      <td>AC/DC</td>\n    </tr>\n    <tr>\n      <th>Balls to the Wall</th>\n      <td>2</td>\n      <td>Accept</td>\n    </tr>\n    <tr>\n      <th>Restless and Wild</th>\n      <td>2</td>\n      <td>Accept</td>\n    </tr>\n    <tr>\n      <th>Big Ones</th>\n      <td>3</td>\n      <td>Aerosmith</td>\n    </tr>\n    <tr>\n      <th>Jagged Little Pill</th>\n      <td>4</td>\n      <td>Alanis Morissette</td>\n    </tr>\n    <tr>\n      <th>Facelift</th>\n      <td>5</td>\n      <td>Alice In Chains</td>\n    </tr>\n    <tr>\n      <th>Warner 25 Anos</th>\n      <td>6</td>\n      <td>Antônio Carlos Jobim</td>\n    </tr>\n    <tr>\n      <th>Chill: Brazil (Disc 2)</th>\n      <td>6</td>\n      <td>Antônio Carlos Jobim</td>\n    </tr>\n    <tr>\n      <th>Plays Metallica By Four Cellos</th>\n      <td>7</td>\n      <td>Apocalyptica</td>\n    </tr>\n    <tr>\n      <th>Audioslave</th>\n      <td>8</td>\n      <td>Audioslave</td>\n    </tr>\n    <tr>\n      <th>Out Of Exile</th>\n      <td>8</td>\n      <td>Audioslave</td>\n    </tr>\n    <tr>\n      <th>Revelations</th>\n      <td>8</td>\n      <td>Audioslave</td>\n    </tr>\n    <tr>\n      <th>BackBeat Soundtrack</th>\n      <td>9</td>\n      <td>BackBeat</td>\n    </tr>\n    <tr>\n      <th>The Best Of Billy Cobham</th>\n      <td>10</td>\n      <td>Billy Cobham</td>\n    </tr>\n    <tr>\n      <th>Alcohol Fueled Brewtality Live! [Disc 1]</th>\n      <td>11</td>\n      <td>Black Label Society</td>\n    </tr>\n    <tr>\n      <th>Alcohol Fueled Brewtality Live! [Disc 2]</th>\n      <td>11</td>\n      <td>Black Label Society</td>\n    </tr>\n    <tr>\n      <th>Black Sabbath</th>\n      <td>12</td>\n      <td>Black Sabbath</td>\n    </tr>\n    <tr>\n      <th>Black Sabbath Vol. 4 (Remaster)</th>\n      <td>12</td>\n      <td>Black Sabbath</td>\n    </tr>\n    <tr>\n      <th>Body Count</th>\n      <td>13</td>\n      <td>Body Count</td>\n    </tr>\n  </tbody>\n</table>\n</div>"
     },
     "metadata": {},
     "execution_count": 24
    }
   ],
   "source": [
    "artist_album.head(20)"
   ]
  },
  {
   "source": [
    "## Advanced Querying with relationship"
   ],
   "cell_type": "markdown",
   "metadata": {}
  },
  {
   "cell_type": "code",
   "execution_count": 25,
   "metadata": {},
   "outputs": [
    {
     "output_type": "execute_result",
     "data": {
      "text/plain": [
       "['albums',\n",
       " 'artists',\n",
       " 'customers',\n",
       " 'employees',\n",
       " 'employees2',\n",
       " 'genres',\n",
       " 'invoice_items',\n",
       " 'invoices',\n",
       " 'media_types',\n",
       " 'playlist_track',\n",
       " 'playlists',\n",
       " 'sqlite_sequence',\n",
       " 'sqlite_stat1',\n",
       " 'tracks']"
      ]
     },
     "metadata": {},
     "execution_count": 25
    }
   ],
   "source": [
    "engine.table_names()"
   ]
  },
  {
   "cell_type": "code",
   "execution_count": 26,
   "metadata": {},
   "outputs": [],
   "source": [
    "music_df = pd.read_sql_query(\n",
    "    'SELECT tracks.TrackId, tracks.Name, tracks.Composer, albums.Title, artists.Name FROM ((tracks INNER JOIN albums ON tracks.AlbumId == albums.AlbumId) INNER JOIN artists ON artists.ArtistId == albums.ArtistId)', \n",
    "    engine, index_col='TrackId')"
   ]
  },
  {
   "cell_type": "code",
   "execution_count": 27,
   "metadata": {},
   "outputs": [],
   "source": [
    "music_df.columns = ['Track Name', 'Composer', 'Album Title', 'Artist Name']"
   ]
  },
  {
   "cell_type": "code",
   "execution_count": 28,
   "metadata": {},
   "outputs": [
    {
     "output_type": "execute_result",
     "data": {
      "text/plain": [
       "                                                Track Name Composer  \\\n",
       "TrackId                                                               \n",
       "2                                        Balls to the Wall     None   \n",
       "63                                              Desafinado     None   \n",
       "64                                       Garota De Ipanema     None   \n",
       "65                   Samba De Uma Nota Só (One Note Samba)     None   \n",
       "66                                       Por Causa De Você     None   \n",
       "...                                                    ...      ...   \n",
       "3478                                              Slowness     None   \n",
       "3481     A Midsummer Night's Dream, Op.61 Incidental Mu...     None   \n",
       "3496       Étude 1, In C Major - Preludio (Presto) - Liszt     None   \n",
       "3497                                       Erlkonig, D.328     None   \n",
       "3499     Pini Di Roma (Pinien Von Rom) \\ I Pini Della V...     None   \n",
       "\n",
       "                                               Album Title  \\\n",
       "TrackId                                                      \n",
       "2                                        Balls to the Wall   \n",
       "63                                          Warner 25 Anos   \n",
       "64                                          Warner 25 Anos   \n",
       "65                                          Warner 25 Anos   \n",
       "66                                          Warner 25 Anos   \n",
       "...                                                    ...   \n",
       "3478                 Carried to Dust (Bonus Track Version)   \n",
       "3481                Mendelssohn: A Midsummer Night's Dream   \n",
       "3496           Liszt - 12 Études D'Execution Transcendante   \n",
       "3497     Great Recordings of the Century - Shubert: Sch...   \n",
       "3499                                Respighi:Pines of Rome   \n",
       "\n",
       "                                           Artist Name  \n",
       "TrackId                                                 \n",
       "2                                               Accept  \n",
       "63                                Antônio Carlos Jobim  \n",
       "64                                Antônio Carlos Jobim  \n",
       "65                                Antônio Carlos Jobim  \n",
       "66                                Antônio Carlos Jobim  \n",
       "...                                                ...  \n",
       "3478                                          Calexico  \n",
       "3481     Philharmonia Orchestra & Sir Neville Marriner  \n",
       "3496                                Michele Campanella  \n",
       "3497                                      Gerald Moore  \n",
       "3499                                    Eugene Ormandy  \n",
       "\n",
       "[978 rows x 4 columns]"
      ],
      "text/html": "<div>\n<style scoped>\n    .dataframe tbody tr th:only-of-type {\n        vertical-align: middle;\n    }\n\n    .dataframe tbody tr th {\n        vertical-align: top;\n    }\n\n    .dataframe thead th {\n        text-align: right;\n    }\n</style>\n<table border=\"1\" class=\"dataframe\">\n  <thead>\n    <tr style=\"text-align: right;\">\n      <th></th>\n      <th>Track Name</th>\n      <th>Composer</th>\n      <th>Album Title</th>\n      <th>Artist Name</th>\n    </tr>\n    <tr>\n      <th>TrackId</th>\n      <th></th>\n      <th></th>\n      <th></th>\n      <th></th>\n    </tr>\n  </thead>\n  <tbody>\n    <tr>\n      <th>2</th>\n      <td>Balls to the Wall</td>\n      <td>None</td>\n      <td>Balls to the Wall</td>\n      <td>Accept</td>\n    </tr>\n    <tr>\n      <th>63</th>\n      <td>Desafinado</td>\n      <td>None</td>\n      <td>Warner 25 Anos</td>\n      <td>Antônio Carlos Jobim</td>\n    </tr>\n    <tr>\n      <th>64</th>\n      <td>Garota De Ipanema</td>\n      <td>None</td>\n      <td>Warner 25 Anos</td>\n      <td>Antônio Carlos Jobim</td>\n    </tr>\n    <tr>\n      <th>65</th>\n      <td>Samba De Uma Nota Só (One Note Samba)</td>\n      <td>None</td>\n      <td>Warner 25 Anos</td>\n      <td>Antônio Carlos Jobim</td>\n    </tr>\n    <tr>\n      <th>66</th>\n      <td>Por Causa De Você</td>\n      <td>None</td>\n      <td>Warner 25 Anos</td>\n      <td>Antônio Carlos Jobim</td>\n    </tr>\n    <tr>\n      <th>...</th>\n      <td>...</td>\n      <td>...</td>\n      <td>...</td>\n      <td>...</td>\n    </tr>\n    <tr>\n      <th>3478</th>\n      <td>Slowness</td>\n      <td>None</td>\n      <td>Carried to Dust (Bonus Track Version)</td>\n      <td>Calexico</td>\n    </tr>\n    <tr>\n      <th>3481</th>\n      <td>A Midsummer Night's Dream, Op.61 Incidental Mu...</td>\n      <td>None</td>\n      <td>Mendelssohn: A Midsummer Night's Dream</td>\n      <td>Philharmonia Orchestra &amp; Sir Neville Marriner</td>\n    </tr>\n    <tr>\n      <th>3496</th>\n      <td>Étude 1, In C Major - Preludio (Presto) - Liszt</td>\n      <td>None</td>\n      <td>Liszt - 12 Études D'Execution Transcendante</td>\n      <td>Michele Campanella</td>\n    </tr>\n    <tr>\n      <th>3497</th>\n      <td>Erlkonig, D.328</td>\n      <td>None</td>\n      <td>Great Recordings of the Century - Shubert: Sch...</td>\n      <td>Gerald Moore</td>\n    </tr>\n    <tr>\n      <th>3499</th>\n      <td>Pini Di Roma (Pinien Von Rom) \\ I Pini Della V...</td>\n      <td>None</td>\n      <td>Respighi:Pines of Rome</td>\n      <td>Eugene Ormandy</td>\n    </tr>\n  </tbody>\n</table>\n<p>978 rows × 4 columns</p>\n</div>"
     },
     "metadata": {},
     "execution_count": 28
    }
   ],
   "source": [
    "music_df[music_df['Composer'].isna()]"
   ]
  },
  {
   "cell_type": "code",
   "execution_count": null,
   "metadata": {},
   "outputs": [],
   "source": []
  }
 ]
}